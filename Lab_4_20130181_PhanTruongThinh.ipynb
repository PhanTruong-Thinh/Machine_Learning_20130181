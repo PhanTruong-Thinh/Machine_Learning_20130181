{
  "nbformat": 4,
  "nbformat_minor": 0,
  "metadata": {
    "colab": {
      "provenance": []
    },
    "kernelspec": {
      "name": "python3",
      "display_name": "Python 3"
    },
    "language_info": {
      "name": "python"
    }
  },
  "cells": [
    {
      "cell_type": "markdown",
      "source": [
        "# This lab is to continous dealing with **Logistic Regression**, **kNN**, and **Decision Tree** alogirthms applied to classification tasks. \n",
        "\n",
        "*   **Deadline: 23:59, 12/03/2023**\n",
        "\n"
      ],
      "metadata": {
        "id": "LMzehe0sy5wr"
      }
    },
    {
      "cell_type": "code",
      "source": [
        "from google.colab import drive\n",
        "drive.mount('/content/drive')\n",
        "%cd /content/drive/MyDrive/Machine Learning"
      ],
      "metadata": {
        "colab": {
          "base_uri": "https://localhost:8080/"
        },
        "id": "hXQinpB4M2PR",
        "outputId": "1e22dd75-bb44-496d-8365-2643828974d0"
      },
      "execution_count": 3,
      "outputs": [
        {
          "output_type": "stream",
          "name": "stdout",
          "text": [
            "Drive already mounted at /content/drive; to attempt to forcibly remount, call drive.mount(\"/content/drive\", force_remount=True).\n",
            "/content/drive/MyDrive/Machine Learning\n"
          ]
        }
      ]
    },
    {
      "cell_type": "markdown",
      "source": [
        "# Import libraries"
      ],
      "metadata": {
        "id": "H4nJmxp9zGX4"
      }
    },
    {
      "cell_type": "code",
      "execution_count": 69,
      "metadata": {
        "id": "DoVWQ8AEyc-C"
      },
      "outputs": [],
      "source": [
        "# code\n",
        "import matplotlib.pyplot as plt\n",
        "import pandas as pd\n",
        "from sklearn import linear_model, model_selection, metrics, datasets, neighbors, tree\n"
      ]
    },
    {
      "cell_type": "markdown",
      "source": [
        "#Task 1. \n",
        "Apply **LogisticRegression** to iris dataset which aims at classifying species of iris based on sepal_length (chiều dài đài hoa), sepal_width, petal_length (chiều dài cánh hoa), petal_width. The species are '**setosa**' '**versicolor**' and '**virginica**'. \n",
        "\n",
        "\n",
        "\n",
        "```\n",
        "from sklearn import datasets\n",
        "data4 = datasets.load_iris()\n",
        "```\n",
        "\n",
        "\n"
      ],
      "metadata": {
        "id": "kNv07ARGzOUm"
      }
    },
    {
      "cell_type": "code",
      "source": [
        "#load datasets\n",
        "data4 = datasets.load_iris()\n",
        "\n",
        "#tao cac tap train, test\n",
        "X1_train, X1_test, y1_train, y1_test = model_selection.train_test_split(data4['data'], data4['target'], train_size=0.2, random_state=11)\n",
        "\n",
        "#khai bao LogisticRegression\n",
        "classifier = linear_model.LogisticRegression(random_state=0)\n",
        "classifier.fit(X1_train, y1_train)\n",
        "\n",
        "y1_pred = classifier.predict(X1_test)\n",
        "\n",
        "cm = metrics.confusion_matrix(y1_test, y1_pred)\n",
        "print(cm)\n",
        "\n",
        "accuracy = metrics.accuracy_score(y1_test,y1_pred)\n",
        "pricision = metrics.precision_score(y1_test, y1_pred, average=\"micro\")\n",
        "recall = metrics.recall_score(y1_test, y1_pred, average=\"micro\")\n",
        "f1 = metrics.f1_score(y1_test, y1_pred, average=\"micro\")\n",
        "\n",
        "print('Accuracy: ', accuracy)\n",
        "print('Pricision: ', pricision )\n",
        "print('Recall: ', recall)\n",
        "print('F1: ', f1)\n",
        "\n",
        "metrics.ConfusionMatrixDisplay.from_estimator(classifier, X1_test, y1_test)"
      ],
      "metadata": {
        "id": "sOsg77IBzEyo",
        "colab": {
          "base_uri": "https://localhost:8080/",
          "height": 425
        },
        "outputId": "4192f870-a38e-4314-b756-82b17ff00573"
      },
      "execution_count": 36,
      "outputs": [
        {
          "output_type": "stream",
          "name": "stdout",
          "text": [
            "[[43  0  0]\n",
            " [ 0 36  1]\n",
            " [ 0  5 35]]\n",
            "Accuracy:  0.95\n",
            "Pricision:  0.95\n",
            "Recall:  0.95\n",
            "F1:  0.9500000000000001\n"
          ]
        },
        {
          "output_type": "execute_result",
          "data": {
            "text/plain": [
              "<sklearn.metrics._plot.confusion_matrix.ConfusionMatrixDisplay at 0x7fc8c5e47100>"
            ]
          },
          "metadata": {},
          "execution_count": 36
        },
        {
          "output_type": "display_data",
          "data": {
            "text/plain": [
              "<Figure size 432x288 with 2 Axes>"
            ],
            "image/png": "[encoded data removed]"
          },
          "metadata": {
            "needs_background": "light"
          }
        }
      ]
    },
    {
      "cell_type": "markdown",
      "source": [
        "#Task 2. \n",
        "Apply LogisticRegression to **MNIST** dataset (mnist.csv) which aims at classifying handwritten digits. Dataset includes 784 pixels values of images (28x28). \n",
        "\n",
        "\n",
        "```\n",
        "from sklearn import datasets\n",
        "# load the MNIST digits dataset\n",
        "mnist = datasets.load_digits()\n",
        "```\n",
        "\n"
      ],
      "metadata": {
        "id": "S43IoUT-0OQq"
      }
    },
    {
      "cell_type": "code",
      "source": [
        "# load datasets\n",
        "mnist = datasets.load_digits()\n",
        "\n",
        "X2_train, X2_test, y2_train, y2_test = model_selection.train_test_split(mnist['data'], mnist['target'], train_size=0.3, random_state=11)\n",
        "\n",
        "classifier_2 = linear_model.LogisticRegression(random_state=0)\n",
        "classifier_2.fit(X2_train, y2_train)\n",
        "\n",
        "y2_pred = classifier_2.predict(X2_test)\n",
        "\n",
        "cm_2 = metrics.confusion_matrix(y2_test, y2_pred)\n",
        "print(cm_2)\n",
        "\n",
        "accuracy_2 = metrics.accuracy_score(y2_test,y2_pred)\n",
        "pricision_2 = metrics.precision_score(y2_test, y2_pred, average=\"micro\")\n",
        "recall_2 = metrics.recall_score(y2_test, y2_pred, average=\"micro\")\n",
        "f1_2 = metrics.f1_score(y2_test, y2_pred, average=\"micro\")\n",
        "\n",
        "print('Accuracy: ', accuracy_2)\n",
        "print('Pricision: ', pricision_2 )\n",
        "print('Recall: ', recall_2)\n",
        "print('F1: ', f1_2)\n",
        "\n",
        "metrics.ConfusionMatrixDisplay.from_estimator(classifier_2, X2_test, y2_test)\n",
        "print(\"y1: \",y1_train)\n",
        "data4"
      ],
      "metadata": {
        "id": "_xhPpF5b033h",
        "colab": {
          "base_uri": "https://localhost:8080/",
          "height": 1000
        },
        "outputId": "a5d5186f-f216-43ea-a4ac-c3f6ba304609"
      },
      "execution_count": 63,
      "outputs": [
        {
          "output_type": "stream",
          "name": "stderr",
          "text": [
            "/usr/local/lib/python3.8/dist-packages/sklearn/linear_model/_logistic.py:458: ConvergenceWarning: lbfgs failed to converge (status=1):\n",
            "STOP: TOTAL NO. of ITERATIONS REACHED LIMIT.\n",
            "\n",
            "Increase the number of iterations (max_iter) or scale the data as shown in:\n",
            "    https://scikit-learn.org/stable/modules/preprocessing.html\n",
            "Please also refer to the documentation for alternative solver options:\n",
            "    https://scikit-learn.org/stable/modules/linear_model.html#logistic-regression\n",
            "  n_iter_i = _check_optimize_result(\n"
          ]
        },
        {
          "output_type": "stream",
          "name": "stdout",
          "text": [
            "[[119   0   1   0   1   0   0   0   0   0]\n",
            " [  0 113   1   2   1   0   1   0   6   5]\n",
            " [  0   3 128   4   0   0   0   0   0   0]\n",
            " [  0   0   1 115   0   4   0   0   0   1]\n",
            " [  0   1   0   0 128   0   0   1   1   2]\n",
            " [  1   0   1   0   1 129   0   0   0   4]\n",
            " [  0   1   0   0   0   1 121   0   1   0]\n",
            " [  0   0   0   1   0   0   0 121   1   1]\n",
            " [  0   4   1   3   0   2   3   0 106   0]\n",
            " [  0   0   0   0   0   0   0   1   0 115]]\n",
            "Accuracy:  0.9499205087440381\n",
            "Pricision:  0.9499205087440381\n",
            "Recall:  0.9499205087440381\n",
            "F1:  0.9499205087440381\n",
            "y1:  [2 0 0 1 1 2 1 2 2 1 1 2 2 0 1 2 0 2 2 0 1 2 0 1 1 1 0 1 1 1]\n"
          ]
        },
        {
          "output_type": "execute_result",
          "data": {
            "text/plain": [
              "{'data': array([[5.1, 3.5, 1.4, 0.2],\n",
              "        [4.9, 3. , 1.4, 0.2],\n",
              "        [4.7, 3.2, 1.3, 0.2],\n",
              "        [4.6, 3.1, 1.5, 0.2],\n",
              "        [5. , 3.6, 1.4, 0.2],\n",
              "        [5.4, 3.9, 1.7, 0.4],\n",
              "        [4.6, 3.4, 1.4, 0.3],\n",
              "        [5. , 3.4, 1.5, 0.2],\n",
              "        [4.4, 2.9, 1.4, 0.2],\n",
              "        [4.9, 3.1, 1.5, 0.1],\n",
              "        [5.4, 3.7, 1.5, 0.2],\n",
              "        [4.8, 3.4, 1.6, 0.2],\n",
              "        [4.8, 3. , 1.4, 0.1],\n",
              "        [4.3, 3. , 1.1, 0.1],\n",
              "        [5.8, 4. , 1.2, 0.2],\n",
              "        [5.7, 4.4, 1.5, 0.4],\n",
              "        [5.4, 3.9, 1.3, 0.4],\n",
              "        [5.1, 3.5, 1.4, 0.3],\n",
              "        [5.7, 3.8, 1.7, 0.3],\n",
              "        [5.1, 3.8, 1.5, 0.3],\n",
              "        [5.4, 3.4, 1.7, 0.2],\n",
              "        [5.1, 3.7, 1.5, 0.4],\n",
              "        [4.6, 3.6, 1. , 0.2],\n",
              "        [5.1, 3.3, 1.7, 0.5],\n",
              "        [4.8, 3.4, 1.9, 0.2],\n",
              "        [5. , 3. , 1.6, 0.2],\n",
              "        [5. , 3.4, 1.6, 0.4],\n",
              "        [5.2, 3.5, 1.5, 0.2],\n",
              "        [5.2, 3.4, 1.4, 0.2],\n",
              "        [4.7, 3.2, 1.6, 0.2],\n",
              "        [4.8, 3.1, 1.6, 0.2],\n",
              "        [5.4, 3.4, 1.5, 0.4],\n",
              "        [5.2, 4.1, 1.5, 0.1],\n",
              "        [5.5, 4.2, 1.4, 0.2],\n",
              "        [4.9, 3.1, 1.5, 0.2],\n",
              "        [5. , 3.2, 1.2, 0.2],\n",
              "        [5.5, 3.5, 1.3, 0.2],\n",
              "        [4.9, 3.6, 1.4, 0.1],\n",
              "        [4.4, 3. , 1.3, 0.2],\n",
              "        [5.1, 3.4, 1.5, 0.2],\n",
              "        [5. , 3.5, 1.3, 0.3],\n",
              "        [4.5, 2.3, 1.3, 0.3],\n",
              "        [4.4, 3.2, 1.3, 0.2],\n",
              "        [5. , 3.5, 1.6, 0.6],\n",
              "        [5.1, 3.8, 1.9, 0.4],\n",
              "        [4.8, 3. , 1.4, 0.3],\n",
              "        [5.1, 3.8, 1.6, 0.2],\n",
              "        [4.6, 3.2, 1.4, 0.2],\n",
              "        [5.3, 3.7, 1.5, 0.2],\n",
              "        [5. , 3.3, 1.4, 0.2],\n",
              "        [7. , 3.2, 4.7, 1.4],\n",
              "        [6.4, 3.2, 4.5, 1.5],\n",
              "        [6.9, 3.1, 4.9, 1.5],\n",
              "        [5.5, 2.3, 4. , 1.3],\n",
              "        [6.5, 2.8, 4.6, 1.5],\n",
              "        [5.7, 2.8, 4.5, 1.3],\n",
              "        [6.3, 3.3, 4.7, 1.6],\n",
              "        [4.9, 2.4, 3.3, 1. ],\n",
              "        [6.6, 2.9, 4.6, 1.3],\n",
              "        [5.2, 2.7, 3.9, 1.4],\n",
              "        [5. , 2. , 3.5, 1. ],\n",
              "        [5.9, 3. , 4.2, 1.5],\n",
              "        [6. , 2.2, 4. , 1. ],\n",
              "        [6.1, 2.9, 4.7, 1.4],\n",
              "        [5.6, 2.9, 3.6, 1.3],\n",
              "        [6.7, 3.1, 4.4, 1.4],\n",
              "        [5.6, 3. , 4.5, 1.5],\n",
              "        [5.8, 2.7, 4.1, 1. ],\n",
              "        [6.2, 2.2, 4.5, 1.5],\n",
              "        [5.6, 2.5, 3.9, 1.1],\n",
              "        [5.9, 3.2, 4.8, 1.8],\n",
              "        [6.1, 2.8, 4. , 1.3],\n",
              "        [6.3, 2.5, 4.9, 1.5],\n",
              "        [6.1, 2.8, 4.7, 1.2],\n",
              "        [6.4, 2.9, 4.3, 1.3],\n",
              "        [6.6, 3. , 4.4, 1.4],\n",
              "        [6.8, 2.8, 4.8, 1.4],\n",
              "        [6.7, 3. , 5. , 1.7],\n",
              "        [6. , 2.9, 4.5, 1.5],\n",
              "        [5.7, 2.6, 3.5, 1. ],\n",
              "        [5.5, 2.4, 3.8, 1.1],\n",
              "        [5.5, 2.4, 3.7, 1. ],\n",
              "        [5.8, 2.7, 3.9, 1.2],\n",
              "        [6. , 2.7, 5.1, 1.6],\n",
              "        [5.4, 3. , 4.5, 1.5],\n",
              "        [6. , 3.4, 4.5, 1.6],\n",
              "        [6.7, 3.1, 4.7, 1.5],\n",
              "        [6.3, 2.3, 4.4, 1.3],\n",
              "        [5.6, 3. , 4.1, 1.3],\n",
              "        [5.5, 2.5, 4. , 1.3],\n",
              "        [5.5, 2.6, 4.4, 1.2],\n",
              "        [6.1, 3. , 4.6, 1.4],\n",
              "        [5.8, 2.6, 4. , 1.2],\n",
              "        [5. , 2.3, 3.3, 1. ],\n",
              "        [5.6, 2.7, 4.2, 1.3],\n",
              "        [5.7, 3. , 4.2, 1.2],\n",
              "        [5.7, 2.9, 4.2, 1.3],\n",
              "        [6.2, 2.9, 4.3, 1.3],\n",
              "        [5.1, 2.5, 3. , 1.1],\n",
              "        [5.7, 2.8, 4.1, 1.3],\n",
              "        [6.3, 3.3, 6. , 2.5],\n",
              "        [5.8, 2.7, 5.1, 1.9],\n",
              "        [7.1, 3. , 5.9, 2.1],\n",
              "        [6.3, 2.9, 5.6, 1.8],\n",
              "        [6.5, 3. , 5.8, 2.2],\n",
              "        [7.6, 3. , 6.6, 2.1],\n",
              "        [4.9, 2.5, 4.5, 1.7],\n",
              "        [7.3, 2.9, 6.3, 1.8],\n",
              "        [6.7, 2.5, 5.8, 1.8],\n",
              "        [7.2, 3.6, 6.1, 2.5],\n",
              "        [6.5, 3.2, 5.1, 2. ],\n",
              "        [6.4, 2.7, 5.3, 1.9],\n",
              "        [6.8, 3. , 5.5, 2.1],\n",
              "        [5.7, 2.5, 5. , 2. ],\n",
              "        [5.8, 2.8, 5.1, 2.4],\n",
              "        [6.4, 3.2, 5.3, 2.3],\n",
              "        [6.5, 3. , 5.5, 1.8],\n",
              "        [7.7, 3.8, 6.7, 2.2],\n",
              "        [7.7, 2.6, 6.9, 2.3],\n",
              "        [6. , 2.2, 5. , 1.5],\n",
              "        [6.9, 3.2, 5.7, 2.3],\n",
              "        [5.6, 2.8, 4.9, 2. ],\n",
              "        [7.7, 2.8, 6.7, 2. ],\n",
              "        [6.3, 2.7, 4.9, 1.8],\n",
              "        [6.7, 3.3, 5.7, 2.1],\n",
              "        [7.2, 3.2, 6. , 1.8],\n",
              "        [6.2, 2.8, 4.8, 1.8],\n",
              "        [6.1, 3. , 4.9, 1.8],\n",
              "        [6.4, 2.8, 5.6, 2.1],\n",
              "        [7.2, 3. , 5.8, 1.6],\n",
              "        [7.4, 2.8, 6.1, 1.9],\n",
              "        [7.9, 3.8, 6.4, 2. ],\n",
              "        [6.4, 2.8, 5.6, 2.2],\n",
              "        [6.3, 2.8, 5.1, 1.5],\n",
              "        [6.1, 2.6, 5.6, 1.4],\n",
              "        [7.7, 3. , 6.1, 2.3],\n",
              "        [6.3, 3.4, 5.6, 2.4],\n",
              "        [6.4, 3.1, 5.5, 1.8],\n",
              "        [6. , 3. , 4.8, 1.8],\n",
              "        [6.9, 3.1, 5.4, 2.1],\n",
              "        [6.7, 3.1, 5.6, 2.4],\n",
              "        [6.9, 3.1, 5.1, 2.3],\n",
              "        [5.8, 2.7, 5.1, 1.9],\n",
              "        [6.8, 3.2, 5.9, 2.3],\n",
              "        [6.7, 3.3, 5.7, 2.5],\n",
              "        [6.7, 3. , 5.2, 2.3],\n",
              "        [6.3, 2.5, 5. , 1.9],\n",
              "        [6.5, 3. , 5.2, 2. ],\n",
              "        [6.2, 3.4, 5.4, 2.3],\n",
              "        [5.9, 3. , 5.1, 1.8]]),\n",
              " 'target': array([0, 0, 0, 0, 0, 0, 0, 0, 0, 0, 0, 0, 0, 0, 0, 0, 0, 0, 0, 0, 0, 0,\n",
              "        0, 0, 0, 0, 0, 0, 0, 0, 0, 0, 0, 0, 0, 0, 0, 0, 0, 0, 0, 0, 0, 0,\n",
              "        0, 0, 0, 0, 0, 0, 1, 1, 1, 1, 1, 1, 1, 1, 1, 1, 1, 1, 1, 1, 1, 1,\n",
              "        1, 1, 1, 1, 1, 1, 1, 1, 1, 1, 1, 1, 1, 1, 1, 1, 1, 1, 1, 1, 1, 1,\n",
              "        1, 1, 1, 1, 1, 1, 1, 1, 1, 1, 1, 1, 2, 2, 2, 2, 2, 2, 2, 2, 2, 2,\n",
              "        2, 2, 2, 2, 2, 2, 2, 2, 2, 2, 2, 2, 2, 2, 2, 2, 2, 2, 2, 2, 2, 2,\n",
              "        2, 2, 2, 2, 2, 2, 2, 2, 2, 2, 2, 2, 2, 2, 2, 2, 2, 2]),\n",
              " 'frame': None,\n",
              " 'target_names': array(['setosa', 'versicolor', 'virginica'], dtype='<U10'),\n",
              " 'DESCR': '.. _iris_dataset:\\n\\nIris plants dataset\\n--------------------\\n\\n**Data Set Characteristics:**\\n\\n    :Number of Instances: 150 (50 in each of three classes)\\n    :Number of Attributes: 4 numeric, predictive attributes and the class\\n    :Attribute Information:\\n        - sepal length in cm\\n        - sepal width in cm\\n        - petal length in cm\\n        - petal width in cm\\n        - class:\\n                - Iris-Setosa\\n                - Iris-Versicolour\\n                - Iris-Virginica\\n                \\n    :Summary Statistics:\\n\\n    ============== ==== ==== ======= ===== ====================\\n                    Min  Max   Mean    SD   Class Correlation\\n    ============== ==== ==== ======= ===== ====================\\n    sepal length:   4.3  7.9   5.84   0.83    0.7826\\n    sepal width:    2.0  4.4   3.05   0.43   -0.4194\\n    petal length:   1.0  6.9   3.76   1.76    0.9490  (high!)\\n    petal width:    0.1  2.5   1.20   0.76    0.9565  (high!)\\n    ============== ==== ==== ======= ===== ====================\\n\\n    :Missing Attribute Values: None\\n    :Class Distribution: 33.3% for each of 3 classes.\\n    :Creator: R.A. Fisher\\n    :Donor: Michael Marshall (MARSHALL%PLU@io.arc.nasa.gov)\\n    :Date: July, 1988\\n\\nThe famous Iris database, first used by Sir R.A. Fisher. The dataset is taken\\nfrom Fisher\\'s paper. Note that it\\'s the same as in R, but not as in the UCI\\nMachine Learning Repository, which has two wrong data points.\\n\\nThis is perhaps the best known database to be found in the\\npattern recognition literature.  Fisher\\'s paper is a classic in the field and\\nis referenced frequently to this day.  (See Duda & Hart, for example.)  The\\ndata set contains 3 classes of 50 instances each, where each class refers to a\\ntype of iris plant.  One class is linearly separable from the other 2; the\\nlatter are NOT linearly separable from each other.\\n\\n.. topic:: References\\n\\n   - Fisher, R.A. \"The use of multiple measurements in taxonomic problems\"\\n     Annual Eugenics, 7, Part II, 179-188 (1936); also in \"Contributions to\\n     Mathematical Statistics\" (John Wiley, NY, 1950).\\n   - Duda, R.O., & Hart, P.E. (1973) Pattern Classification and Scene Analysis.\\n     (Q327.D83) John Wiley & Sons.  ISBN 0-471-22361-1.  See page 218.\\n   - Dasarathy, B.V. (1980) \"Nosing Around the Neighborhood: A New System\\n     Structure and Classification Rule for Recognition in Partially Exposed\\n     Environments\".  IEEE Transactions on Pattern Analysis and Machine\\n     Intelligence, Vol. PAMI-2, No. 1, 67-71.\\n   - Gates, G.W. (1972) \"The Reduced Nearest Neighbor Rule\".  IEEE Transactions\\n     on Information Theory, May 1972, 431-433.\\n   - See also: 1988 MLC Proceedings, 54-64.  Cheeseman et al\"s AUTOCLASS II\\n     conceptual clustering system finds 3 classes in the data.\\n   - Many, many more ...',\n",
              " 'feature_names': ['sepal length (cm)',\n",
              "  'sepal width (cm)',\n",
              "  'petal length (cm)',\n",
              "  'petal width (cm)'],\n",
              " 'filename': 'iris.csv',\n",
              " 'data_module': 'sklearn.datasets.data'}"
            ]
          },
          "metadata": {},
          "execution_count": 63
        },
        {
          "output_type": "display_data",
          "data": {
            "text/plain": [
              "<Figure size 432x288 with 2 Axes>"
            ],
            "image/png": "[encoded data removed]"
          },
          "metadata": {
            "needs_background": "light"
          }
        }
      ]
    },
    {
      "cell_type": "markdown",
      "source": [
        "#Task 3. \n",
        "Apply another classification algorithm named kNN, which is an instance classifcation model. \n",
        "*  3.1. Perform kNN algorithm to Iris dataset with k={1, 3, 5, …, 29}. Select the best value of k.\n",
        "\n",
        "*   3.2. Then compare the obtained results with those using Logistic regression (based on metrics: accuracy, precision, recall, f1 measure).\n"
      ],
      "metadata": {
        "id": "Rti2y0Wz2KY9"
      }
    },
    {
      "cell_type": "code",
      "source": [
        "\n",
        "K_range = range(1,30,2)\n",
        "accuracy_arr =[]\n",
        "pricesion_arr = []\n",
        "recall_arr = []\n",
        "f1_arr = []\n",
        "\n",
        "for k in K_range:\n",
        "  KNN = neighbors.KNeighborsClassifier(n_neighbors=k)\n",
        "  KNN.fit(X1_train, y1_train)\n",
        "  y3_pred= KNN.predict(X1_test)\n",
        "  accuracy_arr.append(metrics.accuracy_score(y1_test,y3_pred))\n",
        "  pricesion_arr.append(metrics.precision_score(y1_test, y3_pred, average='micro'))\n",
        "  recall_arr.append(metrics.recall_score(y1_test, y3_pred, average='micro'))\n",
        "  f1_arr.append(metrics.f1_score(y1_test, y3_pred, average='micro'))\n",
        "\n",
        "plt.plot(K_range, accuracy_arr, label='Accuracy')\n",
        "plt.plot(K_range, pricesion_arr, label='Pricesion')\n",
        "plt.plot(K_range, recall_arr, label='Recall')\n",
        "plt.plot(K_range, f1_arr, label='F1')\n",
        "plt.xlabel('k')\n",
        "plt.legend()\n"
      ],
      "metadata": {
        "id": "13LkkfpS2ZUR",
        "colab": {
          "base_uri": "https://localhost:8080/",
          "height": 299
        },
        "outputId": "230b43c3-f680-4bc3-f168-d9da748969d9"
      },
      "execution_count": 37,
      "outputs": [
        {
          "output_type": "execute_result",
          "data": {
            "text/plain": [
              "<matplotlib.legend.Legend at 0x7fc8c5bbe040>"
            ]
          },
          "metadata": {},
          "execution_count": 37
        },
        {
          "output_type": "display_data",
          "data": {
            "text/plain": [
              "<Figure size 432x288 with 1 Axes>"
            ],
            "image/png": "[encoded data removed]"
          },
          "metadata": {
            "needs_background": "light"
          }
        }
      ]
    },
    {
      "cell_type": "markdown",
      "source": [
        "#Task 4. \n",
        "Similar to Task 3, apply kNN algorithm to **mnist** dataset which included in datasets of sklearn API.\n",
        "*  4.1.\tPerform kNN algorithm to Iris dataset with k={1, 3, 5, …, 29}. Select the best value of k.\n",
        "*  4.2.\tThen compare the obtained results with those using Logistic regression (based on metrics: accuracy, precision, recall, f1 measure).\n"
      ],
      "metadata": {
        "id": "b52OPWPD2afi"
      }
    },
    {
      "cell_type": "code",
      "source": [
        "K_range = range(1,30,2)\n",
        "accuracy_arr =[]\n",
        "pricesion_arr = []\n",
        "recall_arr = []\n",
        "f1_arr = []\n",
        "\n",
        "for k in K_range:\n",
        "  KNN = neighbors.KNeighborsClassifier(n_neighbors=k)\n",
        "  KNN.fit(X2_train, y2_train)\n",
        "  y4_pred= KNN.predict(X2_test)\n",
        "  accuracy_arr.append(metrics.accuracy_score(y2_test,y4_pred))\n",
        "  pricesion_arr.append(metrics.precision_score(y2_test, y4_pred, average='micro'))\n",
        "  recall_arr.append(metrics.recall_score(y2_test, y4_pred, average='micro'))\n",
        "  f1_arr.append(metrics.f1_score(y2_test, y4_pred, average='micro'))\n",
        "\n",
        "plt.plot(K_range, accuracy_arr, label='Accuracy')\n",
        "plt.plot(K_range, pricesion_arr, label='Pricesion')\n",
        "plt.plot(K_range, recall_arr, label='Recall')\n",
        "plt.plot(K_range, f1_arr, label='F1')\n",
        "plt.xlabel('k')\n",
        "plt.legend()\n"
      ],
      "metadata": {
        "id": "Rw_-8FIf2KxW",
        "colab": {
          "base_uri": "https://localhost:8080/",
          "height": 297
        },
        "outputId": "b579d0ad-8aff-426f-f4a1-e2d96cc046c9"
      },
      "execution_count": 38,
      "outputs": [
        {
          "output_type": "execute_result",
          "data": {
            "text/plain": [
              "<matplotlib.legend.Legend at 0x7fc8c5bbe0a0>"
            ]
          },
          "metadata": {},
          "execution_count": 38
        },
        {
          "output_type": "display_data",
          "data": {
            "text/plain": [
              "<Figure size 432x288 with 1 Axes>"
            ],
            "image/png": "[encoded data removed]"
          },
          "metadata": {
            "needs_background": "light"
          }
        }
      ]
    },
    {
      "cell_type": "markdown",
      "source": [
        "#Task 5. \n",
        "Compare the performance of selected classification algorithms (**Decision Treen, kNN, and Logistic Regression**) to ***spam detection***. The dataset can be accessed from the link: http://archive.ics.uci.edu/ml/datasets/Spambase \n",
        "Attribute Information:\n",
        "The last column of 'spambase.csv denotes whether the e-mail was considered spam (1) or not (0), i.e. unsolicited commercial e-mail. Most of the attributes indicate whether a particular word or character was frequently occuring in the e-mail. The run-length attributes (55-57) measure the length of sequences of consecutive capital letters. For the statistical measures of each attribute, see the end of this file. Here are the definitions of the attributes: \n",
        "*  48 continuous real [0,100] attributes of type word_freq_WORD \n",
        "= percentage of words in the e-mail that match WORD, i.e. 100 * (number of times the WORD appears in the e-mail) / total number of words in e-mail. A \"word\" in this case is any string of alphanumeric characters bounded by non-alphanumeric characters or end-of-string. **Example**: word_freq_address: percentage of words in the e-mail that match ADDRESS.\n",
        "*  6 continuous real [0,100] attributes of type char_freq_CHAR] \n",
        "= percentage of characters in the e-mail that match CHAR, i.e. 100 * (number of CHAR occurences) / total characters in e-mail\n",
        "*  1 continuous real [1,...] attribute of type capital_run_length_average \n",
        "= average length of uninterrupted sequences of capital letters\n",
        "*  1 continuous integer [1,...] attribute of type capital_run_length_longest \n",
        "= length of longest uninterrupted sequence of capital letters\n",
        "*  1 continuous integer [1,...] attribute of type capital_run_length_total = sum of length of uninterrupted sequences of capital letters = total number of capital letters in the e-mail\n",
        "*  1 nominal {0,1} class attribute of type spam = denotes whether the e-mail was considered spam (1) or not (0), i.e. unsolicited commercial e-mail. \n",
        "\n",
        "\n",
        "---\n",
        "\n",
        "\n",
        "In order to compare the performance of selected algorithms, some common metrics including **accuracy, precision, recall, f1 measures** could be used.\n"
      ],
      "metadata": {
        "id": "MVzSk4l505E0"
      }
    },
    {
      "cell_type": "code",
      "source": [
        "# code\n",
        "data = pd.read_csv('/content/sample_data/spambase.csv')\n",
        "\n",
        "X = data[['word_freq_make', 'word_freq_address', 'word_freq_all', 'word_freq_3d',\n",
        "       'word_freq_our', 'word_freq_over', 'word_freq_remove',\n",
        "       'word_freq_internet', 'word_freq_order', 'word_freq_mail',\n",
        "       'word_freq_receive', 'word_freq_will', 'word_freq_people',\n",
        "       'word_freq_report', 'word_freq_addresses', 'word_freq_free',\n",
        "       'word_freq_business', 'word_freq_email', 'word_freq_you',\n",
        "       'word_freq_credit', 'word_freq_your', 'word_freq_font', 'word_freq_000',\n",
        "       'word_freq_money', 'word_freq_hp', 'word_freq_hpl', 'word_freq_george',\n",
        "       'word_freq_650', 'word_freq_lab', 'word_freq_labs', 'word_freq_telnet',\n",
        "       'word_freq_857', 'word_freq_data', 'word_freq_415', 'word_freq_85',\n",
        "       'word_freq_technology', 'word_freq_1999', 'word_freq_parts',\n",
        "       'word_freq_pm', 'word_freq_direct', 'word_freq_cs', 'word_freq_meeting',\n",
        "       'word_freq_original', 'word_freq_project', 'word_freq_re',\n",
        "       'word_freq_edu', 'word_freq_table', 'word_freq_conference',\n",
        "       'char_freq_%3B', 'char_freq_%28', 'char_freq_%5B', 'char_freq_%21',\n",
        "       'char_freq_%24', 'char_freq_%23','capital_run_length_average','capital_run_length_longest', 'capital_run_length_total']]\n",
        "\n",
        "Y =data[['class']]\n",
        "\n",
        "X5_train, X5_test, y5_train, y5_test = model_selection.train_test_split(X, Y, train_size=0.3, random_state=3)\n",
        "\n",
        "\n",
        "\n"
      ],
      "metadata": {
        "id": "W_1v_ivR2f6D"
      },
      "execution_count": 65,
      "outputs": []
    },
    {
      "cell_type": "code",
      "source": [
        "# Logistic Regression\n",
        "\n",
        "classf = linear_model.LogisticRegression(random_state=0)\n",
        "classf.fit(X5_train, y5_train)\n",
        "\n",
        "y_pred_Logis = classf.predict(X5_test)\n",
        "\n",
        "cm_Lo = metrics.confusion_matrix(y5_test, y_pred_Logis)\n",
        "print(cm_Lo)\n",
        "\n",
        "accuracy_Logis = metrics.accuracy_score(y5_test,y_pred_Logis)\n",
        "pricision_Logis = metrics.precision_score(y5_test, y_pred_Logis, average=\"micro\")\n",
        "recall_Logis = metrics.recall_score(y5_test, y_pred_Logis, average=\"micro\")\n",
        "f1_Logis = metrics.f1_score(y5_test, y_pred_Logis, average=\"micro\")\n",
        "\n",
        "print('Accuracy: ', accuracy_Logis)\n",
        "print('Pricision: ', pricision_Logis )\n",
        "print('Recall: ', recall_Logis)\n",
        "print('F1: ', f1_Logis)\n",
        "\n",
        "metrics.ConfusionMatrixDisplay.from_estimator(classf, X5_test, y5_test)"
      ],
      "metadata": {
        "colab": {
          "base_uri": "https://localhost:8080/",
          "height": 610
        },
        "id": "ShrqysjJktFf",
        "outputId": "fc69a007-cc1b-47c3-ae0c-212f72114a43"
      },
      "execution_count": 67,
      "outputs": [
        {
          "output_type": "stream",
          "name": "stdout",
          "text": [
            "[[1845  111]\n",
            " [ 175 1090]]\n",
            "Accuracy:  0.9112076994722136\n",
            "Pricision:  0.9112076994722136\n",
            "Recall:  0.9112076994722136\n",
            "F1:  0.9112076994722136\n"
          ]
        },
        {
          "output_type": "stream",
          "name": "stderr",
          "text": [
            "/usr/local/lib/python3.8/dist-packages/sklearn/utils/validation.py:1143: DataConversionWarning: A column-vector y was passed when a 1d array was expected. Please change the shape of y to (n_samples, ), for example using ravel().\n",
            "  y = column_or_1d(y, warn=True)\n",
            "/usr/local/lib/python3.8/dist-packages/sklearn/linear_model/_logistic.py:458: ConvergenceWarning: lbfgs failed to converge (status=1):\n",
            "STOP: TOTAL NO. of ITERATIONS REACHED LIMIT.\n",
            "\n",
            "Increase the number of iterations (max_iter) or scale the data as shown in:\n",
            "    https://scikit-learn.org/stable/modules/preprocessing.html\n",
            "Please also refer to the documentation for alternative solver options:\n",
            "    https://scikit-learn.org/stable/modules/linear_model.html#logistic-regression\n",
            "  n_iter_i = _check_optimize_result(\n"
          ]
        },
        {
          "output_type": "execute_result",
          "data": {
            "text/plain": [
              "<sklearn.metrics._plot.confusion_matrix.ConfusionMatrixDisplay at 0x7fc8c518d6a0>"
            ]
          },
          "metadata": {},
          "execution_count": 67
        },
        {
          "output_type": "display_data",
          "data": {
            "text/plain": [
              "<Figure size 432x288 with 2 Axes>"
            ],
            "image/png": "[encoded data removed]"
          },
          "metadata": {
            "needs_background": "light"
          }
        }
      ]
    },
    {
      "cell_type": "code",
      "source": [
        "#knn\n",
        "K_range = range(1,30,2)\n",
        "accuracy_arr =[]\n",
        "pricesion_arr = []\n",
        "recall_arr = []\n",
        "f1_arr = []\n",
        "\n",
        "for k in K_range:\n",
        "  KNN = neighbors.KNeighborsClassifier(n_neighbors=k)\n",
        "  KNN.fit(X5_train, y5_train)\n",
        "  y_pred_Lo= KNN.predict(X5_test)\n",
        "  accuracy_arr.append(metrics.accuracy_score(y5_test, y_pred_Lo))\n",
        "  pricesion_arr.append(metrics.precision_score(y5_test,  y_pred_Lo, average='micro'))\n",
        "  recall_arr.append(metrics.recall_score(y5_test,  y_pred_Lo, average='micro'))\n",
        "  f1_arr.append(metrics.f1_score(y5_test,  y_pred_Lo, average='micro'))\n",
        "\n",
        "\n",
        "print('Accuracy: ',accuracy_arr)\n",
        "print('Pricesion: ', pricesion_arr)\n",
        "print('Recall: ', recall_arr)\n",
        "print('F1: ', f1_arr)\n",
        "\n",
        "plt.plot(K_range, accuracy_arr, label='Accuracy')\n",
        "plt.plot(K_range, pricesion_arr, label='Pricesion')\n",
        "plt.plot(K_range, recall_arr, label='Recall')\n",
        "plt.plot(K_range, f1_arr, label='F1')\n",
        "plt.xlabel('k')\n",
        "plt.legend()\n"
      ],
      "metadata": {
        "colab": {
          "base_uri": "https://localhost:8080/",
          "height": 938
        },
        "id": "8Y1BzXzJkyh0",
        "outputId": "a6d5c598-480b-4ac2-ac52-b011461ea326"
      },
      "execution_count": 80,
      "outputs": [
        {
          "output_type": "stream",
          "name": "stderr",
          "text": [
            "/usr/local/lib/python3.8/dist-packages/sklearn/neighbors/_classification.py:215: DataConversionWarning: A column-vector y was passed when a 1d array was expected. Please change the shape of y to (n_samples,), for example using ravel().\n",
            "  return self._fit(X, y)\n",
            "/usr/local/lib/python3.8/dist-packages/sklearn/neighbors/_classification.py:215: DataConversionWarning: A column-vector y was passed when a 1d array was expected. Please change the shape of y to (n_samples,), for example using ravel().\n",
            "  return self._fit(X, y)\n",
            "/usr/local/lib/python3.8/dist-packages/sklearn/neighbors/_classification.py:215: DataConversionWarning: A column-vector y was passed when a 1d array was expected. Please change the shape of y to (n_samples,), for example using ravel().\n",
            "  return self._fit(X, y)\n",
            "/usr/local/lib/python3.8/dist-packages/sklearn/neighbors/_classification.py:215: DataConversionWarning: A column-vector y was passed when a 1d array was expected. Please change the shape of y to (n_samples,), for example using ravel().\n",
            "  return self._fit(X, y)\n",
            "/usr/local/lib/python3.8/dist-packages/sklearn/neighbors/_classification.py:215: DataConversionWarning: A column-vector y was passed when a 1d array was expected. Please change the shape of y to (n_samples,), for example using ravel().\n",
            "  return self._fit(X, y)\n",
            "/usr/local/lib/python3.8/dist-packages/sklearn/neighbors/_classification.py:215: DataConversionWarning: A column-vector y was passed when a 1d array was expected. Please change the shape of y to (n_samples,), for example using ravel().\n",
            "  return self._fit(X, y)\n",
            "/usr/local/lib/python3.8/dist-packages/sklearn/neighbors/_classification.py:215: DataConversionWarning: A column-vector y was passed when a 1d array was expected. Please change the shape of y to (n_samples,), for example using ravel().\n",
            "  return self._fit(X, y)\n",
            "/usr/local/lib/python3.8/dist-packages/sklearn/neighbors/_classification.py:215: DataConversionWarning: A column-vector y was passed when a 1d array was expected. Please change the shape of y to (n_samples,), for example using ravel().\n",
            "  return self._fit(X, y)\n",
            "/usr/local/lib/python3.8/dist-packages/sklearn/neighbors/_classification.py:215: DataConversionWarning: A column-vector y was passed when a 1d array was expected. Please change the shape of y to (n_samples,), for example using ravel().\n",
            "  return self._fit(X, y)\n",
            "/usr/local/lib/python3.8/dist-packages/sklearn/neighbors/_classification.py:215: DataConversionWarning: A column-vector y was passed when a 1d array was expected. Please change the shape of y to (n_samples,), for example using ravel().\n",
            "  return self._fit(X, y)\n",
            "/usr/local/lib/python3.8/dist-packages/sklearn/neighbors/_classification.py:215: DataConversionWarning: A column-vector y was passed when a 1d array was expected. Please change the shape of y to (n_samples,), for example using ravel().\n",
            "  return self._fit(X, y)\n",
            "/usr/local/lib/python3.8/dist-packages/sklearn/neighbors/_classification.py:215: DataConversionWarning: A column-vector y was passed when a 1d array was expected. Please change the shape of y to (n_samples,), for example using ravel().\n",
            "  return self._fit(X, y)\n",
            "/usr/local/lib/python3.8/dist-packages/sklearn/neighbors/_classification.py:215: DataConversionWarning: A column-vector y was passed when a 1d array was expected. Please change the shape of y to (n_samples,), for example using ravel().\n",
            "  return self._fit(X, y)\n",
            "/usr/local/lib/python3.8/dist-packages/sklearn/neighbors/_classification.py:215: DataConversionWarning: A column-vector y was passed when a 1d array was expected. Please change the shape of y to (n_samples,), for example using ravel().\n",
            "  return self._fit(X, y)\n",
            "/usr/local/lib/python3.8/dist-packages/sklearn/neighbors/_classification.py:215: DataConversionWarning: A column-vector y was passed when a 1d array was expected. Please change the shape of y to (n_samples,), for example using ravel().\n",
            "  return self._fit(X, y)\n"
          ]
        },
        {
          "output_type": "stream",
          "name": "stdout",
          "text": [
            "Accuracy:  [0.7714995343061161, 0.7727413846631481, 0.7581496429680223, 0.7516299285936044, 0.7457311393977025, 0.7441788264514126, 0.7435579012728967, 0.7435579012728967, 0.7416951257373486, 0.7432474386836386, 0.7392114250232847, 0.7348649487736728, 0.7295870847562869, 0.7361067991307048, 0.7364172617199627]\n",
            "Pricesion:  [0.7714995343061161, 0.7727413846631481, 0.7581496429680223, 0.7516299285936044, 0.7457311393977025, 0.7441788264514126, 0.7435579012728967, 0.7435579012728967, 0.7416951257373486, 0.7432474386836386, 0.7392114250232847, 0.7348649487736728, 0.7295870847562869, 0.7361067991307048, 0.7364172617199627]\n",
            "Recall:  [0.7714995343061161, 0.7727413846631481, 0.7581496429680223, 0.7516299285936044, 0.7457311393977025, 0.7441788264514126, 0.7435579012728967, 0.7435579012728967, 0.7416951257373486, 0.7432474386836386, 0.7392114250232847, 0.7348649487736728, 0.7295870847562869, 0.7361067991307048, 0.7364172617199627]\n",
            "F1:  [0.7714995343061161, 0.772741384663148, 0.7581496429680223, 0.7516299285936044, 0.7457311393977025, 0.7441788264514126, 0.7435579012728967, 0.7435579012728967, 0.7416951257373486, 0.7432474386836386, 0.7392114250232846, 0.7348649487736729, 0.7295870847562869, 0.7361067991307048, 0.7364172617199628]\n"
          ]
        },
        {
          "output_type": "execute_result",
          "data": {
            "text/plain": [
              "<matplotlib.legend.Legend at 0x7fc8c4bab8b0>"
            ]
          },
          "metadata": {},
          "execution_count": 80
        },
        {
          "output_type": "display_data",
          "data": {
            "text/plain": [
              "<Figure size 432x288 with 1 Axes>"
            ],
            "image/png": "[encoded data removed]"
          },
          "metadata": {
            "needs_background": "light"
          }
        }
      ]
    },
    {
      "cell_type": "code",
      "source": [
        "#Decision Treen\n",
        "model = tree.DecisionTreeClassifier(criterion='gini', random_state=42, max_depth=3, min_samples_leaf=5)\n",
        "model.fit(X5_train, y5_train)\n",
        "tree.plot_tree(model)\n",
        "y_pred_tree = model.predict(X5_test)\n",
        "\n",
        "cm_Tree = metrics.confusion_matrix(y5_test, y_pred_tree)\n",
        "print(cm_Tree)\n",
        "\n",
        "accuracy_Tree = metrics.accuracy_score(y5_test,y_pred_tree)\n",
        "pricision_Tree = metrics.precision_score(y5_test, y_pred_tree, average=\"micro\")\n",
        "recall_Tree = metrics.recall_score(y5_test, y_pred_tree, average=\"micro\")\n",
        "f1_Tree = metrics.f1_score(y5_test, y_pred_tree, average=\"micro\")\n",
        "\n",
        "print('Accuracy: ', accuracy_Tree)\n",
        "print('Pricision: ', pricision_Tree )\n",
        "print('Recall: ', recall_Tree)\n",
        "print('F1: ', f1_Tree)\n",
        "\n"
      ],
      "metadata": {
        "colab": {
          "base_uri": "https://localhost:8080/",
          "height": 358
        },
        "id": "gH-bnmTjk1ka",
        "outputId": "3eae13dc-f9a7-4f86-f5e4-548333bc5f35"
      },
      "execution_count": 79,
      "outputs": [
        {
          "output_type": "stream",
          "name": "stdout",
          "text": [
            "[[1825  131]\n",
            " [ 228 1037]]\n",
            "Accuracy:  0.88854393045638\n",
            "Pricision:  0.88854393045638\n",
            "Recall:  0.88854393045638\n",
            "F1:  0.88854393045638\n"
          ]
        },
        {
          "output_type": "display_data",
          "data": {
            "text/plain": [
              "<Figure size 432x288 with 1 Axes>"
            ],
            "image/png": "[encoded data removed]"
          },
          "metadata": {
            "needs_background": "light"
          }
        }
      ]
    },
    {
      "cell_type": "markdown",
      "source": [
        "#Finally,\n",
        "Save a copy in your Github. Remember renaming the notebook."
      ],
      "metadata": {
        "id": "Ok7RGkea_b7n"
      }
    }
  ]
}