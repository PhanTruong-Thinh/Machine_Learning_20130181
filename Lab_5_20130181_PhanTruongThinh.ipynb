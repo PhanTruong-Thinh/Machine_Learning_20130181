{
  "nbformat": 4,
  "nbformat_minor": 0,
  "metadata": {
    "colab": {
      "provenance": [],
      "include_colab_link": true
    },
    "kernelspec": {
      "name": "python3",
      "display_name": "Python 3"
    },
    "language_info": {
      "name": "python"
    },
    "accelerator": "GPU",
    "gpuClass": "standard"
  },
  "cells": [
    {
      "cell_type": "markdown",
      "metadata": {
        "id": "view-in-github",
        "colab_type": "text"
      },
      "source": [
        "<a href=\"https://colab.research.google.com/github/PhanTruong-Thinh/Machine_Learning_20130181/blob/main/Lab_5_20130181_PhanTruongThinh.ipynb\" target=\"_parent\"><img src=\"https://colab.research.google.com/assets/colab-badge.svg\" alt=\"Open In Colab\"/></a>"
      ]
    },
    {
      "cell_type": "markdown",
      "source": [
        "# This lab is to deal with **SVM** to classification tasks and compare its performance with other competitive algorithms. In general, **SVM** is one of the most popular and widely used supervised machine learning algorithms.\n",
        "\n",
        "*   **Deadline: 23:59, 17/03/2023**\n",
        "\n"
      ],
      "metadata": {
        "id": "LMzehe0sy5wr"
      }
    },
    {
      "cell_type": "markdown",
      "source": [
        "# Import libraries"
      ],
      "metadata": {
        "id": "H4nJmxp9zGX4"
      }
    },
    {
      "cell_type": "code",
      "source": [
        "from google.colab import drive\n",
        "drive.mount('/content/drive')"
      ],
      "metadata": {
        "colab": {
          "base_uri": "https://localhost:8080/"
        },
        "id": "VKQft2RwpI9Q",
        "outputId": "5f963bf7-84c0-4057-d0b4-340811a01a4c"
      },
      "execution_count": 2,
      "outputs": [
        {
          "output_type": "stream",
          "name": "stdout",
          "text": [
            "Drive already mounted at /content/drive; to attempt to forcibly remount, call drive.mount(\"/content/drive\", force_remount=True).\n"
          ]
        }
      ]
    },
    {
      "cell_type": "code",
      "source": [
        "!unzip  /content/sample_data/creditcard.csv.zip "
      ],
      "metadata": {
        "colab": {
          "base_uri": "https://localhost:8080/"
        },
        "id": "qkfobjIspWCl",
        "outputId": "21f7e7bd-6e06-4e10-f568-3189d4717b94"
      },
      "execution_count": 63,
      "outputs": [
        {
          "output_type": "stream",
          "name": "stdout",
          "text": [
            "Archive:  /content/sample_data/creditcard.csv.zip\n",
            "  inflating: creditcard.csv          \n"
          ]
        }
      ]
    },
    {
      "cell_type": "code",
      "execution_count": 3,
      "metadata": {
        "id": "DoVWQ8AEyc-C"
      },
      "outputs": [],
      "source": [
        "import pandas as pd\n",
        "import numpy as np\n",
        "import matplotlib.pyplot as plt\n",
        "from prettytable import PrettyTable\n",
        "from sklearn import datasets, model_selection, metrics, svm, tree, neighbors, linear_model, gaussian_process\n",
        "\n"
      ]
    },
    {
      "cell_type": "markdown",
      "source": [
        "#Task 1. \n",
        "For breast cancer dataset (https://tinyurl.com/3vme8hr3) which could be loaded from datasets in sklearn as follows:\n",
        "\n",
        "```\n",
        "#Import scikit-learn dataset library\n",
        "from sklearn import datasets\n",
        "\n",
        "#Load dataset\n",
        "cancer = datasets.load_breast_cancer()\n",
        "```\n",
        "\n",
        "*   1.1.\tApply SVM algorithm to above dataset using linear kernel.\n",
        "*   1.2.\tCompare the obtained results with other competitive algorithms (Logistic Regression, Decision Tree, kNN) based on metrics: accuracy, precision, recall, f1 measures.\n",
        "\n"
      ],
      "metadata": {
        "id": "kNv07ARGzOUm"
      }
    },
    {
      "cell_type": "code",
      "source": [
        "#connection cdata\n",
        "cancer = datasets.load_breast_cancer()\n",
        "\n",
        "#Train and test\n",
        "X1_train, X1_test, y1_train, y1_test = model_selection.train_test_split(cancer['data'], cancer['target'], train_size=0.2, random_state= 3)"
      ],
      "metadata": {
        "id": "-xn0QvBvujd3"
      },
      "execution_count": 4,
      "outputs": []
    },
    {
      "cell_type": "code",
      "source": [
        "# SVM\n",
        "\n",
        "svc = svm.SVC(kernel='linear').fit(X1_train, y1_train)\n",
        "y_pred_SVC = svc.predict(X1_test)\n",
        "\n",
        "accuracy_SVC = round(metrics.accuracy_score(y1_test, y_pred_SVC), 4)\n",
        "percision_SVC = round(metrics.precision_score(y1_test, y_pred_SVC, average='micro'), 4)\n",
        "recall_SVC = round(metrics.recall_score(y1_test, y_pred_SVC, average='micro'), 4)\n",
        "f1_SVC = round(metrics.f1_score(y1_test, y_pred_SVC, average='micro'), 4) \n",
        "\n",
        "print('Accuracy: ', accuracy_SVC)\n",
        "print('Percision: ', percision_SVC)\n",
        "print('Recall: ', recall_SVC)\n",
        "print('F1: ', f1_SVC)\n"
      ],
      "metadata": {
        "id": "sOsg77IBzEyo",
        "colab": {
          "base_uri": "https://localhost:8080/"
        },
        "outputId": "ef78c262-1f64-4b8e-952b-8b26119277f7"
      },
      "execution_count": 5,
      "outputs": [
        {
          "output_type": "stream",
          "name": "stdout",
          "text": [
            "Accuracy:  0.943\n",
            "Percision:  0.943\n",
            "Recall:  0.943\n",
            "F1:  0.943\n"
          ]
        }
      ]
    },
    {
      "cell_type": "code",
      "source": [
        "#Logistic Regression\n",
        "\n",
        "logis = linear_model.LogisticRegression(random_state=0).fit(X1_train, y1_train)\n",
        "y_pred_Logis = logis.predict(X1_test)\n",
        "\n",
        "accuracy_Logis = round(metrics.accuracy_score(y1_test, y_pred_Logis), 4)\n",
        "percision_Logis = round(metrics.precision_score(y1_test, y_pred_Logis, average='micro'), 4)\n",
        "recall_Logis = round(metrics.recall_score(y1_test, y_pred_Logis, average='micro'), 4)\n",
        "f1_Logis = round(metrics.f1_score(y1_test, y_pred_Logis, average='micro'), 4) \n",
        "\n",
        "print('Accuracy: ', accuracy_Logis)\n",
        "print('Percision: ', percision_Logis)\n",
        "print('Recall: ', recall_Logis)\n",
        "print('F1: ', f1_Logis)"
      ],
      "metadata": {
        "colab": {
          "base_uri": "https://localhost:8080/"
        },
        "id": "RH3q26PHuYBR",
        "outputId": "270daec2-eef2-4fc7-9149-423ae65597fa"
      },
      "execution_count": 6,
      "outputs": [
        {
          "output_type": "stream",
          "name": "stdout",
          "text": [
            "Accuracy:  0.9386\n",
            "Percision:  0.9386\n",
            "Recall:  0.9386\n",
            "F1:  0.9386\n"
          ]
        },
        {
          "output_type": "stream",
          "name": "stderr",
          "text": [
            "/usr/local/lib/python3.9/dist-packages/sklearn/linear_model/_logistic.py:458: ConvergenceWarning: lbfgs failed to converge (status=1):\n",
            "STOP: TOTAL NO. of ITERATIONS REACHED LIMIT.\n",
            "\n",
            "Increase the number of iterations (max_iter) or scale the data as shown in:\n",
            "    https://scikit-learn.org/stable/modules/preprocessing.html\n",
            "Please also refer to the documentation for alternative solver options:\n",
            "    https://scikit-learn.org/stable/modules/linear_model.html#logistic-regression\n",
            "  n_iter_i = _check_optimize_result(\n"
          ]
        }
      ]
    },
    {
      "cell_type": "code",
      "source": [
        "#kNN\n",
        "\n",
        "knn = neighbors.KNeighborsClassifier(n_neighbors=3).fit(X1_train, y1_train)\n",
        "y_pred_kNN = knn.predict(X1_test)\n",
        "\n",
        "accuracy_kNN = round(metrics.accuracy_score(y1_test, y_pred_kNN), 4)\n",
        "percision_kNN = round(metrics.precision_score(y1_test, y_pred_kNN, average='micro'), 4)\n",
        "recall_kNN = round(metrics.recall_score(y1_test, y_pred_kNN, average='micro'), 4)\n",
        "f1_kNN = round(metrics.f1_score(y1_test, y_pred_kNN, average='micro'), 4) \n",
        "\n",
        "print('Accuracy: ', accuracy_kNN)\n",
        "print('Percision: ', percision_kNN)\n",
        "print('Recall: ', recall_kNN)\n",
        "print('F1: ', f1_kNN)\n",
        "\n"
      ],
      "metadata": {
        "colab": {
          "base_uri": "https://localhost:8080/"
        },
        "id": "Z_NiLCZcv7wL",
        "outputId": "e8798188-043f-4466-c845-50aac8bf2f3b"
      },
      "execution_count": 7,
      "outputs": [
        {
          "output_type": "stream",
          "name": "stdout",
          "text": [
            "Accuracy:  0.9232\n",
            "Percision:  0.9232\n",
            "Recall:  0.9232\n",
            "F1:  0.9232\n"
          ]
        }
      ]
    },
    {
      "cell_type": "code",
      "source": [
        "#Decision Tree\n",
        "tre =tree.DecisionTreeClassifier(criterion='gini', random_state=42, max_depth=3, min_samples_leaf=5)\n",
        "tre.fit(X1_train, y1_train)\n",
        "y_pred_Tree = tre.predict(X1_test)\n",
        "\n",
        "accuracy_Tree = round(metrics.accuracy_score(y1_test, y_pred_Tree), 4)\n",
        "percision_Tree = round(metrics.precision_score(y1_test, y_pred_Tree, average='micro'), 4)\n",
        "recall_Tree = round(metrics.recall_score(y1_test, y_pred_Tree, average='micro'), 4)\n",
        "f1_Tree = round(metrics.f1_score(y1_test, y_pred_Tree, average='micro'), 4) \n",
        "\n",
        "print('Accuracy: ', accuracy_Tree)\n",
        "print('Percision: ', percision_Tree)\n",
        "print('Recall: ', recall_Tree)\n",
        "print('F1: ', f1_Tree)\n"
      ],
      "metadata": {
        "colab": {
          "base_uri": "https://localhost:8080/"
        },
        "id": "5QQgez6Gwybw",
        "outputId": "f2720535-179c-461a-bcb0-8d29db9280a4"
      },
      "execution_count": 8,
      "outputs": [
        {
          "output_type": "stream",
          "name": "stdout",
          "text": [
            "Accuracy:  0.9474\n",
            "Percision:  0.9474\n",
            "Recall:  0.9474\n",
            "F1:  0.9474\n"
          ]
        }
      ]
    },
    {
      "cell_type": "code",
      "source": [
        "\n",
        "table = PrettyTable()\n",
        "table.field_names = [\"Name\",\"Accuracy\",\"Percision\",\"Recall\",\"F1\"]\n",
        "table.add_row([\"SVC\",accuracy_SVC,percision_SVC,recall_SVC,f1_SVC])\n",
        "table.add_row([\"Logistic Regression\",accuracy_Logis,percision_Logis,recall_Logis,f1_Logis])\n",
        "table.add_row([\"kNN\",accuracy_kNN,percision_kNN,recall_kNN,f1_kNN])\n",
        "table.add_row([\"Decision Tree\",accuracy_Tree,percision_Tree,recall_Tree,f1_Tree])\n",
        "\n",
        "print(table)"
      ],
      "metadata": {
        "colab": {
          "base_uri": "https://localhost:8080/"
        },
        "id": "n0LMbLWlzJ_4",
        "outputId": "e302dc95-35bc-4c77-8d67-caf2ad8af1a4"
      },
      "execution_count": 9,
      "outputs": [
        {
          "output_type": "stream",
          "name": "stdout",
          "text": [
            "+---------------------+----------+-----------+--------+--------+\n",
            "|         Name        | Accuracy | Percision | Recall |   F1   |\n",
            "+---------------------+----------+-----------+--------+--------+\n",
            "|         SVC         |  0.943   |   0.943   | 0.943  | 0.943  |\n",
            "| Logistic Regression |  0.9386  |   0.9386  | 0.9386 | 0.9386 |\n",
            "|         kNN         |  0.9232  |   0.9232  | 0.9232 | 0.9232 |\n",
            "|    Decision Tree    |  0.9474  |   0.9474  | 0.9474 | 0.9474 |\n",
            "+---------------------+----------+-----------+--------+--------+\n"
          ]
        }
      ]
    },
    {
      "cell_type": "markdown",
      "source": [
        "#Task 2. \n",
        "\n",
        "*   1.1.\tPerform SVM algorithm to **Iris dataset** using **linear kernel**.\n",
        "*   1.2.\tCompare the obtained results in 1.1 with SVM using other kernels (**Polynomial Kernel, Gaussian Kernel, Sigmoid Kernel, Radial Basis Function Kernel**). Some metrics could be used: accuracy, precision, recall, f1 measures\n",
        "\n",
        "\n",
        "\n"
      ],
      "metadata": {
        "id": "S43IoUT-0OQq"
      }
    },
    {
      "cell_type": "code",
      "source": [
        "#load data\n",
        "data = datasets.load_iris()\n",
        "#Train and test\n",
        "X2_train, X2_test, y2_train, y2_test = model_selection.train_test_split(data['data'], data['target'], train_size=0.2, random_state= 3)"
      ],
      "metadata": {
        "id": "kBZBd4v-5EIl"
      },
      "execution_count": 10,
      "outputs": []
    },
    {
      "cell_type": "code",
      "source": [
        "#kernel: 'linear'\n",
        "\n",
        "svc = svm.SVC(kernel='linear').fit(X2_train, y2_train)\n",
        "y_pred_SVC = svc.predict(X2_test)\n",
        "\n",
        "accuracy_SVC_Linear = round(metrics.accuracy_score(y2_test, y_pred_SVC), 4)\n",
        "percision_SVC_Linear = round(metrics.precision_score(y2_test, y_pred_SVC, average='micro'), 4)\n",
        "recall_SVC_Linear = round(metrics.recall_score(y2_test, y_pred_SVC, average='micro'), 4)\n",
        "f1_SVC_Linear = round(metrics.f1_score(y2_test, y_pred_SVC, average='micro'), 4) \n",
        "\n",
        "print('Accuracy: ', accuracy_SVC_Linear)\n",
        "print('Percision: ', percision_SVC_Linear)\n",
        "print('Recall: ', recall_SVC_Linear)\n",
        "print('F1: ', f1_SVC_Linear)"
      ],
      "metadata": {
        "id": "_xhPpF5b033h",
        "colab": {
          "base_uri": "https://localhost:8080/"
        },
        "outputId": "bfa20471-63f6-49bb-9e79-afd2fba5ac14"
      },
      "execution_count": 11,
      "outputs": [
        {
          "output_type": "stream",
          "name": "stdout",
          "text": [
            "Accuracy:  0.8917\n",
            "Percision:  0.8917\n",
            "Recall:  0.8917\n",
            "F1:  0.8917\n"
          ]
        }
      ]
    },
    {
      "cell_type": "code",
      "source": [
        "#Polynomial Kernel: 'poly'\n",
        "\n",
        "svc = svm.SVC(kernel='poly').fit(X2_train, y2_train)\n",
        "y_pred_SVC = svc.predict(X2_test)\n",
        "\n",
        "accuracy_SVC_Poly = round(metrics.accuracy_score(y2_test, y_pred_SVC), 4)\n",
        "percision_SVC_Poly = round(metrics.precision_score(y2_test, y_pred_SVC, average='micro'), 4)\n",
        "recall_SVC_Poly = round(metrics.recall_score(y2_test, y_pred_SVC, average='micro'), 4)\n",
        "f1_SVC_Poly = round(metrics.f1_score(y2_test, y_pred_SVC, average='micro'), 4) \n",
        "\n",
        "print('Accuracy: ', accuracy_SVC_Poly)\n",
        "print('Percision: ', percision_SVC_Poly)\n",
        "print('Recall: ', recall_SVC_Poly)\n",
        "print('F1: ', f1_SVC_Poly)"
      ],
      "metadata": {
        "colab": {
          "base_uri": "https://localhost:8080/"
        },
        "id": "RgNQPkXj5u6r",
        "outputId": "e2d2e75f-0292-403e-c2b6-2e7da8757c2d"
      },
      "execution_count": 12,
      "outputs": [
        {
          "output_type": "stream",
          "name": "stdout",
          "text": [
            "Accuracy:  0.9333\n",
            "Percision:  0.9333\n",
            "Recall:  0.9333\n",
            "F1:  0.9333\n"
          ]
        }
      ]
    },
    {
      "cell_type": "code",
      "source": [
        "#Radial Basis Function Kernel: 'rbf'\n",
        "\n",
        "svc = svm.SVC(kernel='rbf').fit(X2_train, y2_train)\n",
        "y_pred_SVC = svc.predict(X2_test)\n",
        "\n",
        "accuracy_SVC_rbf = round(metrics.accuracy_score(y2_test, y_pred_SVC), 4)\n",
        "percision_SVC_rbf = round(metrics.precision_score(y2_test, y_pred_SVC, average='micro'), 4)\n",
        "recall_SVC_rbf = round(metrics.recall_score(y2_test, y_pred_SVC, average='micro'), 4)\n",
        "f1_SVC_rbf = round(metrics.f1_score(y2_test, y_pred_SVC, average='micro'), 4) \n",
        "\n",
        "print('Accuracy: ', accuracy_SVC_rbf)\n",
        "print('Percision: ', percision_SVC_rbf)\n",
        "print('Recall: ', recall_SVC_rbf)\n",
        "print('F1: ', f1_SVC_rbf)\n"
      ],
      "metadata": {
        "colab": {
          "base_uri": "https://localhost:8080/"
        },
        "id": "JvwBmhPw6IX4",
        "outputId": "83540ce1-0139-44b2-b83c-bad897fc03c2"
      },
      "execution_count": 13,
      "outputs": [
        {
          "output_type": "stream",
          "name": "stdout",
          "text": [
            "Accuracy:  0.8667\n",
            "Percision:  0.8667\n",
            "Recall:  0.8667\n",
            "F1:  0.8667\n"
          ]
        }
      ]
    },
    {
      "cell_type": "code",
      "source": [
        "#Sigmoid Kernel: 'sigmoid'\n",
        "\n",
        "svc = svm.SVC(kernel='sigmoid').fit(X2_train, y2_train)\n",
        "y_pred_SVC = svc.predict(X2_test)\n",
        "\n",
        "accuracy_SVC_sig = round(metrics.accuracy_score(y2_test, y_pred_SVC), 4)\n",
        "percision_SVC_sig = round(metrics.precision_score(y2_test, y_pred_SVC, average='micro'), 4)\n",
        "recall_SVC_sig = round(metrics.recall_score(y2_test, y_pred_SVC, average='micro'), 4)\n",
        "f1_SVC_sig = round(metrics.f1_score(y2_test, y_pred_SVC, average='micro'), 4) \n",
        "\n",
        "print('Accuracy: ', accuracy_SVC_sig)\n",
        "print('Percision: ', percision_SVC_sig)\n",
        "print('Recall: ', recall_SVC_sig)\n",
        "print('F1: ', f1_SVC_sig)"
      ],
      "metadata": {
        "colab": {
          "base_uri": "https://localhost:8080/"
        },
        "id": "MBPfPZze6Yz-",
        "outputId": "023b2c45-91d9-4de7-e75e-f9bad138a340"
      },
      "execution_count": 14,
      "outputs": [
        {
          "output_type": "stream",
          "name": "stdout",
          "text": [
            "Accuracy:  0.325\n",
            "Percision:  0.325\n",
            "Recall:  0.325\n",
            "F1:  0.325\n"
          ]
        }
      ]
    },
    {
      "cell_type": "code",
      "source": [
        "#Gaussian Kernel\n",
        "\n",
        "gsc = gaussian_process.GaussianProcessClassifier(random_state=0).fit(X2_train, y2_train)\n",
        "y_pred_SVC = gsc.predict(X2_test)\n",
        "\n",
        "accuracy_SVC_gau = round(metrics.accuracy_score(y2_test, y_pred_SVC), 4)\n",
        "percision_SVC_gau = round(metrics.precision_score(y2_test, y_pred_SVC, average='micro'), 4)\n",
        "recall_SVC_gau = round(metrics.recall_score(y2_test, y_pred_SVC, average='micro'), 4)\n",
        "f1_SVC_gau = round(metrics.f1_score(y2_test, y_pred_SVC, average='micro'), 4) \n",
        "\n",
        "print('Accuracy: ', accuracy_SVC_gau)\n",
        "print('Percision: ', percision_SVC_gau)\n",
        "print('Recall: ', recall_SVC_gau)\n",
        "print('F1: ', f1_SVC_gau)\n"
      ],
      "metadata": {
        "colab": {
          "base_uri": "https://localhost:8080/"
        },
        "id": "ENQmStwz8NE4",
        "outputId": "6d2eaac9-a0f3-4466-b640-4e380821646f"
      },
      "execution_count": 15,
      "outputs": [
        {
          "output_type": "stream",
          "name": "stdout",
          "text": [
            "Accuracy:  0.8583\n",
            "Percision:  0.8583\n",
            "Recall:  0.8583\n",
            "F1:  0.8583\n"
          ]
        }
      ]
    },
    {
      "cell_type": "code",
      "source": [
        "table = PrettyTable()\n",
        "table.field_names = [\"Kernel\",\"Accuracy\",\"Percision\",\"Recall\",\"F1\"]\n",
        "table.add_row([\"Linear\",accuracy_SVC_Linear, percision_SVC_Linear,recall_SVC_Linear,f1_SVC_Linear])\n",
        "table.add_row([\"Polynomial\",accuracy_SVC_Poly, percision_SVC_Poly, recall_SVC_Poly, f1_SVC_Poly])\n",
        "table.add_row([\"Radial Basis Function\", accuracy_SVC_rbf, percision_SVC_rbf, recall_SVC_rbf, f1_SVC_rbf])\n",
        "table.add_row([\"Sigmoid\", accuracy_SVC_sig, percision_SVC_sig, recall_SVC_sig, f1_SVC_rbf])\n",
        "table.add_row([\"Gaussian\", accuracy_SVC_gau, percision_SVC_gau, recall_SVC_gau, f1_SVC_gau])\n",
        "\n",
        "print(table)"
      ],
      "metadata": {
        "colab": {
          "base_uri": "https://localhost:8080/"
        },
        "id": "aPfHEqrH6s-_",
        "outputId": "4e80fec4-1c2c-4fde-f150-73789d181b0a"
      },
      "execution_count": 16,
      "outputs": [
        {
          "output_type": "stream",
          "name": "stdout",
          "text": [
            "+-----------------------+----------+-----------+--------+--------+\n",
            "|         Kernel        | Accuracy | Percision | Recall |   F1   |\n",
            "+-----------------------+----------+-----------+--------+--------+\n",
            "|         Linear        |  0.8917  |   0.8917  | 0.8917 | 0.8917 |\n",
            "|       Polynomial      |  0.9333  |   0.9333  | 0.9333 | 0.9333 |\n",
            "| Radial Basis Function |  0.8667  |   0.8667  | 0.8667 | 0.8667 |\n",
            "|        Sigmoid        |  0.325   |   0.325   | 0.325  | 0.8667 |\n",
            "|        Gaussian       |  0.8583  |   0.8583  | 0.8583 | 0.8583 |\n",
            "+-----------------------+----------+-----------+--------+--------+\n"
          ]
        }
      ]
    },
    {
      "cell_type": "markdown",
      "source": [
        "#Task 3. \n",
        "Compare the performance of selected classification algorithms (Decision Tree, kNN, Logistic Regression) and SVM (using different kernels) with mnist dataset based on accuracy, precision, recall, f1 measures.\n"
      ],
      "metadata": {
        "id": "b52OPWPD2afi"
      }
    },
    {
      "cell_type": "code",
      "source": [
        "#load data\n",
        "data3 = datasets.load_digits()\n",
        "#Train and test\n",
        "X3_train, X3_test, y3_train, y3_test = model_selection.train_test_split(data['data'], data['target'], train_size=0.2, random_state= 3)"
      ],
      "metadata": {
        "id": "rducppndFyS8"
      },
      "execution_count": 35,
      "outputs": []
    },
    {
      "cell_type": "code",
      "source": [
        "#Logistic Regression\n",
        "\n",
        "logis = linear_model.LogisticRegression(random_state=0).fit(X3_train, y3_train)\n",
        "y3_pred_Logis = logis.predict(X3_test)\n",
        "\n",
        "accuracy_Logis3 = round(metrics.accuracy_score(y3_test, y3_pred_Logis), 4)\n",
        "percision_Logis3 = round(metrics.precision_score(y3_test, y3_pred_Logis, average='micro'), 4)\n",
        "recall_Logis3 = round(metrics.recall_score(y3_test, y3_pred_Logis, average='micro'), 4)\n",
        "f1_Logis3 = round(metrics.f1_score(y3_test, y3_pred_Logis, average='micro'), 4) \n",
        "\n",
        "print('Accuracy: ', accuracy_Logis3)\n",
        "print('Percision: ', percision_Logis3)\n",
        "print('Recall: ', recall_Logis3)\n",
        "print('F1: ', f1_Logis3)"
      ],
      "metadata": {
        "colab": {
          "base_uri": "https://localhost:8080/"
        },
        "id": "FIw0F5VjGp1z",
        "outputId": "b026ea0c-f781-440c-9ef1-08fbf9f0d1e7"
      },
      "execution_count": 36,
      "outputs": [
        {
          "output_type": "stream",
          "name": "stdout",
          "text": [
            "Accuracy:  0.8333\n",
            "Percision:  0.8333\n",
            "Recall:  0.8333\n",
            "F1:  0.8333\n"
          ]
        }
      ]
    },
    {
      "cell_type": "code",
      "source": [
        "#kNN\n",
        "\n",
        "knn = neighbors.KNeighborsClassifier(n_neighbors=3).fit(X3_train, y3_train)\n",
        "y3_pred_kNN = knn.predict(X3_test)\n",
        "\n",
        "accuracy_kNN3 = round(metrics.accuracy_score(y3_test, y3_pred_kNN), 4)\n",
        "percision_kNN3 = round(metrics.precision_score(y3_test, y3_pred_kNN, average='micro'), 4)\n",
        "recall_kNN3 = round(metrics.recall_score(y3_test, y3_pred_kNN, average='micro'), 4)\n",
        "f1_kNN3 = round(metrics.f1_score(y3_test, y3_pred_kNN, average='micro'), 4) \n",
        "\n",
        "print('Accuracy: ', accuracy_kNN3)\n",
        "print('Percision: ', percision_kNN3)\n",
        "print('Recall: ', recall_kNN3)\n",
        "print('F1: ', f1_kNN3)"
      ],
      "metadata": {
        "colab": {
          "base_uri": "https://localhost:8080/"
        },
        "id": "ZT9mP5OTG-xg",
        "outputId": "21d5a5d9-a7cd-4e57-bd3d-b33938aca576"
      },
      "execution_count": 39,
      "outputs": [
        {
          "output_type": "stream",
          "name": "stdout",
          "text": [
            "Accuracy:  0.8583\n",
            "Percision:  0.8583\n",
            "Recall:  0.8583\n",
            "F1:  0.8583\n"
          ]
        }
      ]
    },
    {
      "cell_type": "code",
      "source": [
        "#Decision Tree\n",
        "tre =tree.DecisionTreeClassifier(criterion='gini', random_state=42, max_depth=3, min_samples_leaf=5)\n",
        "tre.fit(X3_train, y3_train)\n",
        "y3_pred_Tree = tre.predict(X3_test)\n",
        "\n",
        "accuracy_Tree3 = round(metrics.accuracy_score(y3_test, y3_pred_Tree), 4)\n",
        "percision_Tree3 = round(metrics.precision_score(y3_test, y3_pred_Tree, average='micro'), 4)\n",
        "recall_Tree3 = round(metrics.recall_score(y3_test, y3_pred_Tree, average='micro'), 4)\n",
        "f1_Tree3 = round(metrics.f1_score(y3_test, y3_pred_Tree, average='micro'), 4) \n",
        "\n",
        "print('Accuracy: ', accuracy_Tree3)\n",
        "print('Percision: ', percision_Tree3)\n",
        "print('Recall: ', recall_Tree3)\n",
        "print('F1: ', f1_Tree3)"
      ],
      "metadata": {
        "colab": {
          "base_uri": "https://localhost:8080/"
        },
        "id": "Fp1j6bNcHMBl",
        "outputId": "b9387d87-a79d-489b-cff5-2aaedfca8a1e"
      },
      "execution_count": 40,
      "outputs": [
        {
          "output_type": "stream",
          "name": "stdout",
          "text": [
            "Accuracy:  0.9083\n",
            "Percision:  0.9083\n",
            "Recall:  0.9083\n",
            "F1:  0.9083\n"
          ]
        }
      ]
    },
    {
      "cell_type": "code",
      "source": [
        "#SVC: \n",
        "#kernel: 'linear'\n",
        "\n",
        "svc = svm.SVC(kernel='linear').fit(X3_train, y3_train)\n",
        "y3_pred_SVC = svc.predict(X3_test)\n",
        "\n",
        "accuracy_SVC_Linear3 = round(metrics.accuracy_score(y3_test, y3_pred_SVC), 4)\n",
        "percision_SVC_Linear3 = round(metrics.precision_score(y3_test, y3_pred_SVC, average='micro'), 4)\n",
        "recall_SVC_Linear3 = round(metrics.recall_score(y3_test, y3_pred_SVC, average='micro'), 4)\n",
        "f1_SVC_Linear3 = round(metrics.f1_score(y3_test, y3_pred_SVC, average='micro'), 4) \n",
        "\n",
        "print('Accuracy: ', accuracy_SVC_Linear3)\n",
        "print('Percision: ', percision_SVC_Linear3)\n",
        "print('Recall: ', recall_SVC_Linear3)\n",
        "print('F1: ', f1_SVC_Linear3)"
      ],
      "metadata": {
        "colab": {
          "base_uri": "https://localhost:8080/"
        },
        "id": "InYwiWdiH46f",
        "outputId": "92d5b3bb-18cb-4ed5-819c-43fb29a2cd34"
      },
      "execution_count": 43,
      "outputs": [
        {
          "output_type": "stream",
          "name": "stdout",
          "text": [
            "Accuracy:  0.8917\n",
            "Percision:  0.8917\n",
            "Recall:  0.8917\n",
            "F1:  0.8917\n"
          ]
        }
      ]
    },
    {
      "cell_type": "code",
      "source": [
        "#SVC:\n",
        "#Polynomial Kernel: 'poly'\n",
        "\n",
        "svc = svm.SVC(kernel='poly').fit(X3_train, y3_train)\n",
        "y3_pred_SVC = svc.predict(X3_test)\n",
        "\n",
        "accuracy_SVC_Poly3 = round(metrics.accuracy_score(y3_test, y3_pred_SVC), 4)\n",
        "percision_SVC_Poly3 = round(metrics.precision_score(y3_test, y3_pred_SVC, average='micro'), 4)\n",
        "recall_SVC_Poly3 = round(metrics.recall_score(y3_test, y3_pred_SVC, average='micro'), 4)\n",
        "f1_SVC_Poly3 = round(metrics.f1_score(y3_test, y3_pred_SVC, average='micro'), 4) \n",
        "\n",
        "print('Accuracy: ', accuracy_SVC_Poly3)\n",
        "print('Percision: ', percision_SVC_Poly3)\n",
        "print('Recall: ', recall_SVC_Poly3)\n",
        "print('F1: ', f1_SVC_Poly3)"
      ],
      "metadata": {
        "colab": {
          "base_uri": "https://localhost:8080/"
        },
        "id": "2dMab5yjIStX",
        "outputId": "d5e660cc-eb11-4858-a52f-85158299124e"
      },
      "execution_count": 44,
      "outputs": [
        {
          "output_type": "stream",
          "name": "stdout",
          "text": [
            "Accuracy:  0.9333\n",
            "Percision:  0.9333\n",
            "Recall:  0.9333\n",
            "F1:  0.9333\n"
          ]
        }
      ]
    },
    {
      "cell_type": "code",
      "source": [
        "#SVC:\n",
        "#Radial Basis Function Kernel: 'rbf'\n",
        "\n",
        "svc = svm.SVC(kernel='rbf').fit(X3_train, y3_train)\n",
        "y3_pred_SVC = svc.predict(X3_test)\n",
        "\n",
        "accuracy_SVC_rbf3 = round(metrics.accuracy_score(y3_test, y3_pred_SVC), 4)\n",
        "percision_SVC_rbf3 = round(metrics.precision_score(y3_test, y3_pred_SVC, average='micro'), 4)\n",
        "recall_SVC_rbf3 = round(metrics.recall_score(y3_test, y3_pred_SVC, average='micro'), 4)\n",
        "f1_SVC_rbf3 = round(metrics.f1_score(y3_test, y3_pred_SVC, average='micro'), 4) \n",
        "\n",
        "print('Accuracy: ', accuracy_SVC_rbf3)\n",
        "print('Percision: ', percision_SVC_rbf3)\n",
        "print('Recall: ', recall_SVC_rbf3)\n",
        "print('F1: ', f1_SVC_rbf3)"
      ],
      "metadata": {
        "colab": {
          "base_uri": "https://localhost:8080/"
        },
        "id": "UFishs1kIksq",
        "outputId": "d78eacb9-3811-4e47-a1c6-02e3aad4cc9d"
      },
      "execution_count": 45,
      "outputs": [
        {
          "output_type": "stream",
          "name": "stdout",
          "text": [
            "Accuracy:  0.8667\n",
            "Percision:  0.8667\n",
            "Recall:  0.8667\n",
            "F1:  0.8667\n"
          ]
        }
      ]
    },
    {
      "cell_type": "code",
      "source": [
        "#SVC:\n",
        "#Sigmoid Kernel: 'sigmoid'\n",
        "\n",
        "svc = svm.SVC(kernel='sigmoid').fit(X3_train, y3_train)\n",
        "y3_pred_SVC = svc.predict(X3_test)\n",
        "\n",
        "accuracy_SVC_sig3 = round(metrics.accuracy_score(y3_test, y3_pred_SVC), 4)\n",
        "percision_SVC_sig3 = round(metrics.precision_score(y3_test, y3_pred_SVC, average='micro'), 4)\n",
        "recall_SVC_sig3 = round(metrics.recall_score(y3_test, y3_pred_SVC, average='micro'), 4)\n",
        "f1_SVC_sig3 = round(metrics.f1_score(y3_test, y3_pred_SVC, average='micro'), 4) \n",
        "\n",
        "print('Accuracy: ', accuracy_SVC_sig3)\n",
        "print('Percision: ', percision_SVC_sig3)\n",
        "print('Recall: ', recall_SVC_sig3)\n",
        "print('F1: ', f1_SVC_sig3)"
      ],
      "metadata": {
        "colab": {
          "base_uri": "https://localhost:8080/"
        },
        "id": "BhBTjjYjI1St",
        "outputId": "346ff52d-d52d-4484-e470-4d2585bfe2ab"
      },
      "execution_count": 46,
      "outputs": [
        {
          "output_type": "stream",
          "name": "stdout",
          "text": [
            "Accuracy:  0.325\n",
            "Percision:  0.325\n",
            "Recall:  0.325\n",
            "F1:  0.325\n"
          ]
        }
      ]
    },
    {
      "cell_type": "code",
      "source": [
        "#Gaussian Kernel\n",
        "\n",
        "gsc = gaussian_process.GaussianProcessClassifier(random_state=0).fit(X3_train, y3_train)\n",
        "y3_pred_SVC = gsc.predict(X3_test)\n",
        "\n",
        "accuracy_SVC_gau3 = round(metrics.accuracy_score(y3_test, y3_pred_SVC), 4)\n",
        "percision_SVC_gau3 = round(metrics.precision_score(y3_test, y3_pred_SVC, average='micro'), 4)\n",
        "recall_SVC_gau3 = round(metrics.recall_score(y3_test, y3_pred_SVC, average='micro'), 4)\n",
        "f1_SVC_gau3 = round(metrics.f1_score(y3_test, y3_pred_SVC, average='micro'), 4) \n",
        "\n",
        "print('Accuracy: ', accuracy_SVC_gau3)\n",
        "print('Percision: ', percision_SVC_gau3)\n",
        "print('Recall: ', recall_SVC_gau3)\n",
        "print('F1: ', f1_SVC_gau3)\n"
      ],
      "metadata": {
        "colab": {
          "base_uri": "https://localhost:8080/"
        },
        "id": "fRaF6673JCpq",
        "outputId": "eddb281f-c0bb-461a-975a-8e9033532a33"
      },
      "execution_count": 47,
      "outputs": [
        {
          "output_type": "stream",
          "name": "stdout",
          "text": [
            "Accuracy:  0.8583\n",
            "Percision:  0.8583\n",
            "Recall:  0.8583\n",
            "F1:  0.8583\n"
          ]
        }
      ]
    },
    {
      "cell_type": "code",
      "source": [
        "table = PrettyTable()\n",
        "table.field_names = [\"Name\",\"Kernel\",\"Accuracy\",\"Percision\",\"Recall\",\"F1\"]\n",
        "\n",
        "table.add_row([\"Logistic Regression\",\"\",accuracy_Logis,percision_Logis,recall_Logis,f1_Logis])\n",
        "table.add_row([\"kNN\",\"\",accuracy_kNN,percision_kNN,recall_kNN,f1_kNN])\n",
        "table.add_row([\"Decision Tree\",\"\",accuracy_Tree,percision_Tree,recall_Tree,f1_Tree])\n",
        "table.add_row([\"SVC\",\"Linear\",accuracy_SVC_Linear, percision_SVC_Linear,recall_SVC_Linear,f1_SVC_Linear])\n",
        "table.add_row([\"SVC\",\"Polynomial\",accuracy_SVC_Poly, percision_SVC_Poly, recall_SVC_Poly, f1_SVC_Poly])\n",
        "table.add_row([\"SVC\",\"Radial Basis Function\", accuracy_SVC_rbf, percision_SVC_rbf, recall_SVC_rbf, f1_SVC_rbf])\n",
        "table.add_row([\"SVC\",\"Sigmoid\", accuracy_SVC_sig, percision_SVC_sig, recall_SVC_sig, f1_SVC_rbf])\n",
        "table.add_row([\"Gaussian\",\"\", accuracy_SVC_gau, percision_SVC_gau, recall_SVC_gau, f1_SVC_gau])\n",
        "\n",
        "print(table)"
      ],
      "metadata": {
        "colab": {
          "base_uri": "https://localhost:8080/"
        },
        "id": "wp2_HMpxJSua",
        "outputId": "22181742-7bc8-49b3-d0e2-2c2319586862"
      },
      "execution_count": 52,
      "outputs": [
        {
          "output_type": "stream",
          "name": "stdout",
          "text": [
            "+---------------------+-----------------------+----------+-----------+--------+--------+\n",
            "|         Name        |         Kernel        | Accuracy | Percision | Recall |   F1   |\n",
            "+---------------------+-----------------------+----------+-----------+--------+--------+\n",
            "| Logistic Regression |                       |  0.9386  |   0.9386  | 0.9386 | 0.9386 |\n",
            "|         kNN         |                       |  0.9232  |   0.9232  | 0.9232 | 0.9232 |\n",
            "|    Decision Tree    |                       |  0.9474  |   0.9474  | 0.9474 | 0.9474 |\n",
            "|         SVC         |         Linear        |  0.8917  |   0.8917  | 0.8917 | 0.8917 |\n",
            "|         SVC         |       Polynomial      |  0.9333  |   0.9333  | 0.9333 | 0.9333 |\n",
            "|         SVC         | Radial Basis Function |  0.8667  |   0.8667  | 0.8667 | 0.8667 |\n",
            "|         SVC         |        Sigmoid        |  0.325   |   0.325   | 0.325  | 0.8667 |\n",
            "|       Gaussian      |                       |  0.8583  |   0.8583  | 0.8583 | 0.8583 |\n",
            "+---------------------+-----------------------+----------+-----------+--------+--------+\n"
          ]
        }
      ]
    },
    {
      "cell_type": "markdown",
      "source": [
        "#Task 4. \n",
        "Compare the performance of selected classification algorithms (Decision Tree, kNN, Logistic Regression) and SVM (using different kernels) with **credit card dataset** based on accuracy, precision, recall, f1 measures.\n",
        "\n",
        "*   Give some comments on the obtained results\n",
        "*   Identify issues with dataset, and propose the solutions to these issues\n",
        "\n"
      ],
      "metadata": {
        "id": "Z5pp7_h-aP2u"
      }
    },
    {
      "cell_type": "markdown",
      "source": [
        "jj"
      ],
      "metadata": {
        "id": "P8BjuU2DFGNk"
      }
    },
    {
      "cell_type": "code",
      "source": [
        "data4 = pd.read_csv('/content/sample_data/creditcard.csv')\n",
        "X = data4.iloc[:,:-1]\n",
        "Y = data4['Class']\n",
        "\n",
        "X4_train, X4_test, y4_train, y4_test = model_selection.train_test_split(X, Y, train_size=0.2, random_state=3)\n",
        "\n"
      ],
      "metadata": {
        "id": "Rw_-8FIf2KxW"
      },
      "execution_count": 25,
      "outputs": []
    },
    {
      "cell_type": "code",
      "source": [
        "#SVM\n",
        "svc4 = svm.SVC(kernel='linear').fit(X4_train, y4_train)\n",
        "y4_pred_SVC = svc4.predict(X4_test)\n",
        "\n",
        "accuracy_SVC4 = round(metrics.accuracy_score(y4_test, y4_pred_SVC), 4)\n",
        "percision_SVC4 = round(metrics.precision_score(y4_test, y4_pred_SVC, average='micro'), 4)\n",
        "recall_SVC4 = round(metrics.recall_score(y4_test, y4_pred_SVC, average='micro'), 4)\n",
        "f1_SVC4 = round(metrics.f1_score(y4_test, y4_pred_SVC, average='micro'), 4) \n",
        "\n",
        "print('Accuracy: ', accuracy_SVC4)\n",
        "print('Percision: ', percision_SVC4)\n",
        "print('Recall: ', recall_SVC4)\n",
        "print('F1: ', f1_SVC4)"
      ],
      "metadata": {
        "colab": {
          "base_uri": "https://localhost:8080/"
        },
        "id": "pXO1LqxfA165",
        "outputId": "a9972060-95ff-47c4-f3fe-34bd53d3615a"
      },
      "execution_count": 26,
      "outputs": [
        {
          "output_type": "stream",
          "name": "stdout",
          "text": [
            "Accuracy:  0.9986\n",
            "Percision:  0.9986\n",
            "Recall:  0.9986\n",
            "F1:  0.9986\n"
          ]
        }
      ]
    },
    {
      "cell_type": "code",
      "source": [
        "#Logistic Regression\n",
        "\n",
        "logis = linear_model.LogisticRegression(random_state=0).fit(X4_train, y4_train)\n",
        "y4_pred_Logis = logis.predict(X4_test)\n",
        "\n",
        "accuracy_Logis4 = round(metrics.accuracy_score(y4_test, y4_pred_Logis), 4)\n",
        "percision_Logis4 = round(metrics.precision_score(y4_test, y4_pred_Logis, average='micro'), 4)\n",
        "recall_Logis4 = round(metrics.recall_score(y4_test, y4_pred_Logis, average='micro'), 4)\n",
        "f1_Logis4 = round(metrics.f1_score(y4_test, y4_pred_Logis, average='micro'), 4) \n",
        "\n",
        "print('Accuracy: ', accuracy_Logis4)\n",
        "print('Percision: ', percision_Logis4)\n",
        "print('Recall: ', recall_Logis4)\n",
        "print('F1: ', f1_Logis4)"
      ],
      "metadata": {
        "colab": {
          "base_uri": "https://localhost:8080/"
        },
        "id": "BqZfWn2oBjdM",
        "outputId": "1c6e12dc-2607-40cf-d487-a26435aff0e8"
      },
      "execution_count": 27,
      "outputs": [
        {
          "output_type": "stream",
          "name": "stderr",
          "text": [
            "/usr/local/lib/python3.9/dist-packages/sklearn/linear_model/_logistic.py:458: ConvergenceWarning: lbfgs failed to converge (status=1):\n",
            "STOP: TOTAL NO. of ITERATIONS REACHED LIMIT.\n",
            "\n",
            "Increase the number of iterations (max_iter) or scale the data as shown in:\n",
            "    https://scikit-learn.org/stable/modules/preprocessing.html\n",
            "Please also refer to the documentation for alternative solver options:\n",
            "    https://scikit-learn.org/stable/modules/linear_model.html#logistic-regression\n",
            "  n_iter_i = _check_optimize_result(\n"
          ]
        },
        {
          "output_type": "stream",
          "name": "stdout",
          "text": [
            "Accuracy:  0.9989\n",
            "Percision:  0.9989\n",
            "Recall:  0.9989\n",
            "F1:  0.9989\n"
          ]
        }
      ]
    },
    {
      "cell_type": "code",
      "source": [
        "#kNN\n",
        "\n",
        "knn = neighbors.KNeighborsClassifier(n_neighbors=3).fit(X4_train, y4_train)\n",
        "y4_pred_kNN = knn.predict(X4_test)\n",
        "\n",
        "accuracy_kNN4 = round(metrics.accuracy_score(y4_test, y4_pred_kNN), 4)\n",
        "percision_kNN4 = round(metrics.precision_score(y4_test, y4_pred_kNN, average='micro'), 4)\n",
        "recall_kNN4 = round(metrics.recall_score(y4_test, y4_pred_kNN, average='micro'), 4)\n",
        "f1_kNN4 = round(metrics.f1_score(y4_test, y4_pred_kNN, average='micro'), 4) \n",
        "\n",
        "print('Accuracy: ', accuracy_kNN4)\n",
        "print('Percision: ', percision_kNN4)\n",
        "print('Recall: ', recall_kNN4)\n",
        "print('F1: ', f1_kNN4)"
      ],
      "metadata": {
        "colab": {
          "base_uri": "https://localhost:8080/"
        },
        "id": "Az9zjWnUDjtK",
        "outputId": "ce8912f7-d149-47ae-9944-60486a5eca1e"
      },
      "execution_count": 28,
      "outputs": [
        {
          "output_type": "stream",
          "name": "stdout",
          "text": [
            "Accuracy:  0.9984\n",
            "Percision:  0.9984\n",
            "Recall:  0.9984\n",
            "F1:  0.9984\n"
          ]
        }
      ]
    },
    {
      "cell_type": "code",
      "source": [
        "#Decision Tree\n",
        "tre =tree.DecisionTreeClassifier(criterion='gini', random_state=42, max_depth=3, min_samples_leaf=5)\n",
        "tre.fit(X4_train, y4_train)\n",
        "y4_pred_Tree = tre.predict(X4_test)\n",
        "\n",
        "accuracy_Tree4 = round(metrics.accuracy_score(y4_test, y4_pred_Tree), 4)\n",
        "percision_Tree4 = round(metrics.precision_score(y4_test, y4_pred_Tree, average='micro'), 4)\n",
        "recall_Tree4 = round(metrics.recall_score(y4_test, y4_pred_Tree, average='micro'), 4)\n",
        "f1_Tree4 = round(metrics.f1_score(y4_test, y4_pred_Tree, average='micro'), 4) \n",
        "\n",
        "print('Accuracy: ', accuracy_Tree4)\n",
        "print('Percision: ', percision_Tree4)\n",
        "print('Recall: ', recall_Tree4)\n",
        "print('F1: ', f1_Tree4)"
      ],
      "metadata": {
        "colab": {
          "base_uri": "https://localhost:8080/"
        },
        "id": "n-Arr_rKEA7z",
        "outputId": "4e8fde99-1c3c-4414-e407-85b68558551a"
      },
      "execution_count": 29,
      "outputs": [
        {
          "output_type": "stream",
          "name": "stdout",
          "text": [
            "Accuracy:  0.9992\n",
            "Percision:  0.9992\n",
            "Recall:  0.9992\n",
            "F1:  0.9992\n"
          ]
        }
      ]
    },
    {
      "cell_type": "code",
      "source": [
        "table = PrettyTable()\n",
        "table.field_names = [\"Name\",\"Accuracy\",\"Percision\",\"Recall\",\"F1\"]\n",
        "table.add_row([\"SVC\",accuracy_SVC4,percision_SVC4,recall_SVC4,f1_SVC4])\n",
        "table.add_row([\"Logistic Regression\",accuracy_Logis4,percision_Logis4,recall_Logis4,f1_Logis4])\n",
        "table.add_row([\"kNN\",accuracy_kNN4,percision_kNN4,recall_kNN4,f1_kNN4])\n",
        "table.add_row([\"Decision Tree\",accuracy_Tree4,percision_Tree4,recall_Tree4,f1_Tree4])\n",
        "\n",
        "print(table)"
      ],
      "metadata": {
        "colab": {
          "base_uri": "https://localhost:8080/"
        },
        "id": "3l5Tok9sEgqc",
        "outputId": "23cbd7f8-4659-4043-c0df-0a238ba74fbd"
      },
      "execution_count": 30,
      "outputs": [
        {
          "output_type": "stream",
          "name": "stdout",
          "text": [
            "+---------------------+----------+-----------+--------+--------+\n",
            "|         Name        | Accuracy | Percision | Recall |   F1   |\n",
            "+---------------------+----------+-----------+--------+--------+\n",
            "|         SVC         |  0.9986  |   0.9986  | 0.9986 | 0.9986 |\n",
            "| Logistic Regression |  0.9989  |   0.9989  | 0.9989 | 0.9989 |\n",
            "|         kNN         |  0.9984  |   0.9984  | 0.9984 | 0.9984 |\n",
            "|    Decision Tree    |  0.9992  |   0.9992  | 0.9992 | 0.9992 |\n",
            "+---------------------+----------+-----------+--------+--------+\n"
          ]
        }
      ]
    },
    {
      "cell_type": "markdown",
      "source": [
        "#Finally,\n",
        "Save a copy in your Github. Remember renaming the notebook."
      ],
      "metadata": {
        "id": "Ok7RGkea_b7n"
      }
    }
  ]
}