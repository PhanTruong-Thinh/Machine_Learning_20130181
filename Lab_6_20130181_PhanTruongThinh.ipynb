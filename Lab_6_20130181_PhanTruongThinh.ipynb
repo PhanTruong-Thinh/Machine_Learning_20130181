{
  "nbformat": 4,
  "nbformat_minor": 0,
  "metadata": {
    "colab": {
      "provenance": [],
      "include_colab_link": true
    },
    "kernelspec": {
      "name": "python3",
      "display_name": "Python 3"
    },
    "language_info": {
      "name": "python"
    }
  },
  "cells": [
    {
      "cell_type": "markdown",
      "metadata": {
        "id": "view-in-github",
        "colab_type": "text"
      },
      "source": [
        "<a href=\"https://colab.research.google.com/github/PhanTruong-Thinh/Machine_Learning_20130181/blob/main/Lab_6_20130181_PhanTruongThinh.ipynb\" target=\"_parent\"><img src=\"https://colab.research.google.com/assets/colab-badge.svg\" alt=\"Open In Colab\"/></a>"
      ]
    },
    {
      "cell_type": "markdown",
      "source": [
        "# This lab is to deal with classification task using **Random Forests** and **Naïve Bayes** algorithms with/without **Feature Selection**. \n",
        "\n",
        "*   **Deadline: 23:59, 25/03/2023**\n",
        "\n"
      ],
      "metadata": {
        "id": "LMzehe0sy5wr"
      }
    },
    {
      "cell_type": "code",
      "source": [
        "from google.colab import drive\n",
        "drive.mount('/content/drive')\n",
        "%cd /content/drive/MyDrive/Machine Learning"
      ],
      "metadata": {
        "colab": {
          "base_uri": "https://localhost:8080/"
        },
        "id": "c5EL_zx4nAud",
        "outputId": "b3dd0690-a0fa-44b2-ab1e-991a56c6f153"
      },
      "execution_count": 5,
      "outputs": [
        {
          "output_type": "stream",
          "name": "stdout",
          "text": [
            "Mounted at /content/drive\n",
            "/content/drive/MyDrive/Machine Learning\n"
          ]
        }
      ]
    },
    {
      "cell_type": "markdown",
      "source": [
        "# Import libraries"
      ],
      "metadata": {
        "id": "H4nJmxp9zGX4"
      }
    },
    {
      "cell_type": "code",
      "execution_count": 6,
      "metadata": {
        "id": "DoVWQ8AEyc-C"
      },
      "outputs": [],
      "source": [
        "import pandas as pd\n",
        "import numpy as np\n",
        "from numpy import set_printoptions\n",
        "import matplotlib.pyplot as plt\n",
        "from prettytable import PrettyTable\n",
        "import seaborn as sns\n",
        "from sklearn import datasets\n",
        "from sklearn.linear_model import LinearRegression, LogisticRegression\n",
        "from sklearn.model_selection import train_test_split\n",
        "from sklearn.preprocessing import StandardScaler, OneHotEncoder, MinMaxScaler\n",
        "from sklearn.svm import SVC\n",
        "from sklearn.neighbors import KNeighborsClassifier\n",
        "from sklearn.tree import DecisionTreeClassifier\n",
        "from sklearn import metrics\n",
        "from sklearn.ensemble import RandomForestClassifier, ExtraTreesClassifier\n",
        "from sklearn.impute import SimpleImputer\n",
        "from sklearn import naive_bayes\n",
        "from sklearn.feature_selection import SelectKBest, f_classif, chi2\n",
        "%matplotlib inline\n"
      ]
    },
    {
      "cell_type": "markdown",
      "source": [
        "# Task 1"
      ],
      "metadata": {
        "id": "E8dMG105oWeL"
      }
    },
    {
      "cell_type": "markdown",
      "source": [
        "Task 1. Compare the performance of selected classification algorithms including Random forest, NaiveBayes, and SVM with mnist dataset based on accuracy, precision, recall, f1 measures according to without using selection feature and using selection feature."
      ],
      "metadata": {
        "id": "4GjtXKTToSmT"
      }
    },
    {
      "cell_type": "code",
      "source": [
        "#load data\n",
        "data = datasets.load_digits(as_frame=True)\n",
        "\n",
        "X = data['data']\n",
        "Y = data['target']\n",
        "\n",
        "X_train, X_test, y_train, y_test = train_test_split(X, Y, train_size=0.4, random_state=11)\n",
        "X_train"
      ],
      "metadata": {
        "id": "sOsg77IBzEyo",
        "colab": {
          "base_uri": "https://localhost:8080/",
          "height": 488
        },
        "outputId": "ff2e0898-f5f7-4500-f616-e0c30c5f2a54"
      },
      "execution_count": 55,
      "outputs": [
        {
          "output_type": "execute_result",
          "data": {
            "text/plain": [
              "      pixel_0_0  pixel_0_1  pixel_0_2  pixel_0_3  pixel_0_4  pixel_0_5  \\\n",
              "11          0.0        0.0        0.0        0.0       14.0       13.0   \n",
              "1754        0.0        0.0        0.0        0.0       13.0        8.0   \n",
              "1553        0.0        0.0        1.0        8.0       13.0        1.0   \n",
              "330         0.0        0.0        5.0        8.0       12.0       16.0   \n",
              "1205        0.0        2.0        8.0       15.0       16.0       10.0   \n",
              "...         ...        ...        ...        ...        ...        ...   \n",
              "1293        0.0        0.0        0.0       11.0       13.0        0.0   \n",
              "1361        0.0        0.0        4.0        9.0       13.0       13.0   \n",
              "1115        0.0        0.0        1.0       13.0        2.0        0.0   \n",
              "1104        0.0        1.0       11.0       16.0       16.0       10.0   \n",
              "1727        0.0        0.0        6.0       11.0       16.0       13.0   \n",
              "\n",
              "      pixel_0_6  pixel_0_7  pixel_1_0  pixel_1_1  ...  pixel_6_6  pixel_6_7  \\\n",
              "11          1.0        0.0        0.0        0.0  ...        0.0        0.0   \n",
              "1754        0.0        0.0        0.0        0.0  ...        0.0        0.0   \n",
              "1553        0.0        0.0        0.0        0.0  ...        0.0        0.0   \n",
              "330         4.0        0.0        0.0        3.0  ...        0.0        0.0   \n",
              "1205        0.0        0.0        0.0       11.0  ...        0.0        0.0   \n",
              "...         ...        ...        ...        ...  ...        ...        ...   \n",
              "1293        0.0        0.0        0.0        0.0  ...       16.0        2.0   \n",
              "1361        0.0        0.0        0.0        1.0  ...        1.0        0.0   \n",
              "1115        0.0        0.0        0.0        0.0  ...       14.0        5.0   \n",
              "1104        0.0        0.0        0.0        8.0  ...        6.0        0.0   \n",
              "1727        5.0        0.0        0.0        2.0  ...        0.0        0.0   \n",
              "\n",
              "      pixel_7_0  pixel_7_1  pixel_7_2  pixel_7_3  pixel_7_4  pixel_7_5  \\\n",
              "11          0.0        0.0        0.0        1.0       13.0       16.0   \n",
              "1754        0.0        0.0        0.0        0.0       15.0        7.0   \n",
              "1553        0.0        0.0        0.0        5.0       12.0        5.0   \n",
              "330         0.0        0.0        7.0       13.0        7.0        0.0   \n",
              "1205        0.0        0.0        7.0       16.0       14.0        1.0   \n",
              "...         ...        ...        ...        ...        ...        ...   \n",
              "1293        0.0        0.0        1.0       11.0       16.0       15.0   \n",
              "1361        0.0        0.0        3.0       12.0       14.0        8.0   \n",
              "1115        0.0        0.0        1.0       11.0       16.0       16.0   \n",
              "1104        0.0        0.0       14.0       16.0       13.0       13.0   \n",
              "1727        0.0        0.0        5.0       14.0       11.0        6.0   \n",
              "\n",
              "      pixel_7_6  pixel_7_7  \n",
              "11          1.0        0.0  \n",
              "1754        0.0        0.0  \n",
              "1553        0.0        0.0  \n",
              "330         0.0        0.0  \n",
              "1205        0.0        0.0  \n",
              "...         ...        ...  \n",
              "1293        4.0        0.0  \n",
              "1361        0.0        0.0  \n",
              "1115       13.0        1.0  \n",
              "1104       16.0        5.0  \n",
              "1727        0.0        0.0  \n",
              "\n",
              "[718 rows x 64 columns]"
            ],
            "text/html": [
              "\n",
              "  <div id=\"df-b1ba96b2-bcdc-4dea-be7c-5dda5e56f7a9\">\n",
              "    <div class=\"colab-df-container\">\n",
              "      <div>\n",
              "<style scoped>\n",
              "    .dataframe tbody tr th:only-of-type {\n",
              "        vertical-align: middle;\n",
              "    }\n",
              "\n",
              "    .dataframe tbody tr th {\n",
              "        vertical-align: top;\n",
              "    }\n",
              "\n",
              "    .dataframe thead th {\n",
              "        text-align: right;\n",
              "    }\n",
              "</style>\n",
              "<table border=\"1\" class=\"dataframe\">\n",
              "  <thead>\n",
              "    <tr style=\"text-align: right;\">\n",
              "      <th></th>\n",
              "      <th>pixel_0_0</th>\n",
              "      <th>pixel_0_1</th>\n",
              "      <th>pixel_0_2</th>\n",
              "      <th>pixel_0_3</th>\n",
              "      <th>pixel_0_4</th>\n",
              "      <th>pixel_0_5</th>\n",
              "      <th>pixel_0_6</th>\n",
              "      <th>pixel_0_7</th>\n",
              "      <th>pixel_1_0</th>\n",
              "      <th>pixel_1_1</th>\n",
              "      <th>...</th>\n",
              "      <th>pixel_6_6</th>\n",
              "      <th>pixel_6_7</th>\n",
              "      <th>pixel_7_0</th>\n",
              "      <th>pixel_7_1</th>\n",
              "      <th>pixel_7_2</th>\n",
              "      <th>pixel_7_3</th>\n",
              "      <th>pixel_7_4</th>\n",
              "      <th>pixel_7_5</th>\n",
              "      <th>pixel_7_6</th>\n",
              "      <th>pixel_7_7</th>\n",
              "    </tr>\n",
              "  </thead>\n",
              "  <tbody>\n",
              "    <tr>\n",
              "      <th>11</th>\n",
              "      <td>0.0</td>\n",
              "      <td>0.0</td>\n",
              "      <td>0.0</td>\n",
              "      <td>0.0</td>\n",
              "      <td>14.0</td>\n",
              "      <td>13.0</td>\n",
              "      <td>1.0</td>\n",
              "      <td>0.0</td>\n",
              "      <td>0.0</td>\n",
              "      <td>0.0</td>\n",
              "      <td>...</td>\n",
              "      <td>0.0</td>\n",
              "      <td>0.0</td>\n",
              "      <td>0.0</td>\n",
              "      <td>0.0</td>\n",
              "      <td>0.0</td>\n",
              "      <td>1.0</td>\n",
              "      <td>13.0</td>\n",
              "      <td>16.0</td>\n",
              "      <td>1.0</td>\n",
              "      <td>0.0</td>\n",
              "    </tr>\n",
              "    <tr>\n",
              "      <th>1754</th>\n",
              "      <td>0.0</td>\n",
              "      <td>0.0</td>\n",
              "      <td>0.0</td>\n",
              "      <td>0.0</td>\n",
              "      <td>13.0</td>\n",
              "      <td>8.0</td>\n",
              "      <td>0.0</td>\n",
              "      <td>0.0</td>\n",
              "      <td>0.0</td>\n",
              "      <td>0.0</td>\n",
              "      <td>...</td>\n",
              "      <td>0.0</td>\n",
              "      <td>0.0</td>\n",
              "      <td>0.0</td>\n",
              "      <td>0.0</td>\n",
              "      <td>0.0</td>\n",
              "      <td>0.0</td>\n",
              "      <td>15.0</td>\n",
              "      <td>7.0</td>\n",
              "      <td>0.0</td>\n",
              "      <td>0.0</td>\n",
              "    </tr>\n",
              "    <tr>\n",
              "      <th>1553</th>\n",
              "      <td>0.0</td>\n",
              "      <td>0.0</td>\n",
              "      <td>1.0</td>\n",
              "      <td>8.0</td>\n",
              "      <td>13.0</td>\n",
              "      <td>1.0</td>\n",
              "      <td>0.0</td>\n",
              "      <td>0.0</td>\n",
              "      <td>0.0</td>\n",
              "      <td>0.0</td>\n",
              "      <td>...</td>\n",
              "      <td>0.0</td>\n",
              "      <td>0.0</td>\n",
              "      <td>0.0</td>\n",
              "      <td>0.0</td>\n",
              "      <td>0.0</td>\n",
              "      <td>5.0</td>\n",
              "      <td>12.0</td>\n",
              "      <td>5.0</td>\n",
              "      <td>0.0</td>\n",
              "      <td>0.0</td>\n",
              "    </tr>\n",
              "    <tr>\n",
              "      <th>330</th>\n",
              "      <td>0.0</td>\n",
              "      <td>0.0</td>\n",
              "      <td>5.0</td>\n",
              "      <td>8.0</td>\n",
              "      <td>12.0</td>\n",
              "      <td>16.0</td>\n",
              "      <td>4.0</td>\n",
              "      <td>0.0</td>\n",
              "      <td>0.0</td>\n",
              "      <td>3.0</td>\n",
              "      <td>...</td>\n",
              "      <td>0.0</td>\n",
              "      <td>0.0</td>\n",
              "      <td>0.0</td>\n",
              "      <td>0.0</td>\n",
              "      <td>7.0</td>\n",
              "      <td>13.0</td>\n",
              "      <td>7.0</td>\n",
              "      <td>0.0</td>\n",
              "      <td>0.0</td>\n",
              "      <td>0.0</td>\n",
              "    </tr>\n",
              "    <tr>\n",
              "      <th>1205</th>\n",
              "      <td>0.0</td>\n",
              "      <td>2.0</td>\n",
              "      <td>8.0</td>\n",
              "      <td>15.0</td>\n",
              "      <td>16.0</td>\n",
              "      <td>10.0</td>\n",
              "      <td>0.0</td>\n",
              "      <td>0.0</td>\n",
              "      <td>0.0</td>\n",
              "      <td>11.0</td>\n",
              "      <td>...</td>\n",
              "      <td>0.0</td>\n",
              "      <td>0.0</td>\n",
              "      <td>0.0</td>\n",
              "      <td>0.0</td>\n",
              "      <td>7.0</td>\n",
              "      <td>16.0</td>\n",
              "      <td>14.0</td>\n",
              "      <td>1.0</td>\n",
              "      <td>0.0</td>\n",
              "      <td>0.0</td>\n",
              "    </tr>\n",
              "    <tr>\n",
              "      <th>...</th>\n",
              "      <td>...</td>\n",
              "      <td>...</td>\n",
              "      <td>...</td>\n",
              "      <td>...</td>\n",
              "      <td>...</td>\n",
              "      <td>...</td>\n",
              "      <td>...</td>\n",
              "      <td>...</td>\n",
              "      <td>...</td>\n",
              "      <td>...</td>\n",
              "      <td>...</td>\n",
              "      <td>...</td>\n",
              "      <td>...</td>\n",
              "      <td>...</td>\n",
              "      <td>...</td>\n",
              "      <td>...</td>\n",
              "      <td>...</td>\n",
              "      <td>...</td>\n",
              "      <td>...</td>\n",
              "      <td>...</td>\n",
              "      <td>...</td>\n",
              "    </tr>\n",
              "    <tr>\n",
              "      <th>1293</th>\n",
              "      <td>0.0</td>\n",
              "      <td>0.0</td>\n",
              "      <td>0.0</td>\n",
              "      <td>11.0</td>\n",
              "      <td>13.0</td>\n",
              "      <td>0.0</td>\n",
              "      <td>0.0</td>\n",
              "      <td>0.0</td>\n",
              "      <td>0.0</td>\n",
              "      <td>0.0</td>\n",
              "      <td>...</td>\n",
              "      <td>16.0</td>\n",
              "      <td>2.0</td>\n",
              "      <td>0.0</td>\n",
              "      <td>0.0</td>\n",
              "      <td>1.0</td>\n",
              "      <td>11.0</td>\n",
              "      <td>16.0</td>\n",
              "      <td>15.0</td>\n",
              "      <td>4.0</td>\n",
              "      <td>0.0</td>\n",
              "    </tr>\n",
              "    <tr>\n",
              "      <th>1361</th>\n",
              "      <td>0.0</td>\n",
              "      <td>0.0</td>\n",
              "      <td>4.0</td>\n",
              "      <td>9.0</td>\n",
              "      <td>13.0</td>\n",
              "      <td>13.0</td>\n",
              "      <td>0.0</td>\n",
              "      <td>0.0</td>\n",
              "      <td>0.0</td>\n",
              "      <td>1.0</td>\n",
              "      <td>...</td>\n",
              "      <td>1.0</td>\n",
              "      <td>0.0</td>\n",
              "      <td>0.0</td>\n",
              "      <td>0.0</td>\n",
              "      <td>3.0</td>\n",
              "      <td>12.0</td>\n",
              "      <td>14.0</td>\n",
              "      <td>8.0</td>\n",
              "      <td>0.0</td>\n",
              "      <td>0.0</td>\n",
              "    </tr>\n",
              "    <tr>\n",
              "      <th>1115</th>\n",
              "      <td>0.0</td>\n",
              "      <td>0.0</td>\n",
              "      <td>1.0</td>\n",
              "      <td>13.0</td>\n",
              "      <td>2.0</td>\n",
              "      <td>0.0</td>\n",
              "      <td>0.0</td>\n",
              "      <td>0.0</td>\n",
              "      <td>0.0</td>\n",
              "      <td>0.0</td>\n",
              "      <td>...</td>\n",
              "      <td>14.0</td>\n",
              "      <td>5.0</td>\n",
              "      <td>0.0</td>\n",
              "      <td>0.0</td>\n",
              "      <td>1.0</td>\n",
              "      <td>11.0</td>\n",
              "      <td>16.0</td>\n",
              "      <td>16.0</td>\n",
              "      <td>13.0</td>\n",
              "      <td>1.0</td>\n",
              "    </tr>\n",
              "    <tr>\n",
              "      <th>1104</th>\n",
              "      <td>0.0</td>\n",
              "      <td>1.0</td>\n",
              "      <td>11.0</td>\n",
              "      <td>16.0</td>\n",
              "      <td>16.0</td>\n",
              "      <td>10.0</td>\n",
              "      <td>0.0</td>\n",
              "      <td>0.0</td>\n",
              "      <td>0.0</td>\n",
              "      <td>8.0</td>\n",
              "      <td>...</td>\n",
              "      <td>6.0</td>\n",
              "      <td>0.0</td>\n",
              "      <td>0.0</td>\n",
              "      <td>0.0</td>\n",
              "      <td>14.0</td>\n",
              "      <td>16.0</td>\n",
              "      <td>13.0</td>\n",
              "      <td>13.0</td>\n",
              "      <td>16.0</td>\n",
              "      <td>5.0</td>\n",
              "    </tr>\n",
              "    <tr>\n",
              "      <th>1727</th>\n",
              "      <td>0.0</td>\n",
              "      <td>0.0</td>\n",
              "      <td>6.0</td>\n",
              "      <td>11.0</td>\n",
              "      <td>16.0</td>\n",
              "      <td>13.0</td>\n",
              "      <td>5.0</td>\n",
              "      <td>0.0</td>\n",
              "      <td>0.0</td>\n",
              "      <td>2.0</td>\n",
              "      <td>...</td>\n",
              "      <td>0.0</td>\n",
              "      <td>0.0</td>\n",
              "      <td>0.0</td>\n",
              "      <td>0.0</td>\n",
              "      <td>5.0</td>\n",
              "      <td>14.0</td>\n",
              "      <td>11.0</td>\n",
              "      <td>6.0</td>\n",
              "      <td>0.0</td>\n",
              "      <td>0.0</td>\n",
              "    </tr>\n",
              "  </tbody>\n",
              "</table>\n",
              "<p>718 rows × 64 columns</p>\n",
              "</div>\n",
              "      <button class=\"colab-df-convert\" onclick=\"convertToInteractive('df-b1ba96b2-bcdc-4dea-be7c-5dda5e56f7a9')\"\n",
              "              title=\"Convert this dataframe to an interactive table.\"\n",
              "              style=\"display:none;\">\n",
              "        \n",
              "  <svg xmlns=\"http://www.w3.org/2000/svg\" height=\"24px\"viewBox=\"0 0 24 24\"\n",
              "       width=\"24px\">\n",
              "    <path d=\"M0 0h24v24H0V0z\" fill=\"none\"/>\n",
              "    <path d=\"M18.56 5.44l.94 2.06.94-2.06 2.06-.94-2.06-.94-.94-2.06-.94 2.06-2.06.94zm-11 1L8.5 8.5l.94-2.06 2.06-.94-2.06-.94L8.5 2.5l-.94 2.06-2.06.94zm10 10l.94 2.06.94-2.06 2.06-.94-2.06-.94-.94-2.06-.94 2.06-2.06.94z\"/><path d=\"M17.41 7.96l-1.37-1.37c-.4-.4-.92-.59-1.43-.59-.52 0-1.04.2-1.43.59L10.3 9.45l-7.72 7.72c-.78.78-.78 2.05 0 2.83L4 21.41c.39.39.9.59 1.41.59.51 0 1.02-.2 1.41-.59l7.78-7.78 2.81-2.81c.8-.78.8-2.07 0-2.86zM5.41 20L4 18.59l7.72-7.72 1.47 1.35L5.41 20z\"/>\n",
              "  </svg>\n",
              "      </button>\n",
              "      \n",
              "  <style>\n",
              "    .colab-df-container {\n",
              "      display:flex;\n",
              "      flex-wrap:wrap;\n",
              "      gap: 12px;\n",
              "    }\n",
              "\n",
              "    .colab-df-convert {\n",
              "      background-color: #E8F0FE;\n",
              "      border: none;\n",
              "      border-radius: 50%;\n",
              "      cursor: pointer;\n",
              "      display: none;\n",
              "      fill: #1967D2;\n",
              "      height: 32px;\n",
              "      padding: 0 0 0 0;\n",
              "      width: 32px;\n",
              "    }\n",
              "\n",
              "    .colab-df-convert:hover {\n",
              "      background-color: #E2EBFA;\n",
              "      box-shadow: 0px 1px 2px rgba(60, 64, 67, 0.3), 0px 1px 3px 1px rgba(60, 64, 67, 0.15);\n",
              "      fill: #174EA6;\n",
              "    }\n",
              "\n",
              "    [theme=dark] .colab-df-convert {\n",
              "      background-color: #3B4455;\n",
              "      fill: #D2E3FC;\n",
              "    }\n",
              "\n",
              "    [theme=dark] .colab-df-convert:hover {\n",
              "      background-color: #434B5C;\n",
              "      box-shadow: 0px 1px 3px 1px rgba(0, 0, 0, 0.15);\n",
              "      filter: drop-shadow(0px 1px 2px rgba(0, 0, 0, 0.3));\n",
              "      fill: #FFFFFF;\n",
              "    }\n",
              "  </style>\n",
              "\n",
              "      <script>\n",
              "        const buttonEl =\n",
              "          document.querySelector('#df-b1ba96b2-bcdc-4dea-be7c-5dda5e56f7a9 button.colab-df-convert');\n",
              "        buttonEl.style.display =\n",
              "          google.colab.kernel.accessAllowed ? 'block' : 'none';\n",
              "\n",
              "        async function convertToInteractive(key) {\n",
              "          const element = document.querySelector('#df-b1ba96b2-bcdc-4dea-be7c-5dda5e56f7a9');\n",
              "          const dataTable =\n",
              "            await google.colab.kernel.invokeFunction('convertToInteractive',\n",
              "                                                     [key], {});\n",
              "          if (!dataTable) return;\n",
              "\n",
              "          const docLinkHtml = 'Like what you see? Visit the ' +\n",
              "            '<a target=\"_blank\" href=https://colab.research.google.com/notebooks/data_table.ipynb>data table notebook</a>'\n",
              "            + ' to learn more about interactive tables.';\n",
              "          element.innerHTML = '';\n",
              "          dataTable['output_type'] = 'display_data';\n",
              "          await google.colab.output.renderOutput(dataTable, element);\n",
              "          const docLink = document.createElement('div');\n",
              "          docLink.innerHTML = docLinkHtml;\n",
              "          element.appendChild(docLink);\n",
              "        }\n",
              "      </script>\n",
              "    </div>\n",
              "  </div>\n",
              "  "
            ]
          },
          "metadata": {},
          "execution_count": 55
        }
      ]
    },
    {
      "cell_type": "markdown",
      "source": [
        "# 1.1 without using selection feature\n",
        "\n",
        "\n",
        "\n"
      ],
      "metadata": {
        "id": "fyq2y8Tnor4U"
      }
    },
    {
      "cell_type": "code",
      "source": [
        "#SVM\n",
        "\n",
        "clf_Svm = SVC(kernel='poly')\n",
        "clf_Svm.fit(X_train, y_train)\n",
        "y_pred_Svm = clf_Svm.predict(X_test)\n",
        "\n",
        "accs_Svm=round(metrics.accuracy_score(y_test, y_pred_Svm), 4)\n",
        "pre_Svm=round(metrics.precision_score(y_test, y_pred_Svm, average='micro'), 4)\n",
        "recall_Svm=round(metrics.recall_score(y_test, y_pred_Svm, average='micro'), 4)\n",
        "f1_Svm=round(metrics.f1_score(y_test, y_pred_Svm, average='micro'), 4)\n",
        "\n",
        "print('Accuracy: ', accs_Svm)\n",
        "print('Precision: ', pre_Svm)\n",
        "print('Recall: ', recall_Svm)\n",
        "print('F1: ', f1_Svm)\n",
        "\n",
        "metrics.ConfusionMatrixDisplay.from_estimator(clf_Svm, X_test, y_test)\n",
        "\n"
      ],
      "metadata": {
        "colab": {
          "base_uri": "https://localhost:8080/",
          "height": 366
        },
        "id": "qLrbB7FbzIVt",
        "outputId": "61b4882a-c3d1-4629-d37e-0b988c4b4bfa"
      },
      "execution_count": 14,
      "outputs": [
        {
          "output_type": "stream",
          "name": "stdout",
          "text": [
            "Accuracy:  0.9825\n",
            "Precision:  0.9825\n",
            "Recall:  0.9825\n",
            "F1:  0.9825\n"
          ]
        },
        {
          "output_type": "execute_result",
          "data": {
            "text/plain": [
              "<sklearn.metrics._plot.confusion_matrix.ConfusionMatrixDisplay at 0x7f453494e7f0>"
            ]
          },
          "metadata": {},
          "execution_count": 14
        },
        {
          "output_type": "display_data",
          "data": {
            "text/plain": [
              "<Figure size 432x288 with 2 Axes>"
            ],
            "image/png": "[encoded data removed]"
          },
          "metadata": {
            "needs_background": "light"
          }
        }
      ]
    },
    {
      "cell_type": "code",
      "source": [
        "#Random forest\n",
        "\n",
        "clf_ran=RandomForestClassifier(n_estimators=100)\n",
        "\n",
        "clf_ran.fit(X_train,y_train)\n",
        "y_pred_ran = clf_ran.predict(X_test)\n",
        "\n",
        "accs_ran=round(metrics.accuracy_score(y_test, y_pred_ran), 4)\n",
        "pre_ran=round(metrics.precision_score(y_test, y_pred_ran, average='micro'), 4)\n",
        "recall_ran=round(metrics.recall_score(y_test, y_pred_ran, average='micro'), 4)\n",
        "f1_ran=round(metrics.f1_score(y_test, y_pred_ran, average='micro'), 4)\n",
        "\n",
        "print('Accuracy: ', accs_ran)\n",
        "print('Precision: ', pre_ran)\n",
        "print('Recall: ', recall_ran)\n",
        "print('F1: ', f1_ran)\n",
        "\n",
        "metrics.ConfusionMatrixDisplay.from_estimator(clf_ran, X_test, y_test)\n"
      ],
      "metadata": {
        "colab": {
          "base_uri": "https://localhost:8080/",
          "height": 366
        },
        "id": "kpWcznvU5QZA",
        "outputId": "84146442-f0a9-4e45-ac7e-c44e0f7cbe47"
      },
      "execution_count": 21,
      "outputs": [
        {
          "output_type": "stream",
          "name": "stdout",
          "text": [
            "Accuracy:  0.9465\n",
            "Precision:  0.9465\n",
            "Recall:  0.9465\n",
            "F1:  0.9465\n"
          ]
        },
        {
          "output_type": "execute_result",
          "data": {
            "text/plain": [
              "<sklearn.metrics._plot.confusion_matrix.ConfusionMatrixDisplay at 0x7f453558c520>"
            ]
          },
          "metadata": {},
          "execution_count": 21
        },
        {
          "output_type": "display_data",
          "data": {
            "text/plain": [
              "<Figure size 432x288 with 2 Axes>"
            ],
            "image/png": "[encoded data removed]"
          },
          "metadata": {
            "needs_background": "light"
          }
        }
      ]
    },
    {
      "cell_type": "code",
      "source": [
        "#NaiveBayes\n",
        "# 1. GaussianNB\n",
        "model = naive_bayes.GaussianNB()\n",
        "model.fit(X_train, y_train)\n",
        "y_pred_Gau = model.predict(X_test)\n",
        "\n",
        "accs_Gau=round(metrics.accuracy_score(y_test, y_pred_Gau), 4)\n",
        "pre_Gau=round(metrics.precision_score(y_test, y_pred_Gau, average='micro'), 4)\n",
        "recall_Gau=round(metrics.recall_score(y_test, y_pred_Gau, average='micro'), 4)\n",
        "f1_Gau=round(metrics.f1_score(y_test, y_pred_Gau, average='micro'), 4)\n",
        "\n",
        "# 2. CategoricalNB\n",
        "# model_ca = naive_bayes.CategoricalNB(force_alpha=True).fit(X_train, y_train)\n",
        "# y_pred_cat = model_ca.predict(X_test)\n",
        "\n",
        "# accs_cat=round(metrics.accuracy_score(y_test, y_pred_cat), 4)\n",
        "# pre_cat=round(metrics.precision_score(y_test, y_pred_cat, average='micro'), 4)\n",
        "# recall_cat=round(metrics.recall_score(y_test, y_pred_cat, average='micro'), 4)\n",
        "# f1_cat=round(metrics.f1_score(y_test, y_pred_cat, average='micro'), 4)\n",
        "\n",
        "# 3. BernoulliNB\n",
        "model_ber = naive_bayes.BernoulliNB().fit(X_train, y_train)\n",
        "y_pred_ber = model_ber.predict(X_test)\n",
        "\n",
        "accs_ber=round(metrics.accuracy_score(y_test, y_pred_ber), 4)\n",
        "pre_ber=round(metrics.precision_score(y_test, y_pred_ber, average='micro'), 4)\n",
        "recall_ber=round(metrics.recall_score(y_test, y_pred_ber, average='micro'), 4)\n",
        "f1_ber=round(metrics.f1_score(y_test, y_pred_ber, average='micro'), 4)\n",
        "\n",
        "# 4. MultinomialNB\n",
        "model_mul = naive_bayes.MultinomialNB().fit(X_train, y_train)\n",
        "y_pred_mul = model_ber.predict(X_test)\n",
        "\n",
        "accs_mul=round(metrics.accuracy_score(y_test, y_pred_mul), 4)\n",
        "pre_mul=round(metrics.precision_score(y_test, y_pred_mul, average='micro'), 4)\n",
        "recall_mul=round(metrics.recall_score(y_test, y_pred_mul, average='micro'), 4)\n",
        "f1_mul=round(metrics.f1_score(y_test, y_pred_mul, average='micro'), 4)\n",
        "\n",
        "#table\n",
        "tab = PrettyTable()\n",
        "tab.field_names =[\"name\",\"Accuracy\",\"Precision\",\"Recall\",\"F1\"]\n",
        "\n",
        "tab.add_row([\"GaussiaNB\", accs_Gau, pre_Gau, recall_Gau, f1_Gau])\n",
        "# tab.add_row([\"CategoricalB\", accs_cat, pre_cat, recall_cat, f1_cat])\n",
        "tab.add_row([\"BeroulliNB\", accs_ber, pre_ber, recall_ber, f1_ber])\n",
        "tab.add_row([\"MultinomalNB\", accs_mul, pre_mul, recall_mul, f1_mul])\n",
        "\n",
        "print(tab)\n"
      ],
      "metadata": {
        "colab": {
          "base_uri": "https://localhost:8080/"
        },
        "id": "MV7qddk3p5cl",
        "outputId": "e1b59130-98fd-4544-c707-08f3f3353516"
      },
      "execution_count": 57,
      "outputs": [
        {
          "output_type": "stream",
          "name": "stdout",
          "text": [
            "+--------------+----------+-----------+--------+--------+\n",
            "|     name     | Accuracy | Precision | Recall |   F1   |\n",
            "+--------------+----------+-----------+--------+--------+\n",
            "|  GaussiaNB   |  0.8563  |   0.8563  | 0.8563 | 0.8563 |\n",
            "|  BeroulliNB  |  0.8276  |   0.8276  | 0.8276 | 0.8276 |\n",
            "| MultinomalNB |  0.8276  |   0.8276  | 0.8276 | 0.8276 |\n",
            "+--------------+----------+-----------+--------+--------+\n"
          ]
        }
      ]
    },
    {
      "cell_type": "code",
      "source": [
        "table = PrettyTable()\n",
        "table.field_names =[\"\",\"Accuracy\",\"Precision\",\"Recall\",\"F1\"]\n",
        "\n",
        "table.add_row([\"SVM\", accs_Svm, pre_Svm, recall_Svm, f1_Svm])\n",
        "table.add_row([\"Random forest\", accs_ran, pre_ran, recall_ran, f1_ran])\n",
        "table.add_row([\"GaussiaNB\", accs_Gau, pre_Gau, recall_Gau, f1_Gau])\n",
        "# table.add_row([\"CategoricalB\", accs_cat, pre_cat, recall_cat, f1_cat])\n",
        "table.add_row([\"BeroulliNB\", accs_ber, pre_ber, recall_ber, f1_ber])\n",
        "table.add_row([\"MultinomalNB\", accs_mul, pre_mul, recall_mul, f1_mul])\n",
        "\n",
        "print(table)"
      ],
      "metadata": {
        "colab": {
          "base_uri": "https://localhost:8080/"
        },
        "id": "d1qzj8GCx4Jc",
        "outputId": "aa9bde28-7a7e-4ddf-9e79-69d7a85207cc"
      },
      "execution_count": 58,
      "outputs": [
        {
          "output_type": "stream",
          "name": "stdout",
          "text": [
            "+---------------+----------+-----------+--------+--------+\n",
            "|               | Accuracy | Precision | Recall |   F1   |\n",
            "+---------------+----------+-----------+--------+--------+\n",
            "|      SVM      |  0.9825  |   0.9825  | 0.9825 | 0.9825 |\n",
            "| Random forest |  0.9992  |   0.9992  | 0.9992 | 0.9992 |\n",
            "|   GaussiaNB   |  0.8563  |   0.8563  | 0.8563 | 0.8563 |\n",
            "|   BeroulliNB  |  0.8276  |   0.8276  | 0.8276 | 0.8276 |\n",
            "|  MultinomalNB |  0.8276  |   0.8276  | 0.8276 | 0.8276 |\n",
            "+---------------+----------+-----------+--------+--------+\n"
          ]
        }
      ]
    },
    {
      "cell_type": "markdown",
      "source": [
        "# 1.2 using selection feature"
      ],
      "metadata": {
        "id": "TZ63g_3Ao5Db"
      }
    },
    {
      "cell_type": "code",
      "source": [
        "#Random forest\n",
        "\n",
        "clf_ran_for=RandomForestClassifier(n_estimators=100)\n",
        "\n",
        "clf_ran_for.fit(X_train,y_train)\n",
        "\n",
        "# Mức độ quan trọng của các thuộc tính, sau đó xếp theo thứ tự giảm dần\n",
        "feature_imp = pd.Series(clf_ran_for.feature_importances_,index=data.feature_names).sort_values(ascending=False)\n",
        "print(feature_imp)\n",
        "sns.barplot(x=feature_imp, y=feature_imp.index)\n",
        "# Add labels to your graph\n",
        "plt.xlabel('Feature Importance Score')\n",
        "plt.ylabel('Features')\n",
        "plt.title(\"Visualizing Important Features\")\n",
        "plt.legend()\n",
        "plt.show()\n",
        "\n",
        "\n",
        "# features = feature_imp.index[0:5].values\n",
        "X_new = X[feature_imp.index[0:5]]\n",
        "X_new\n",
        "\n",
        "\n",
        "X1_train, X1_test, y1_train, y1_test = train_test_split(X_new, Y, test_size=0.3, random_state=1)\n",
        "\n",
        "clf=RandomForestClassifier(n_estimators=100)\n",
        "clf.fit(X_train,y_train)\n",
        "y_pred_for=clf.predict(X_test)\n",
        "\n",
        "accs_for=(metrics.accuracy_score(y_test, y_pred_for))\n",
        "pre_for=(metrics.precision_score(y_test, y_pred_for, average='micro'))\n",
        "recall_for=(metrics.recall_score(y_test, y_pred_for, average='micro'))\n",
        "f1_for=(metrics.f1_score(y_test, y_pred_for, average='micro'))\n",
        "\n",
        "print('Accuracy: ', accs_for)\n",
        "print('Precision: ', pre_for)\n",
        "print('Recall: ', recall_for)\n",
        "print('F1: ', f1_for)\n",
        "\n",
        "metrics.ConfusionMatrixDisplay.from_estimator(clf, X_test, y_test)"
      ],
      "metadata": {
        "colab": {
          "base_uri": "https://localhost:8080/",
          "height": 869
        },
        "id": "wMUkym8yo-RT",
        "outputId": "a15a4857-9a07-419f-9567-26a7a5a63f05"
      },
      "execution_count": 59,
      "outputs": [
        {
          "output_type": "stream",
          "name": "stdout",
          "text": [
            "pixel_2_5    0.059878\n",
            "pixel_4_4    0.042845\n",
            "pixel_3_2    0.037581\n",
            "pixel_3_4    0.035299\n",
            "pixel_5_3    0.035273\n",
            "               ...   \n",
            "pixel_3_7    0.000000\n",
            "pixel_3_0    0.000000\n",
            "pixel_2_0    0.000000\n",
            "pixel_1_0    0.000000\n",
            "pixel_4_0    0.000000\n",
            "Length: 64, dtype: float64\n"
          ]
        },
        {
          "output_type": "stream",
          "name": "stderr",
          "text": [
            "WARNING:matplotlib.legend:No artists with labels found to put in legend.  Note that artists whose label start with an underscore are ignored when legend() is called with no argument.\n"
          ]
        },
        {
          "output_type": "display_data",
          "data": {
            "text/plain": [
              "<Figure size 432x288 with 1 Axes>"
            ],
            "image/png": "[encoded data removed]"
          },
          "metadata": {
            "needs_background": "light"
          }
        },
        {
          "output_type": "stream",
          "name": "stdout",
          "text": [
            "Accuracy:  0.9508804448563485\n",
            "Precision:  0.9508804448563485\n",
            "Recall:  0.9508804448563485\n",
            "F1:  0.9508804448563485\n"
          ]
        },
        {
          "output_type": "execute_result",
          "data": {
            "text/plain": [
              "<sklearn.metrics._plot.confusion_matrix.ConfusionMatrixDisplay at 0x7f452edc2bb0>"
            ]
          },
          "metadata": {},
          "execution_count": 59
        },
        {
          "output_type": "display_data",
          "data": {
            "text/plain": [
              "<Figure size 432x288 with 2 Axes>"
            ],
            "image/png": "[encoded data removed]"
          },
          "metadata": {
            "needs_background": "light"
          }
        }
      ]
    },
    {
      "cell_type": "code",
      "source": [
        "clf_Svm1 = SVC(kernel='poly')\n",
        "clf_Svm1.fit(X1_train, y1_train)\n",
        "y_pred_Svm1 = clf_Svm1.predict(X1_test)\n",
        "\n",
        "accs_Svm1=round(metrics.accuracy_score(y1_test, y_pred_Svm1), 4)\n",
        "pre_Svm1=round(metrics.precision_score(y1_test, y_pred_Svm1, average='micro'), 4)\n",
        "recall_Svm1=round(metrics.recall_score(y1_test, y_pred_Svm1, average='micro'), 4)\n",
        "f1_Svm1=round(metrics.f1_score(y1_test, y_pred_Svm1, average='micro'), 4)\n",
        "\n",
        "print('Accuracy: ', accs_Svm1)\n",
        "print('Precision: ', pre_Svm1)\n",
        "print('Recall: ', recall_Svm1)\n",
        "print('F1: ', f1_Svm1)\n",
        "\n",
        "metrics.ConfusionMatrixDisplay.from_estimator(clf_Svm1, X1_test, y1_test)"
      ],
      "metadata": {
        "colab": {
          "base_uri": "https://localhost:8080/",
          "height": 366
        },
        "id": "1vAiYOnr99R7",
        "outputId": "bba66f35-1fca-4c23-d32c-18aad796add1"
      },
      "execution_count": 60,
      "outputs": [
        {
          "output_type": "stream",
          "name": "stdout",
          "text": [
            "Accuracy:  0.6944\n",
            "Precision:  0.6944\n",
            "Recall:  0.6944\n",
            "F1:  0.6944\n"
          ]
        },
        {
          "output_type": "execute_result",
          "data": {
            "text/plain": [
              "<sklearn.metrics._plot.confusion_matrix.ConfusionMatrixDisplay at 0x7f4537ef14c0>"
            ]
          },
          "metadata": {},
          "execution_count": 60
        },
        {
          "output_type": "display_data",
          "data": {
            "text/plain": [
              "<Figure size 432x288 with 2 Axes>"
            ],
            "image/png": "[encoded data removed]"
          },
          "metadata": {
            "needs_background": "light"
          }
        }
      ]
    },
    {
      "cell_type": "code",
      "source": [
        "#NaiveBayes\n",
        "# 1. GaussianNB\n",
        "model1 = naive_bayes.GaussianNB().fit(X1_train, y1_train)\n",
        "y_pred_Gau1 = model1.predict(X1_test)\n",
        "\n",
        "accs_Gau1=round(metrics.accuracy_score(y1_test, y_pred_Gau1), 4)\n",
        "pre_Gau1=round(metrics.precision_score(y1_test, y_pred_Gau1, average='micro'), 4)\n",
        "recall_Gau1=round(metrics.recall_score(y1_test, y_pred_Gau1, average='micro'), 4)\n",
        "f1_Gau1=round(metrics.f1_score(y1_test, y_pred_Gau1, average='micro'), 4)\n",
        "\n",
        "\n",
        "print('Accuracy: ', accs_Gau1)\n",
        "print('Precision: ', pre_Gau1)\n",
        "print('Recall: ', recall_Gau1)\n",
        "print('F1: ', f1_Gau1)\n",
        "\n",
        "metrics.ConfusionMatrixDisplay.from_estimator(model1, X1_test, y1_test)"
      ],
      "metadata": {
        "colab": {
          "base_uri": "https://localhost:8080/",
          "height": 366
        },
        "id": "_4ps_2itB9Oi",
        "outputId": "857425e0-19ea-4288-b543-258b7bd4365e"
      },
      "execution_count": 61,
      "outputs": [
        {
          "output_type": "stream",
          "name": "stdout",
          "text": [
            "Accuracy:  0.6315\n",
            "Precision:  0.6315\n",
            "Recall:  0.6315\n",
            "F1:  0.6315\n"
          ]
        },
        {
          "output_type": "execute_result",
          "data": {
            "text/plain": [
              "<sklearn.metrics._plot.confusion_matrix.ConfusionMatrixDisplay at 0x7f4533bf8f70>"
            ]
          },
          "metadata": {},
          "execution_count": 61
        },
        {
          "output_type": "display_data",
          "data": {
            "text/plain": [
              "<Figure size 432x288 with 2 Axes>"
            ],
            "image/png": "[encoded data removed]"
          },
          "metadata": {
            "needs_background": "light"
          }
        }
      ]
    },
    {
      "cell_type": "markdown",
      "source": [
        "#Task 2. \n",
        "For given bank dataset (bank.csv) having the following attributes :\n",
        "1.\t**age** (numeric)\n",
        "2.\t**job** : type of job (categorical: 'admin.','blue-collar','entrepreneur','housemaid','management','retired','self-employed','services','student','technician','unemployed','unknown')\n",
        "3.\t**marital** : marital status (categorical: 'divorced','married','single','unknown'; note: 'divorced' means divorced or widowed)\n",
        "4.\t**education** (categorical: 'basic.4y','basic.6y','basic.9y','high.school','illiterate','professional.course','university.degree','unknown')\n",
        "5.\t**default**: has credit in default? (categorical: 'no','yes','unknown')\n",
        "6.\t**housing**: has housing loan? (categorical: 'no','yes','unknown')\n",
        "7.\t**loan**: has personal loan? (categorical: 'no','yes','unknown')\n",
        "8.\t**contact**: contact communication type (categorical: 'cellular','telephone')\n",
        "9.\t**month**: last contact month of year (categorical: 'jan', 'feb', 'mar', ..., 'nov', 'dec')\n",
        "10.\t**day_of_week**: last contact day of the week (categorical: 'mon','tue','wed','thu','fri')\n",
        "11.\t**duration**: last contact duration, in seconds (numeric). Important note: this attribute highly affects the output target (e.g., if duration=0 then y='no'). Yet, the duration is not known before a call is performed. Also, after the end of the call y is obviously known. Thus, this input should only be included for benchmark purposes and should be discarded if the intention is to have a realistic predictive model.\n",
        "12.\t**campaign**: number of contacts performed during this campaign and for this client (numeric, includes last contact)\n",
        "13.\t**pdays**: number of days that passed by after the client was last contacted from a previous campaign (numeric; 999 means client was not previously contacted)\n",
        "14.\t**previous**: number of contacts performed before this campaign and for this client (numeric)\n",
        "15.\t**poutcome**: outcome of the previous marketing campaign (categorical: 'failure','nonexistent','success')\n",
        "Output variable (desired target):\n",
        "16.\t**y**. has the client subscribed a term deposit? (binary: 'yes','no')\n",
        "\n"
      ],
      "metadata": {
        "id": "b52OPWPD2afi"
      }
    },
    {
      "cell_type": "markdown",
      "source": [
        "#3.1. Apply StandardScaler() function to columns that contains numerical data ('age', 'balance', 'day', 'campaign', 'pdays', 'previous')"
      ],
      "metadata": {
        "id": "q89LEvT7dqaZ"
      }
    },
    {
      "cell_type": "code",
      "source": [
        "dataset = pd.read_csv(\"bank.csv\")\n",
        "\n",
        "sc= StandardScaler()\n",
        "dataset[['age', 'balance', 'day', 'campaign', 'pdays', 'previous']]=sc.fit_transform(dataset[['age', 'balance', 'day', 'campaign', 'pdays', 'previous']])\n",
        "dataset"
      ],
      "metadata": {
        "id": "8vx3mfIidu4P",
        "colab": {
          "base_uri": "https://localhost:8080/",
          "height": 424
        },
        "outputId": "91eaa9bd-acc8-4d45-bc2c-45f630b66830"
      },
      "execution_count": 45,
      "outputs": [
        {
          "output_type": "execute_result",
          "data": {
            "text/plain": [
              "            age          job  marital  education default   balance housing  \\\n",
              "0      1.491505       admin.  married  secondary      no  0.252525     yes   \n",
              "1      1.239676       admin.  married  secondary      no -0.459974      no   \n",
              "2     -0.019470   technician  married  secondary      no -0.080160     yes   \n",
              "3      1.155733     services  married  secondary      no  0.293762     yes   \n",
              "4      1.071790       admin.  married   tertiary      no -0.416876      no   \n",
              "...         ...          ...      ...        ...     ...       ...     ...   \n",
              "11157 -0.691015  blue-collar   single    primary      no -0.473616     yes   \n",
              "11158 -0.187357     services  married  secondary      no -0.246658      no   \n",
              "11159 -0.774958   technician   single  secondary      no -0.464934      no   \n",
              "11160  0.148416   technician  married  secondary      no -0.473926      no   \n",
              "11161 -0.607072   technician  married  secondary      no -0.473926      no   \n",
              "\n",
              "      loan   contact       day month  duration  campaign     pdays  previous  \\\n",
              "0       no   unknown -1.265746   may      1042 -0.554168 -0.481184 -0.363260   \n",
              "1       no   unknown -1.265746   may      1467 -0.554168 -0.481184 -0.363260   \n",
              "2       no   unknown -1.265746   may      1389 -0.554168 -0.481184 -0.363260   \n",
              "3       no   unknown -1.265746   may       579 -0.554168 -0.481184 -0.363260   \n",
              "4       no   unknown -1.265746   may       673 -0.186785 -0.481184 -0.363260   \n",
              "...    ...       ...       ...   ...       ...       ...       ...       ...   \n",
              "11157   no  cellular  0.515650   apr       257 -0.554168 -0.481184 -0.363260   \n",
              "11158   no   unknown  0.040612   jun        83  0.547981 -0.481184 -0.363260   \n",
              "11159   no  cellular  0.396891   aug       156 -0.186785 -0.481184 -0.363260   \n",
              "11160  yes  cellular -0.909466   may         9 -0.186785  1.109571  1.818332   \n",
              "11161   no  cellular -0.790707   jul       628 -0.554168 -0.481184 -0.363260   \n",
              "\n",
              "      poutcome deposit  \n",
              "0      unknown     yes  \n",
              "1      unknown     yes  \n",
              "2      unknown     yes  \n",
              "3      unknown     yes  \n",
              "4      unknown     yes  \n",
              "...        ...     ...  \n",
              "11157  unknown      no  \n",
              "11158  unknown      no  \n",
              "11159  unknown      no  \n",
              "11160  failure      no  \n",
              "11161  unknown      no  \n",
              "\n",
              "[11162 rows x 17 columns]"
            ],
            "text/html": [
              "\n",
              "  <div id=\"df-97da11f0-0edc-459e-a2de-ef0da9bfbec4\">\n",
              "    <div class=\"colab-df-container\">\n",
              "      <div>\n",
              "<style scoped>\n",
              "    .dataframe tbody tr th:only-of-type {\n",
              "        vertical-align: middle;\n",
              "    }\n",
              "\n",
              "    .dataframe tbody tr th {\n",
              "        vertical-align: top;\n",
              "    }\n",
              "\n",
              "    .dataframe thead th {\n",
              "        text-align: right;\n",
              "    }\n",
              "</style>\n",
              "<table border=\"1\" class=\"dataframe\">\n",
              "  <thead>\n",
              "    <tr style=\"text-align: right;\">\n",
              "      <th></th>\n",
              "      <th>age</th>\n",
              "      <th>job</th>\n",
              "      <th>marital</th>\n",
              "      <th>education</th>\n",
              "      <th>default</th>\n",
              "      <th>balance</th>\n",
              "      <th>housing</th>\n",
              "      <th>loan</th>\n",
              "      <th>contact</th>\n",
              "      <th>day</th>\n",
              "      <th>month</th>\n",
              "      <th>duration</th>\n",
              "      <th>campaign</th>\n",
              "      <th>pdays</th>\n",
              "      <th>previous</th>\n",
              "      <th>poutcome</th>\n",
              "      <th>deposit</th>\n",
              "    </tr>\n",
              "  </thead>\n",
              "  <tbody>\n",
              "    <tr>\n",
              "      <th>0</th>\n",
              "      <td>1.491505</td>\n",
              "      <td>admin.</td>\n",
              "      <td>married</td>\n",
              "      <td>secondary</td>\n",
              "      <td>no</td>\n",
              "      <td>0.252525</td>\n",
              "      <td>yes</td>\n",
              "      <td>no</td>\n",
              "      <td>unknown</td>\n",
              "      <td>-1.265746</td>\n",
              "      <td>may</td>\n",
              "      <td>1042</td>\n",
              "      <td>-0.554168</td>\n",
              "      <td>-0.481184</td>\n",
              "      <td>-0.363260</td>\n",
              "      <td>unknown</td>\n",
              "      <td>yes</td>\n",
              "    </tr>\n",
              "    <tr>\n",
              "      <th>1</th>\n",
              "      <td>1.239676</td>\n",
              "      <td>admin.</td>\n",
              "      <td>married</td>\n",
              "      <td>secondary</td>\n",
              "      <td>no</td>\n",
              "      <td>-0.459974</td>\n",
              "      <td>no</td>\n",
              "      <td>no</td>\n",
              "      <td>unknown</td>\n",
              "      <td>-1.265746</td>\n",
              "      <td>may</td>\n",
              "      <td>1467</td>\n",
              "      <td>-0.554168</td>\n",
              "      <td>-0.481184</td>\n",
              "      <td>-0.363260</td>\n",
              "      <td>unknown</td>\n",
              "      <td>yes</td>\n",
              "    </tr>\n",
              "    <tr>\n",
              "      <th>2</th>\n",
              "      <td>-0.019470</td>\n",
              "      <td>technician</td>\n",
              "      <td>married</td>\n",
              "      <td>secondary</td>\n",
              "      <td>no</td>\n",
              "      <td>-0.080160</td>\n",
              "      <td>yes</td>\n",
              "      <td>no</td>\n",
              "      <td>unknown</td>\n",
              "      <td>-1.265746</td>\n",
              "      <td>may</td>\n",
              "      <td>1389</td>\n",
              "      <td>-0.554168</td>\n",
              "      <td>-0.481184</td>\n",
              "      <td>-0.363260</td>\n",
              "      <td>unknown</td>\n",
              "      <td>yes</td>\n",
              "    </tr>\n",
              "    <tr>\n",
              "      <th>3</th>\n",
              "      <td>1.155733</td>\n",
              "      <td>services</td>\n",
              "      <td>married</td>\n",
              "      <td>secondary</td>\n",
              "      <td>no</td>\n",
              "      <td>0.293762</td>\n",
              "      <td>yes</td>\n",
              "      <td>no</td>\n",
              "      <td>unknown</td>\n",
              "      <td>-1.265746</td>\n",
              "      <td>may</td>\n",
              "      <td>579</td>\n",
              "      <td>-0.554168</td>\n",
              "      <td>-0.481184</td>\n",
              "      <td>-0.363260</td>\n",
              "      <td>unknown</td>\n",
              "      <td>yes</td>\n",
              "    </tr>\n",
              "    <tr>\n",
              "      <th>4</th>\n",
              "      <td>1.071790</td>\n",
              "      <td>admin.</td>\n",
              "      <td>married</td>\n",
              "      <td>tertiary</td>\n",
              "      <td>no</td>\n",
              "      <td>-0.416876</td>\n",
              "      <td>no</td>\n",
              "      <td>no</td>\n",
              "      <td>unknown</td>\n",
              "      <td>-1.265746</td>\n",
              "      <td>may</td>\n",
              "      <td>673</td>\n",
              "      <td>-0.186785</td>\n",
              "      <td>-0.481184</td>\n",
              "      <td>-0.363260</td>\n",
              "      <td>unknown</td>\n",
              "      <td>yes</td>\n",
              "    </tr>\n",
              "    <tr>\n",
              "      <th>...</th>\n",
              "      <td>...</td>\n",
              "      <td>...</td>\n",
              "      <td>...</td>\n",
              "      <td>...</td>\n",
              "      <td>...</td>\n",
              "      <td>...</td>\n",
              "      <td>...</td>\n",
              "      <td>...</td>\n",
              "      <td>...</td>\n",
              "      <td>...</td>\n",
              "      <td>...</td>\n",
              "      <td>...</td>\n",
              "      <td>...</td>\n",
              "      <td>...</td>\n",
              "      <td>...</td>\n",
              "      <td>...</td>\n",
              "      <td>...</td>\n",
              "    </tr>\n",
              "    <tr>\n",
              "      <th>11157</th>\n",
              "      <td>-0.691015</td>\n",
              "      <td>blue-collar</td>\n",
              "      <td>single</td>\n",
              "      <td>primary</td>\n",
              "      <td>no</td>\n",
              "      <td>-0.473616</td>\n",
              "      <td>yes</td>\n",
              "      <td>no</td>\n",
              "      <td>cellular</td>\n",
              "      <td>0.515650</td>\n",
              "      <td>apr</td>\n",
              "      <td>257</td>\n",
              "      <td>-0.554168</td>\n",
              "      <td>-0.481184</td>\n",
              "      <td>-0.363260</td>\n",
              "      <td>unknown</td>\n",
              "      <td>no</td>\n",
              "    </tr>\n",
              "    <tr>\n",
              "      <th>11158</th>\n",
              "      <td>-0.187357</td>\n",
              "      <td>services</td>\n",
              "      <td>married</td>\n",
              "      <td>secondary</td>\n",
              "      <td>no</td>\n",
              "      <td>-0.246658</td>\n",
              "      <td>no</td>\n",
              "      <td>no</td>\n",
              "      <td>unknown</td>\n",
              "      <td>0.040612</td>\n",
              "      <td>jun</td>\n",
              "      <td>83</td>\n",
              "      <td>0.547981</td>\n",
              "      <td>-0.481184</td>\n",
              "      <td>-0.363260</td>\n",
              "      <td>unknown</td>\n",
              "      <td>no</td>\n",
              "    </tr>\n",
              "    <tr>\n",
              "      <th>11159</th>\n",
              "      <td>-0.774958</td>\n",
              "      <td>technician</td>\n",
              "      <td>single</td>\n",
              "      <td>secondary</td>\n",
              "      <td>no</td>\n",
              "      <td>-0.464934</td>\n",
              "      <td>no</td>\n",
              "      <td>no</td>\n",
              "      <td>cellular</td>\n",
              "      <td>0.396891</td>\n",
              "      <td>aug</td>\n",
              "      <td>156</td>\n",
              "      <td>-0.186785</td>\n",
              "      <td>-0.481184</td>\n",
              "      <td>-0.363260</td>\n",
              "      <td>unknown</td>\n",
              "      <td>no</td>\n",
              "    </tr>\n",
              "    <tr>\n",
              "      <th>11160</th>\n",
              "      <td>0.148416</td>\n",
              "      <td>technician</td>\n",
              "      <td>married</td>\n",
              "      <td>secondary</td>\n",
              "      <td>no</td>\n",
              "      <td>-0.473926</td>\n",
              "      <td>no</td>\n",
              "      <td>yes</td>\n",
              "      <td>cellular</td>\n",
              "      <td>-0.909466</td>\n",
              "      <td>may</td>\n",
              "      <td>9</td>\n",
              "      <td>-0.186785</td>\n",
              "      <td>1.109571</td>\n",
              "      <td>1.818332</td>\n",
              "      <td>failure</td>\n",
              "      <td>no</td>\n",
              "    </tr>\n",
              "    <tr>\n",
              "      <th>11161</th>\n",
              "      <td>-0.607072</td>\n",
              "      <td>technician</td>\n",
              "      <td>married</td>\n",
              "      <td>secondary</td>\n",
              "      <td>no</td>\n",
              "      <td>-0.473926</td>\n",
              "      <td>no</td>\n",
              "      <td>no</td>\n",
              "      <td>cellular</td>\n",
              "      <td>-0.790707</td>\n",
              "      <td>jul</td>\n",
              "      <td>628</td>\n",
              "      <td>-0.554168</td>\n",
              "      <td>-0.481184</td>\n",
              "      <td>-0.363260</td>\n",
              "      <td>unknown</td>\n",
              "      <td>no</td>\n",
              "    </tr>\n",
              "  </tbody>\n",
              "</table>\n",
              "<p>11162 rows × 17 columns</p>\n",
              "</div>\n",
              "      <button class=\"colab-df-convert\" onclick=\"convertToInteractive('df-97da11f0-0edc-459e-a2de-ef0da9bfbec4')\"\n",
              "              title=\"Convert this dataframe to an interactive table.\"\n",
              "              style=\"display:none;\">\n",
              "        \n",
              "  <svg xmlns=\"http://www.w3.org/2000/svg\" height=\"24px\"viewBox=\"0 0 24 24\"\n",
              "       width=\"24px\">\n",
              "    <path d=\"M0 0h24v24H0V0z\" fill=\"none\"/>\n",
              "    <path d=\"M18.56 5.44l.94 2.06.94-2.06 2.06-.94-2.06-.94-.94-2.06-.94 2.06-2.06.94zm-11 1L8.5 8.5l.94-2.06 2.06-.94-2.06-.94L8.5 2.5l-.94 2.06-2.06.94zm10 10l.94 2.06.94-2.06 2.06-.94-2.06-.94-.94-2.06-.94 2.06-2.06.94z\"/><path d=\"M17.41 7.96l-1.37-1.37c-.4-.4-.92-.59-1.43-.59-.52 0-1.04.2-1.43.59L10.3 9.45l-7.72 7.72c-.78.78-.78 2.05 0 2.83L4 21.41c.39.39.9.59 1.41.59.51 0 1.02-.2 1.41-.59l7.78-7.78 2.81-2.81c.8-.78.8-2.07 0-2.86zM5.41 20L4 18.59l7.72-7.72 1.47 1.35L5.41 20z\"/>\n",
              "  </svg>\n",
              "      </button>\n",
              "      \n",
              "  <style>\n",
              "    .colab-df-container {\n",
              "      display:flex;\n",
              "      flex-wrap:wrap;\n",
              "      gap: 12px;\n",
              "    }\n",
              "\n",
              "    .colab-df-convert {\n",
              "      background-color: #E8F0FE;\n",
              "      border: none;\n",
              "      border-radius: 50%;\n",
              "      cursor: pointer;\n",
              "      display: none;\n",
              "      fill: #1967D2;\n",
              "      height: 32px;\n",
              "      padding: 0 0 0 0;\n",
              "      width: 32px;\n",
              "    }\n",
              "\n",
              "    .colab-df-convert:hover {\n",
              "      background-color: #E2EBFA;\n",
              "      box-shadow: 0px 1px 2px rgba(60, 64, 67, 0.3), 0px 1px 3px 1px rgba(60, 64, 67, 0.15);\n",
              "      fill: #174EA6;\n",
              "    }\n",
              "\n",
              "    [theme=dark] .colab-df-convert {\n",
              "      background-color: #3B4455;\n",
              "      fill: #D2E3FC;\n",
              "    }\n",
              "\n",
              "    [theme=dark] .colab-df-convert:hover {\n",
              "      background-color: #434B5C;\n",
              "      box-shadow: 0px 1px 3px 1px rgba(0, 0, 0, 0.15);\n",
              "      filter: drop-shadow(0px 1px 2px rgba(0, 0, 0, 0.3));\n",
              "      fill: #FFFFFF;\n",
              "    }\n",
              "  </style>\n",
              "\n",
              "      <script>\n",
              "        const buttonEl =\n",
              "          document.querySelector('#df-97da11f0-0edc-459e-a2de-ef0da9bfbec4 button.colab-df-convert');\n",
              "        buttonEl.style.display =\n",
              "          google.colab.kernel.accessAllowed ? 'block' : 'none';\n",
              "\n",
              "        async function convertToInteractive(key) {\n",
              "          const element = document.querySelector('#df-97da11f0-0edc-459e-a2de-ef0da9bfbec4');\n",
              "          const dataTable =\n",
              "            await google.colab.kernel.invokeFunction('convertToInteractive',\n",
              "                                                     [key], {});\n",
              "          if (!dataTable) return;\n",
              "\n",
              "          const docLinkHtml = 'Like what you see? Visit the ' +\n",
              "            '<a target=\"_blank\" href=https://colab.research.google.com/notebooks/data_table.ipynb>data table notebook</a>'\n",
              "            + ' to learn more about interactive tables.';\n",
              "          element.innerHTML = '';\n",
              "          dataTable['output_type'] = 'display_data';\n",
              "          await google.colab.output.renderOutput(dataTable, element);\n",
              "          const docLink = document.createElement('div');\n",
              "          docLink.innerHTML = docLinkHtml;\n",
              "          element.appendChild(docLink);\n",
              "        }\n",
              "      </script>\n",
              "    </div>\n",
              "  </div>\n",
              "  "
            ]
          },
          "metadata": {},
          "execution_count": 45
        }
      ]
    },
    {
      "cell_type": "markdown",
      "source": [
        "#3.2. Apply Encode Categorical Value (OneHotEncoder) to transfrom categorical data to numerical data ('job', 'marital', 'education', 'default', 'housing', 'loan', 'contact', 'month', 'poutcome')"
      ],
      "metadata": {
        "id": "r7acR0TxdvY8"
      }
    },
    {
      "cell_type": "code",
      "source": [
        "encoder = OneHotEncoder()\n",
        "encoded_data =encoder.fit_transform(dataset[['job', 'marital', 'education', 'default', 'housing', 'loan', 'contact', 'month', 'poutcome']])\n",
        "encoded_df = pd.DataFrame(encoded_data.toarray(), columns=encoder.get_feature_names_out(['job', 'marital', 'education', 'default', 'housing', 'loan', 'contact', 'month', 'poutcome']))\n",
        "data_encoded = pd.concat([dataset, encoded_df], axis=1)\n",
        "data_encoded.drop(columns=['job', 'marital', 'education', 'default', 'housing', 'loan', 'contact', 'month', 'poutcome'], inplace=True)\n",
        "\n",
        "data_encoded"
      ],
      "metadata": {
        "id": "egtgBmAtd0um",
        "colab": {
          "base_uri": "https://localhost:8080/",
          "height": 505
        },
        "outputId": "8e744b15-d660-4feb-dac7-413830fd0012"
      },
      "execution_count": 46,
      "outputs": [
        {
          "output_type": "execute_result",
          "data": {
            "text/plain": [
              "            age   balance       day  duration  campaign     pdays  previous  \\\n",
              "0      1.491505  0.252525 -1.265746      1042 -0.554168 -0.481184 -0.363260   \n",
              "1      1.239676 -0.459974 -1.265746      1467 -0.554168 -0.481184 -0.363260   \n",
              "2     -0.019470 -0.080160 -1.265746      1389 -0.554168 -0.481184 -0.363260   \n",
              "3      1.155733  0.293762 -1.265746       579 -0.554168 -0.481184 -0.363260   \n",
              "4      1.071790 -0.416876 -1.265746       673 -0.186785 -0.481184 -0.363260   \n",
              "...         ...       ...       ...       ...       ...       ...       ...   \n",
              "11157 -0.691015 -0.473616  0.515650       257 -0.554168 -0.481184 -0.363260   \n",
              "11158 -0.187357 -0.246658  0.040612        83  0.547981 -0.481184 -0.363260   \n",
              "11159 -0.774958 -0.464934  0.396891       156 -0.186785 -0.481184 -0.363260   \n",
              "11160  0.148416 -0.473926 -0.909466         9 -0.186785  1.109571  1.818332   \n",
              "11161 -0.607072 -0.473926 -0.790707       628 -0.554168 -0.481184 -0.363260   \n",
              "\n",
              "      deposit  job_admin.  job_blue-collar  ...  month_jun  month_mar  \\\n",
              "0         yes         1.0              0.0  ...        0.0        0.0   \n",
              "1         yes         1.0              0.0  ...        0.0        0.0   \n",
              "2         yes         0.0              0.0  ...        0.0        0.0   \n",
              "3         yes         0.0              0.0  ...        0.0        0.0   \n",
              "4         yes         1.0              0.0  ...        0.0        0.0   \n",
              "...       ...         ...              ...  ...        ...        ...   \n",
              "11157      no         0.0              1.0  ...        0.0        0.0   \n",
              "11158      no         0.0              0.0  ...        1.0        0.0   \n",
              "11159      no         0.0              0.0  ...        0.0        0.0   \n",
              "11160      no         0.0              0.0  ...        0.0        0.0   \n",
              "11161      no         0.0              0.0  ...        0.0        0.0   \n",
              "\n",
              "       month_may  month_nov  month_oct  month_sep  poutcome_failure  \\\n",
              "0            1.0        0.0        0.0        0.0               0.0   \n",
              "1            1.0        0.0        0.0        0.0               0.0   \n",
              "2            1.0        0.0        0.0        0.0               0.0   \n",
              "3            1.0        0.0        0.0        0.0               0.0   \n",
              "4            1.0        0.0        0.0        0.0               0.0   \n",
              "...          ...        ...        ...        ...               ...   \n",
              "11157        0.0        0.0        0.0        0.0               0.0   \n",
              "11158        0.0        0.0        0.0        0.0               0.0   \n",
              "11159        0.0        0.0        0.0        0.0               0.0   \n",
              "11160        1.0        0.0        0.0        0.0               1.0   \n",
              "11161        0.0        0.0        0.0        0.0               0.0   \n",
              "\n",
              "       poutcome_other  poutcome_success  poutcome_unknown  \n",
              "0                 0.0               0.0               1.0  \n",
              "1                 0.0               0.0               1.0  \n",
              "2                 0.0               0.0               1.0  \n",
              "3                 0.0               0.0               1.0  \n",
              "4                 0.0               0.0               1.0  \n",
              "...               ...               ...               ...  \n",
              "11157             0.0               0.0               1.0  \n",
              "11158             0.0               0.0               1.0  \n",
              "11159             0.0               0.0               1.0  \n",
              "11160             0.0               0.0               0.0  \n",
              "11161             0.0               0.0               1.0  \n",
              "\n",
              "[11162 rows x 52 columns]"
            ],
            "text/html": [
              "\n",
              "  <div id=\"df-507e4860-f2ee-450a-9788-86fd9b174b67\">\n",
              "    <div class=\"colab-df-container\">\n",
              "      <div>\n",
              "<style scoped>\n",
              "    .dataframe tbody tr th:only-of-type {\n",
              "        vertical-align: middle;\n",
              "    }\n",
              "\n",
              "    .dataframe tbody tr th {\n",
              "        vertical-align: top;\n",
              "    }\n",
              "\n",
              "    .dataframe thead th {\n",
              "        text-align: right;\n",
              "    }\n",
              "</style>\n",
              "<table border=\"1\" class=\"dataframe\">\n",
              "  <thead>\n",
              "    <tr style=\"text-align: right;\">\n",
              "      <th></th>\n",
              "      <th>age</th>\n",
              "      <th>balance</th>\n",
              "      <th>day</th>\n",
              "      <th>duration</th>\n",
              "      <th>campaign</th>\n",
              "      <th>pdays</th>\n",
              "      <th>previous</th>\n",
              "      <th>deposit</th>\n",
              "      <th>job_admin.</th>\n",
              "      <th>job_blue-collar</th>\n",
              "      <th>...</th>\n",
              "      <th>month_jun</th>\n",
              "      <th>month_mar</th>\n",
              "      <th>month_may</th>\n",
              "      <th>month_nov</th>\n",
              "      <th>month_oct</th>\n",
              "      <th>month_sep</th>\n",
              "      <th>poutcome_failure</th>\n",
              "      <th>poutcome_other</th>\n",
              "      <th>poutcome_success</th>\n",
              "      <th>poutcome_unknown</th>\n",
              "    </tr>\n",
              "  </thead>\n",
              "  <tbody>\n",
              "    <tr>\n",
              "      <th>0</th>\n",
              "      <td>1.491505</td>\n",
              "      <td>0.252525</td>\n",
              "      <td>-1.265746</td>\n",
              "      <td>1042</td>\n",
              "      <td>-0.554168</td>\n",
              "      <td>-0.481184</td>\n",
              "      <td>-0.363260</td>\n",
              "      <td>yes</td>\n",
              "      <td>1.0</td>\n",
              "      <td>0.0</td>\n",
              "      <td>...</td>\n",
              "      <td>0.0</td>\n",
              "      <td>0.0</td>\n",
              "      <td>1.0</td>\n",
              "      <td>0.0</td>\n",
              "      <td>0.0</td>\n",
              "      <td>0.0</td>\n",
              "      <td>0.0</td>\n",
              "      <td>0.0</td>\n",
              "      <td>0.0</td>\n",
              "      <td>1.0</td>\n",
              "    </tr>\n",
              "    <tr>\n",
              "      <th>1</th>\n",
              "      <td>1.239676</td>\n",
              "      <td>-0.459974</td>\n",
              "      <td>-1.265746</td>\n",
              "      <td>1467</td>\n",
              "      <td>-0.554168</td>\n",
              "      <td>-0.481184</td>\n",
              "      <td>-0.363260</td>\n",
              "      <td>yes</td>\n",
              "      <td>1.0</td>\n",
              "      <td>0.0</td>\n",
              "      <td>...</td>\n",
              "      <td>0.0</td>\n",
              "      <td>0.0</td>\n",
              "      <td>1.0</td>\n",
              "      <td>0.0</td>\n",
              "      <td>0.0</td>\n",
              "      <td>0.0</td>\n",
              "      <td>0.0</td>\n",
              "      <td>0.0</td>\n",
              "      <td>0.0</td>\n",
              "      <td>1.0</td>\n",
              "    </tr>\n",
              "    <tr>\n",
              "      <th>2</th>\n",
              "      <td>-0.019470</td>\n",
              "      <td>-0.080160</td>\n",
              "      <td>-1.265746</td>\n",
              "      <td>1389</td>\n",
              "      <td>-0.554168</td>\n",
              "      <td>-0.481184</td>\n",
              "      <td>-0.363260</td>\n",
              "      <td>yes</td>\n",
              "      <td>0.0</td>\n",
              "      <td>0.0</td>\n",
              "      <td>...</td>\n",
              "      <td>0.0</td>\n",
              "      <td>0.0</td>\n",
              "      <td>1.0</td>\n",
              "      <td>0.0</td>\n",
              "      <td>0.0</td>\n",
              "      <td>0.0</td>\n",
              "      <td>0.0</td>\n",
              "      <td>0.0</td>\n",
              "      <td>0.0</td>\n",
              "      <td>1.0</td>\n",
              "    </tr>\n",
              "    <tr>\n",
              "      <th>3</th>\n",
              "      <td>1.155733</td>\n",
              "      <td>0.293762</td>\n",
              "      <td>-1.265746</td>\n",
              "      <td>579</td>\n",
              "      <td>-0.554168</td>\n",
              "      <td>-0.481184</td>\n",
              "      <td>-0.363260</td>\n",
              "      <td>yes</td>\n",
              "      <td>0.0</td>\n",
              "      <td>0.0</td>\n",
              "      <td>...</td>\n",
              "      <td>0.0</td>\n",
              "      <td>0.0</td>\n",
              "      <td>1.0</td>\n",
              "      <td>0.0</td>\n",
              "      <td>0.0</td>\n",
              "      <td>0.0</td>\n",
              "      <td>0.0</td>\n",
              "      <td>0.0</td>\n",
              "      <td>0.0</td>\n",
              "      <td>1.0</td>\n",
              "    </tr>\n",
              "    <tr>\n",
              "      <th>4</th>\n",
              "      <td>1.071790</td>\n",
              "      <td>-0.416876</td>\n",
              "      <td>-1.265746</td>\n",
              "      <td>673</td>\n",
              "      <td>-0.186785</td>\n",
              "      <td>-0.481184</td>\n",
              "      <td>-0.363260</td>\n",
              "      <td>yes</td>\n",
              "      <td>1.0</td>\n",
              "      <td>0.0</td>\n",
              "      <td>...</td>\n",
              "      <td>0.0</td>\n",
              "      <td>0.0</td>\n",
              "      <td>1.0</td>\n",
              "      <td>0.0</td>\n",
              "      <td>0.0</td>\n",
              "      <td>0.0</td>\n",
              "      <td>0.0</td>\n",
              "      <td>0.0</td>\n",
              "      <td>0.0</td>\n",
              "      <td>1.0</td>\n",
              "    </tr>\n",
              "    <tr>\n",
              "      <th>...</th>\n",
              "      <td>...</td>\n",
              "      <td>...</td>\n",
              "      <td>...</td>\n",
              "      <td>...</td>\n",
              "      <td>...</td>\n",
              "      <td>...</td>\n",
              "      <td>...</td>\n",
              "      <td>...</td>\n",
              "      <td>...</td>\n",
              "      <td>...</td>\n",
              "      <td>...</td>\n",
              "      <td>...</td>\n",
              "      <td>...</td>\n",
              "      <td>...</td>\n",
              "      <td>...</td>\n",
              "      <td>...</td>\n",
              "      <td>...</td>\n",
              "      <td>...</td>\n",
              "      <td>...</td>\n",
              "      <td>...</td>\n",
              "      <td>...</td>\n",
              "    </tr>\n",
              "    <tr>\n",
              "      <th>11157</th>\n",
              "      <td>-0.691015</td>\n",
              "      <td>-0.473616</td>\n",
              "      <td>0.515650</td>\n",
              "      <td>257</td>\n",
              "      <td>-0.554168</td>\n",
              "      <td>-0.481184</td>\n",
              "      <td>-0.363260</td>\n",
              "      <td>no</td>\n",
              "      <td>0.0</td>\n",
              "      <td>1.0</td>\n",
              "      <td>...</td>\n",
              "      <td>0.0</td>\n",
              "      <td>0.0</td>\n",
              "      <td>0.0</td>\n",
              "      <td>0.0</td>\n",
              "      <td>0.0</td>\n",
              "      <td>0.0</td>\n",
              "      <td>0.0</td>\n",
              "      <td>0.0</td>\n",
              "      <td>0.0</td>\n",
              "      <td>1.0</td>\n",
              "    </tr>\n",
              "    <tr>\n",
              "      <th>11158</th>\n",
              "      <td>-0.187357</td>\n",
              "      <td>-0.246658</td>\n",
              "      <td>0.040612</td>\n",
              "      <td>83</td>\n",
              "      <td>0.547981</td>\n",
              "      <td>-0.481184</td>\n",
              "      <td>-0.363260</td>\n",
              "      <td>no</td>\n",
              "      <td>0.0</td>\n",
              "      <td>0.0</td>\n",
              "      <td>...</td>\n",
              "      <td>1.0</td>\n",
              "      <td>0.0</td>\n",
              "      <td>0.0</td>\n",
              "      <td>0.0</td>\n",
              "      <td>0.0</td>\n",
              "      <td>0.0</td>\n",
              "      <td>0.0</td>\n",
              "      <td>0.0</td>\n",
              "      <td>0.0</td>\n",
              "      <td>1.0</td>\n",
              "    </tr>\n",
              "    <tr>\n",
              "      <th>11159</th>\n",
              "      <td>-0.774958</td>\n",
              "      <td>-0.464934</td>\n",
              "      <td>0.396891</td>\n",
              "      <td>156</td>\n",
              "      <td>-0.186785</td>\n",
              "      <td>-0.481184</td>\n",
              "      <td>-0.363260</td>\n",
              "      <td>no</td>\n",
              "      <td>0.0</td>\n",
              "      <td>0.0</td>\n",
              "      <td>...</td>\n",
              "      <td>0.0</td>\n",
              "      <td>0.0</td>\n",
              "      <td>0.0</td>\n",
              "      <td>0.0</td>\n",
              "      <td>0.0</td>\n",
              "      <td>0.0</td>\n",
              "      <td>0.0</td>\n",
              "      <td>0.0</td>\n",
              "      <td>0.0</td>\n",
              "      <td>1.0</td>\n",
              "    </tr>\n",
              "    <tr>\n",
              "      <th>11160</th>\n",
              "      <td>0.148416</td>\n",
              "      <td>-0.473926</td>\n",
              "      <td>-0.909466</td>\n",
              "      <td>9</td>\n",
              "      <td>-0.186785</td>\n",
              "      <td>1.109571</td>\n",
              "      <td>1.818332</td>\n",
              "      <td>no</td>\n",
              "      <td>0.0</td>\n",
              "      <td>0.0</td>\n",
              "      <td>...</td>\n",
              "      <td>0.0</td>\n",
              "      <td>0.0</td>\n",
              "      <td>1.0</td>\n",
              "      <td>0.0</td>\n",
              "      <td>0.0</td>\n",
              "      <td>0.0</td>\n",
              "      <td>1.0</td>\n",
              "      <td>0.0</td>\n",
              "      <td>0.0</td>\n",
              "      <td>0.0</td>\n",
              "    </tr>\n",
              "    <tr>\n",
              "      <th>11161</th>\n",
              "      <td>-0.607072</td>\n",
              "      <td>-0.473926</td>\n",
              "      <td>-0.790707</td>\n",
              "      <td>628</td>\n",
              "      <td>-0.554168</td>\n",
              "      <td>-0.481184</td>\n",
              "      <td>-0.363260</td>\n",
              "      <td>no</td>\n",
              "      <td>0.0</td>\n",
              "      <td>0.0</td>\n",
              "      <td>...</td>\n",
              "      <td>0.0</td>\n",
              "      <td>0.0</td>\n",
              "      <td>0.0</td>\n",
              "      <td>0.0</td>\n",
              "      <td>0.0</td>\n",
              "      <td>0.0</td>\n",
              "      <td>0.0</td>\n",
              "      <td>0.0</td>\n",
              "      <td>0.0</td>\n",
              "      <td>1.0</td>\n",
              "    </tr>\n",
              "  </tbody>\n",
              "</table>\n",
              "<p>11162 rows × 52 columns</p>\n",
              "</div>\n",
              "      <button class=\"colab-df-convert\" onclick=\"convertToInteractive('df-507e4860-f2ee-450a-9788-86fd9b174b67')\"\n",
              "              title=\"Convert this dataframe to an interactive table.\"\n",
              "              style=\"display:none;\">\n",
              "        \n",
              "  <svg xmlns=\"http://www.w3.org/2000/svg\" height=\"24px\"viewBox=\"0 0 24 24\"\n",
              "       width=\"24px\">\n",
              "    <path d=\"M0 0h24v24H0V0z\" fill=\"none\"/>\n",
              "    <path d=\"M18.56 5.44l.94 2.06.94-2.06 2.06-.94-2.06-.94-.94-2.06-.94 2.06-2.06.94zm-11 1L8.5 8.5l.94-2.06 2.06-.94-2.06-.94L8.5 2.5l-.94 2.06-2.06.94zm10 10l.94 2.06.94-2.06 2.06-.94-2.06-.94-.94-2.06-.94 2.06-2.06.94z\"/><path d=\"M17.41 7.96l-1.37-1.37c-.4-.4-.92-.59-1.43-.59-.52 0-1.04.2-1.43.59L10.3 9.45l-7.72 7.72c-.78.78-.78 2.05 0 2.83L4 21.41c.39.39.9.59 1.41.59.51 0 1.02-.2 1.41-.59l7.78-7.78 2.81-2.81c.8-.78.8-2.07 0-2.86zM5.41 20L4 18.59l7.72-7.72 1.47 1.35L5.41 20z\"/>\n",
              "  </svg>\n",
              "      </button>\n",
              "      \n",
              "  <style>\n",
              "    .colab-df-container {\n",
              "      display:flex;\n",
              "      flex-wrap:wrap;\n",
              "      gap: 12px;\n",
              "    }\n",
              "\n",
              "    .colab-df-convert {\n",
              "      background-color: #E8F0FE;\n",
              "      border: none;\n",
              "      border-radius: 50%;\n",
              "      cursor: pointer;\n",
              "      display: none;\n",
              "      fill: #1967D2;\n",
              "      height: 32px;\n",
              "      padding: 0 0 0 0;\n",
              "      width: 32px;\n",
              "    }\n",
              "\n",
              "    .colab-df-convert:hover {\n",
              "      background-color: #E2EBFA;\n",
              "      box-shadow: 0px 1px 2px rgba(60, 64, 67, 0.3), 0px 1px 3px 1px rgba(60, 64, 67, 0.15);\n",
              "      fill: #174EA6;\n",
              "    }\n",
              "\n",
              "    [theme=dark] .colab-df-convert {\n",
              "      background-color: #3B4455;\n",
              "      fill: #D2E3FC;\n",
              "    }\n",
              "\n",
              "    [theme=dark] .colab-df-convert:hover {\n",
              "      background-color: #434B5C;\n",
              "      box-shadow: 0px 1px 3px 1px rgba(0, 0, 0, 0.15);\n",
              "      filter: drop-shadow(0px 1px 2px rgba(0, 0, 0, 0.3));\n",
              "      fill: #FFFFFF;\n",
              "    }\n",
              "  </style>\n",
              "\n",
              "      <script>\n",
              "        const buttonEl =\n",
              "          document.querySelector('#df-507e4860-f2ee-450a-9788-86fd9b174b67 button.colab-df-convert');\n",
              "        buttonEl.style.display =\n",
              "          google.colab.kernel.accessAllowed ? 'block' : 'none';\n",
              "\n",
              "        async function convertToInteractive(key) {\n",
              "          const element = document.querySelector('#df-507e4860-f2ee-450a-9788-86fd9b174b67');\n",
              "          const dataTable =\n",
              "            await google.colab.kernel.invokeFunction('convertToInteractive',\n",
              "                                                     [key], {});\n",
              "          if (!dataTable) return;\n",
              "\n",
              "          const docLinkHtml = 'Like what you see? Visit the ' +\n",
              "            '<a target=\"_blank\" href=https://colab.research.google.com/notebooks/data_table.ipynb>data table notebook</a>'\n",
              "            + ' to learn more about interactive tables.';\n",
              "          element.innerHTML = '';\n",
              "          dataTable['output_type'] = 'display_data';\n",
              "          await google.colab.output.renderOutput(dataTable, element);\n",
              "          const docLink = document.createElement('div');\n",
              "          docLink.innerHTML = docLinkHtml;\n",
              "          element.appendChild(docLink);\n",
              "        }\n",
              "      </script>\n",
              "    </div>\n",
              "  </div>\n",
              "  "
            ]
          },
          "metadata": {},
          "execution_count": 46
        }
      ]
    },
    {
      "cell_type": "markdown",
      "source": [
        "#3.3. Apply **Decision tree, Random forest, kNN, NaïveBayes** to preproceed dataset in the previous steps. Then compare the obtained results using **accuracy, precision, recall, f1** measures."
      ],
      "metadata": {
        "id": "K2Si6d69d1nh"
      }
    },
    {
      "cell_type": "code",
      "source": [
        "data_encoded['deposit']= data_encoded['deposit'].map({'yes':1, 'no':0})\n",
        "x_train, x_test, y_train, y_test = train_test_split(data_encoded.drop(['deposit'],axis=1), data_encoded['deposit'], test_size=0.3, random_state=1)\n",
        "data_encoded\n",
        "y_train"
      ],
      "metadata": {
        "id": "Ouil-cf_d8jW",
        "colab": {
          "base_uri": "https://localhost:8080/"
        },
        "outputId": "80721ff5-f1fa-49b5-c796-9ed8321fb3b0"
      },
      "execution_count": 47,
      "outputs": [
        {
          "output_type": "execute_result",
          "data": {
            "text/plain": [
              "2506     1\n",
              "368      1\n",
              "2827     1\n",
              "9197     0\n",
              "9910     0\n",
              "        ..\n",
              "7813     0\n",
              "10955    0\n",
              "905      1\n",
              "5192     1\n",
              "235      1\n",
              "Name: deposit, Length: 7813, dtype: int64"
            ]
          },
          "metadata": {},
          "execution_count": 47
        }
      ]
    },
    {
      "cell_type": "code",
      "source": [
        "# decision Tree\n",
        "clf = DecisionTreeClassifier(random_state=42)\n",
        "clf.fit(x_train, y_train)\n",
        "y_predict = clf.predict(x_test)\n",
        "tree_ac = metrics.accuracy_score(y_test, y_predict)\n",
        "tree_ps = metrics.precision_score(y_test, y_predict)\n",
        "tree_rs = metrics.recall_score(y_test, y_predict)\n",
        "tree_fs = metrics.f1_score(y_test, y_predict)\n",
        "\n",
        "print('Accuracy:',tree_ac)\n",
        "print('Precision:',tree_ps)\n",
        "print('Recall:',tree_rs)\n",
        "print('F1:',tree_fs)\n",
        "\n",
        "metrics.confusion_matrix(y_test, y_predict)\n",
        "metrics.ConfusionMatrixDisplay.from_predictions(y_test, y_predict)\n",
        "metrics.classification_report(y_test,y_predict)"
      ],
      "metadata": {
        "colab": {
          "base_uri": "https://localhost:8080/",
          "height": 386
        },
        "id": "fO1qzbTBSd2x",
        "outputId": "1c080060-5569-49af-e643-847e00a97786"
      },
      "execution_count": 48,
      "outputs": [
        {
          "output_type": "stream",
          "name": "stdout",
          "text": [
            "Accuracy: 0.7975515079128098\n",
            "Precision: 0.7830950901180858\n",
            "Recall: 0.7929515418502202\n",
            "F1: 0.7879924953095685\n"
          ]
        },
        {
          "output_type": "execute_result",
          "data": {
            "text/plain": [
              "'              precision    recall  f1-score   support\\n\\n           0       0.81      0.80      0.81      1760\\n           1       0.78      0.79      0.79      1589\\n\\n    accuracy                           0.80      3349\\n   macro avg       0.80      0.80      0.80      3349\\nweighted avg       0.80      0.80      0.80      3349\\n'"
            ],
            "application/vnd.google.colaboratory.intrinsic+json": {
              "type": "string"
            }
          },
          "metadata": {},
          "execution_count": 48
        },
        {
          "output_type": "display_data",
          "data": {
            "text/plain": [
              "<Figure size 432x288 with 2 Axes>"
            ],
            "image/png": "[encoded data removed]"
          },
          "metadata": {
            "needs_background": "light"
          }
        }
      ]
    },
    {
      "cell_type": "markdown",
      "source": [
        "#3.4. Using selection feature to above dataset, then compare the classification results with those in Task 2.3. "
      ],
      "metadata": {
        "id": "SweVRB4meApP"
      }
    },
    {
      "cell_type": "code",
      "source": [
        "scaler = MinMaxScaler()\n",
        "x_train = scaler.fit_transform(x_train)\n",
        "clf = SelectKBest(chi2, k=40)\n",
        "X_train_selected = clf.fit_transform(x_train, y_train)\n",
        "X_test_selected = clf.transform(x_test)\n",
        "\n",
        "ga_ac = metrics.accuracy_score(y_test, y_predict)\n",
        "ga_ps = metrics.precision_score(y_test, y_predict)\n",
        "ga_rs = metrics.recall_score(y_test, y_predict)\n",
        "ga_fs = metrics.f1_score(y_test, y_predict)\n",
        "\n",
        "print('Accuracy:',ga_ac)\n",
        "print('Precision:',ga_ps)\n",
        "print('Recall:',ga_rs)\n",
        "print('F1:',ga_fs)\n",
        "print(metrics.confusion_matrix(y_test, y_predict))\n",
        "print(metrics.ConfusionMatrixDisplay.from_predictions(y_test, y_predict))\n",
        "print(metrics.classification_report(y_test,y_predict))\n",
        "\n",
        "print(metrics.classification_report(y_test, y_predict))\n",
        "ga = naive_bayes.GaussianNB()\n",
        "ga.fit(X_train_selected, y_train)\n",
        "y_predict = ga.predict(X_test_selected)\n",
        "print(y_predict)"
      ],
      "metadata": {
        "id": "seFBhqCSeC7C",
        "colab": {
          "base_uri": "https://localhost:8080/",
          "height": 767
        },
        "outputId": "840b706c-ccb2-4328-c217-0918c5d33720"
      },
      "execution_count": 49,
      "outputs": [
        {
          "output_type": "stream",
          "name": "stderr",
          "text": [
            "/usr/local/lib/python3.9/dist-packages/sklearn/base.py:432: UserWarning: X has feature names, but SelectKBest was fitted without feature names\n",
            "  warnings.warn(\n"
          ]
        },
        {
          "output_type": "stream",
          "name": "stdout",
          "text": [
            "Accuracy: 0.7975515079128098\n",
            "Precision: 0.7830950901180858\n",
            "Recall: 0.7929515418502202\n",
            "F1: 0.7879924953095685\n",
            "[[1411  349]\n",
            " [ 329 1260]]\n",
            "<sklearn.metrics._plot.confusion_matrix.ConfusionMatrixDisplay object at 0x7f452ee5c5e0>\n",
            "              precision    recall  f1-score   support\n",
            "\n",
            "           0       0.81      0.80      0.81      1760\n",
            "           1       0.78      0.79      0.79      1589\n",
            "\n",
            "    accuracy                           0.80      3349\n",
            "   macro avg       0.80      0.80      0.80      3349\n",
            "weighted avg       0.80      0.80      0.80      3349\n",
            "\n",
            "              precision    recall  f1-score   support\n",
            "\n",
            "           0       0.81      0.80      0.81      1760\n",
            "           1       0.78      0.79      0.79      1589\n",
            "\n",
            "    accuracy                           0.80      3349\n",
            "   macro avg       0.80      0.80      0.80      3349\n",
            "weighted avg       0.80      0.80      0.80      3349\n",
            "\n",
            "[1 1 1 ... 1 1 1]\n"
          ]
        },
        {
          "output_type": "display_data",
          "data": {
            "text/plain": [
              "<Figure size 432x288 with 2 Axes>"
            ],
            "image/png": "[encoded data removed]"
          },
          "metadata": {
            "needs_background": "light"
          }
        }
      ]
    },
    {
      "cell_type": "markdown",
      "source": [
        "#Task 4. \n",
        "For a given dataset in the Lab #5 (**credit card dataset**), perform feature selection and thencompare the performance of selected classification algorithms (Decision Tree, kNN, Logistic Regression, SVM, Random Forest and NaiveBayes) based on accuracy, precision, recall, f1 measures.\n"
      ],
      "metadata": {
        "id": "Z5pp7_h-aP2u"
      }
    },
    {
      "cell_type": "code",
      "source": [
        "# unzip\n",
        "\n",
        "!unzip creditcard.csv.zip"
      ],
      "metadata": {
        "id": "Rw_-8FIf2KxW",
        "colab": {
          "base_uri": "https://localhost:8080/"
        },
        "outputId": "a50930f7-a4d6-4668-841d-55098da947f1"
      },
      "execution_count": null,
      "outputs": [
        {
          "output_type": "stream",
          "name": "stdout",
          "text": [
            "Archive:  creditcard.csv.zip\n",
            "  inflating: creditcard.csv          \n"
          ]
        }
      ]
    },
    {
      "cell_type": "code",
      "source": [
        "#Loading data\n",
        "\n",
        "dataset = pd.read_csv('creditcard.csv')\n",
        "X = dataset.drop('Class', axis=1)\n",
        "y = dataset['Class']\n",
        "#Chuan hoa du lieu\n",
        "scaler = StandardScaler()\n",
        "X_scaled = scaler.fit_transform(X)\n",
        "x_train, x_test, y_train, y_test = train_test_split(X_scaled, y,test_size=0.03,train_size=0.22, random_state=1)"
      ],
      "metadata": {
        "id": "mfPmmCT3QMgL"
      },
      "execution_count": 34,
      "outputs": []
    },
    {
      "cell_type": "code",
      "source": [
        "#SVC\n",
        "clf = SVC().fit(x_train, y_train)\n",
        "y_predict = clf.predict(x_test)\n",
        "svm_ac = metrics.accuracy_score(y_test, y_predict)\n",
        "svm_ps = metrics.precision_score(y_test, y_predict, average='macro')\n",
        "svm_rs = metrics.recall_score(y_test, y_predict, average='macro')\n",
        "svm_fs = metrics.f1_score(y_test, y_predict, average='macro')\n",
        "\n",
        "print('Accuracy:',svm_ac)\n",
        "print('Precision:',svm_ps)\n",
        "print('Recall:',svm_rs)\n",
        "print('F1:',svm_fs)\n",
        "print(metrics.confusion_matrix(y_test, y_predict))\n",
        "print(metrics.ConfusionMatrixDisplay.from_predictions(y_test, y_predict))\n",
        "print(metrics.classification_report(y_test,y_predict))"
      ],
      "metadata": {
        "colab": {
          "base_uri": "https://localhost:8080/",
          "height": 557
        },
        "id": "pdRpncdVRGHa",
        "outputId": "90f4e663-471a-4d47-a6a1-f9b26c2ec7b6"
      },
      "execution_count": 35,
      "outputs": [
        {
          "output_type": "stream",
          "name": "stdout",
          "text": [
            "Accuracy: 0.9992978349912229\n",
            "Precision: 0.9441515672185775\n",
            "Recall: 0.8076337047856035\n",
            "F1: 0.863460596118201\n",
            "[[8531    1]\n",
            " [   5    8]]\n",
            "<sklearn.metrics._plot.confusion_matrix.ConfusionMatrixDisplay object at 0x7f4574117850>\n",
            "              precision    recall  f1-score   support\n",
            "\n",
            "           0       1.00      1.00      1.00      8532\n",
            "           1       0.89      0.62      0.73        13\n",
            "\n",
            "    accuracy                           1.00      8545\n",
            "   macro avg       0.94      0.81      0.86      8545\n",
            "weighted avg       1.00      1.00      1.00      8545\n",
            "\n"
          ]
        },
        {
          "output_type": "display_data",
          "data": {
            "text/plain": [
              "<Figure size 432x288 with 2 Axes>"
            ],
            "image/png": "[encoded data removed]"
          },
          "metadata": {
            "needs_background": "light"
          }
        }
      ]
    },
    {
      "cell_type": "code",
      "source": [
        "#KNN\n",
        "acc=[]\n",
        "prec =[]\n",
        "recall=[]\n",
        "f1=[]\n",
        "k_range = range(1,8,2)\n",
        "for k in k_range:\n",
        "  KNN = KNeighborsClassifier(n_neighbors=k)\n",
        "  KNN.fit(x_train, y_train)\n",
        "  pred = KNN.predict(x_test)\n",
        "  acc.append(metrics.accuracy_score(y_test, pred))\n",
        "  prec.append(metrics.precision_score(y_test, pred, average='macro'))\n",
        "  recall.append( metrics.recall_score(y_test, pred, average='macro'))\n",
        "  f1.append(metrics.f1_score(y_test, pred, average='macro'))\n",
        "  metrics.ConfusionMatrixDisplay.from_predictions(y_test, y_predict)\n"
      ],
      "metadata": {
        "colab": {
          "base_uri": "https://localhost:8080/",
          "height": 1000
        },
        "id": "AQvqpIoxShCU",
        "outputId": "f57e7238-e43b-4728-ada6-f30c60bd2f8a"
      },
      "execution_count": 37,
      "outputs": [
        {
          "output_type": "display_data",
          "data": {
            "text/plain": [
              "<Figure size 432x288 with 2 Axes>"
            ],
            "image/png": "[encoded data removed]"
          },
          "metadata": {
            "needs_background": "light"
          }
        },
        {
          "output_type": "display_data",
          "data": {
            "text/plain": [
              "<Figure size 432x288 with 2 Axes>"
            ],
            "image/png": "[encoded data removed]"
          },
          "metadata": {
            "needs_background": "light"
          }
        },
        {
          "output_type": "display_data",
          "data": {
            "text/plain": [
              "<Figure size 432x288 with 2 Axes>"
            ],
            "image/png": "[encoded data removed]"
          },
          "metadata": {
            "needs_background": "light"
          }
        },
        {
          "output_type": "display_data",
          "data": {
            "text/plain": [
              "<Figure size 432x288 with 2 Axes>"
            ],
            "image/png": "[encoded data removed]"
          },
          "metadata": {
            "needs_background": "light"
          }
        }
      ]
    },
    {
      "cell_type": "code",
      "source": [
        "#logistic regression\n",
        "logistic = LogisticRegression(random_state=1)\n",
        "logistic.fit(x_train, y_train) \n",
        "y_predict = logistic.predict(x_test)\n",
        "ac = metrics.accuracy_score(y_test, y_predict)\n",
        "ps = metrics.precision_score(y_test, y_predict, average='macro')\n",
        "rs = metrics.recall_score(y_test, y_predict, average='macro')\n",
        "fs = metrics.f1_score(y_test, y_predict, average='macro')\n",
        "\n",
        "print('Accuracy:',ac)\n",
        "print('Precision:',ps)\n",
        "print('Recall:',rs)\n",
        "print('F1:',fs)\n",
        "print(metrics.confusion_matrix(y_test, y_predict))\n",
        "print(metrics.ConfusionMatrixDisplay.from_predictions(y_test, y_predict))\n",
        "print(metrics.classification_report(y_test,y_predict))"
      ],
      "metadata": {
        "colab": {
          "base_uri": "https://localhost:8080/",
          "height": 557
        },
        "id": "Fic2Y6kxS-QK",
        "outputId": "fa0b75da-58cd-41c8-a28d-bc639d628172"
      },
      "execution_count": 38,
      "outputs": [
        {
          "output_type": "stream",
          "name": "stdout",
          "text": [
            "Accuracy: 0.9988297249853716\n",
            "Precision: 0.8178302831454929\n",
            "Recall: 0.7689963576039525\n",
            "F1: 0.7913736864721278\n",
            "[[8528    4]\n",
            " [   6    7]]\n",
            "<sklearn.metrics._plot.confusion_matrix.ConfusionMatrixDisplay object at 0x7f452f062d30>\n",
            "              precision    recall  f1-score   support\n",
            "\n",
            "           0       1.00      1.00      1.00      8532\n",
            "           1       0.64      0.54      0.58        13\n",
            "\n",
            "    accuracy                           1.00      8545\n",
            "   macro avg       0.82      0.77      0.79      8545\n",
            "weighted avg       1.00      1.00      1.00      8545\n",
            "\n"
          ]
        },
        {
          "output_type": "display_data",
          "data": {
            "text/plain": [
              "<Figure size 432x288 with 2 Axes>"
            ],
            "image/png": "[encoded data removed]"
          },
          "metadata": {
            "needs_background": "light"
          }
        }
      ]
    },
    {
      "cell_type": "code",
      "source": [
        "#Random forest\n",
        "\n",
        "clf_ran=RandomForestClassifier(n_estimators=100)\n",
        "\n",
        "clf_ran.fit(x_train,y_train)\n",
        "y_pred_ran = clf_ran.predict(x_test)\n",
        "\n",
        "accs_ran=round(metrics.accuracy_score(y_test, y_pred_ran), 4)\n",
        "pre_ran=round(metrics.precision_score(y_test, y_pred_ran, average='micro'), 4)\n",
        "recall_ran=round(metrics.recall_score(y_test, y_pred_ran, average='micro'), 4)\n",
        "f1_ran=round(metrics.f1_score(y_test, y_pred_ran, average='micro'), 4)\n",
        "\n",
        "print('Accuracy: ', accs_ran)\n",
        "print('Precision: ', pre_ran)\n",
        "print('Recall: ', recall_ran)\n",
        "print('F1: ', f1_ran)\n",
        "\n",
        "metrics.ConfusionMatrixDisplay.from_estimator(clf_ran, x_test, y_test)"
      ],
      "metadata": {
        "colab": {
          "base_uri": "https://localhost:8080/",
          "height": 366
        },
        "id": "Me_Gyp1zVPT0",
        "outputId": "93a723c7-f6f7-4f10-d5c4-138e88405084"
      },
      "execution_count": 39,
      "outputs": [
        {
          "output_type": "stream",
          "name": "stdout",
          "text": [
            "Accuracy:  0.9992\n",
            "Precision:  0.9992\n",
            "Recall:  0.9992\n",
            "F1:  0.9992\n"
          ]
        },
        {
          "output_type": "execute_result",
          "data": {
            "text/plain": [
              "<sklearn.metrics._plot.confusion_matrix.ConfusionMatrixDisplay at 0x7f4534428a90>"
            ]
          },
          "metadata": {},
          "execution_count": 39
        },
        {
          "output_type": "display_data",
          "data": {
            "text/plain": [
              "<Figure size 432x288 with 2 Axes>"
            ],
            "image/png": "[encoded data removed]"
          },
          "metadata": {
            "needs_background": "light"
          }
        }
      ]
    },
    {
      "cell_type": "code",
      "source": [
        "#NaiveBayes\n",
        "# 1. GaussianNB\n",
        "model = naive_bayes.GaussianNB().fit(x_train, y_train)\n",
        "y_pred_Gau = model.predict(x_test)\n",
        "\n",
        "accs_Gau=round(metrics.accuracy_score(y_test, y_pred_Gau), 4)\n",
        "pre_Gau=round(metrics.precision_score(y_test, y_pred_Gau, average='micro'), 4)\n",
        "recall_Gau=round(metrics.recall_score(y_test, y_pred_Gau, average='micro'), 4)\n",
        "f1_Gau=round(metrics.f1_score(y_test, y_pred_Gau, average='micro'), 4)\n",
        "\n",
        "# 2. CategoricalNB\n",
        "# model = naive_bayes.CategoricalNB().fit(x_train, y_train)\n",
        "# y_pred_cat = model.predict(x_test)\n",
        "\n",
        "# accs_cat=round(metrics.accuracy_score(y_test, y_pred_cat), 4)\n",
        "# pre_cat=round(metrics.precision_score(y_test, y_pred_cat, average='micro'), 4)\n",
        "# recall_cat=round(metrics.recall_score(y_test, y_pred_cat, average='micro'), 4)\n",
        "# f1_cat=round(metrics.f1_score(y_test, y_pred_cat, average='micro'), 4)\n",
        "\n",
        "# 3. BernoulliNB\n",
        "model_ber = naive_bayes.BernoulliNB().fit(x_train, y_train)\n",
        "y_pred_ber = model_ber.predict(x_test)\n",
        "\n",
        "accs_ber=round(metrics.accuracy_score(y_test, y_pred_ber), 4)\n",
        "pre_ber=round(metrics.precision_score(y_test, y_pred_ber, average='micro'), 4)\n",
        "recall_ber=round(metrics.recall_score(y_test, y_pred_ber, average='micro'), 4)\n",
        "f1_ber=round(metrics.f1_score(y_test, y_pred_ber, average='micro'), 4)\n",
        "\n",
        "# 4. MultinomialNB\n",
        "# model_mul = naive_bayes.MultinomialNB().fit(x_train, y_train)\n",
        "# y_pred_mul = model_ber.predict(x_test)\n",
        "\n",
        "# accs_mul=round(metrics.accuracy_score(y_test, y_pred_mul), 4)\n",
        "# pre_mul=round(metrics.precision_score(y_test, y_pred_mul, average='micro'), 4)\n",
        "# recall_mul=round(metrics.recall_score(y_test, y_pred_mul, average='micro'), 4)\n",
        "# f1_mul=round(metrics.f1_score(y_test, y_pred_mul, average='micro'), 4)\n",
        "\n",
        "#table\n",
        "tab = PrettyTable()\n",
        "tab.field_names =[\"name\",\"Accuracy\",\"Precision\",\"Recall\",\"F1\"]\n",
        "\n",
        "tab.add_row([\"GaussiaNB\", accs_Gau, pre_Gau, recall_Gau, f1_Gau])\n",
        "# tab.add_row([\"CategoricalB\", accs_cat, pre_cat, recall_cat, f1_cat])\n",
        "# tab.add_row([\"BeroulliNB\", accs_ber, pre_ber, recall_ber, f1_ber])\n",
        "tab.add_row([\"MultinomalNB\", accs_mul, pre_mul, recall_mul, f1_mul])\n",
        "\n",
        "print(tab)"
      ],
      "metadata": {
        "colab": {
          "base_uri": "https://localhost:8080/"
        },
        "id": "ZZ6P1WuKVxYS",
        "outputId": "0a789cae-c818-46e5-a66e-0f373ac124d7"
      },
      "execution_count": 43,
      "outputs": [
        {
          "output_type": "stream",
          "name": "stdout",
          "text": [
            "+--------------+----------+-----------+--------+--------+\n",
            "|     name     | Accuracy | Precision | Recall |   F1   |\n",
            "+--------------+----------+-----------+--------+--------+\n",
            "|  GaussiaNB   |  0.9739  |   0.9739  | 0.9739 | 0.9739 |\n",
            "| MultinomalNB |  0.8289  |   0.8289  | 0.8289 | 0.8289 |\n",
            "+--------------+----------+-----------+--------+--------+\n"
          ]
        }
      ]
    },
    {
      "cell_type": "markdown",
      "source": [
        "#Finally,\n",
        "Save a copy in your Github. Remember renaming the notebook."
      ],
      "metadata": {
        "id": "Ok7RGkea_b7n"
      }
    }
  ]
}